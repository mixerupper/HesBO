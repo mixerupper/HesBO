{
 "cells": [
  {
   "cell_type": "code",
   "execution_count": 1,
   "metadata": {},
   "outputs": [],
   "source": [
    "import numpy as np\n",
    "import pandas as pd\n",
    "import matplotlib.pyplot as plt\n",
    "import math as math\n",
    "import torch\n",
    "import test_fn"
   ]
  },
  {
   "cell_type": "markdown",
   "metadata": {},
   "source": [
    "Branin Function:\n",
    "\\begin{align*}\n",
    "f&:([-5,10]\\times [0,15]) \\rightarrow \\mathbb{R}\\\\\n",
    "f(x)&=a(x_2 - bx_1^2 + cx_1 - r)^2 + s(1-t)cos(x_1) + s\n",
    "\\end{align*}\n",
    "\n",
    "Recommended values:\n",
    "\\begin{align*}\n",
    "a &= 1\\\\\n",
    "b &= \\frac{5.1}{4\\pi^2}\\\\\n",
    "c &= \\frac{5}{\\pi}\\\\\n",
    "r &= 6\\\\\n",
    "s &= 10\\\\\n",
    "t &= \\frac{1}{8\\pi}\n",
    "\\end{align*}"
   ]
  },
  {
   "cell_type": "code",
   "execution_count": null,
   "metadata": {},
   "outputs": [],
   "source": []
  },
  {
   "cell_type": "code",
   "execution_count": 72,
   "metadata": {},
   "outputs": [],
   "source": [
    "class Ackley():\n",
    "    def __init__(self, noise_var = 0):\n",
    "        self.params = {\n",
    "            'a': 20,\n",
    "            'b': 0.2,\n",
    "            'c': 2 * torch.pi\n",
    "        }\n",
    "\n",
    "    def evaluate(self, x):\n",
    "        a = self.params['a']\n",
    "        b = self.params['b']\n",
    "        c = self.params['c']\n",
    "        n = len(x)\n",
    "        \n",
    "        first_operand = -a * np.exp(np.sqrt(np.sum(x**2) / n) * -b)\n",
    "        second_operand = np.exp(np.sum(np.cos(c * x)) / n)\n",
    "\n",
    "        return first_operand - second_operand + a + np.exp(1)"
   ]
  },
  {
   "cell_type": "code",
   "execution_count": 3,
   "metadata": {},
   "outputs": [],
   "source": [
    "class Branin():\n",
    "    '''\n",
    "    Takes in an n x 2 input matrix where each row is an observation of dimension 2.\n",
    "    Outputs n x 1 output matrix where each output has dimension 1.\n",
    "    '''\n",
    "    \n",
    "    def __init__(self, noise_var=0):\n",
    "        self.range = np.array([[-5,10],\n",
    "                             [0,15]])\n",
    "        self.param = {\n",
    "            'a':1,\n",
    "            'b':5.1/(4*math.pi**2),\n",
    "            'c':5/math.pi,\n",
    "            'r':6,\n",
    "            's':10,\n",
    "            't':1/(8*math.pi)\n",
    "        }\n",
    "        \n",
    "        self.noise_var = noise_var\n",
    "        self.input_dim = 2\n",
    "        self.output_dim = 1\n",
    "\n",
    "    def scale_domain(self,x):\n",
    "        # Scaling the domain\n",
    "        x_copy = np.copy(x)\n",
    "        if len(x_copy.shape) == 1:\n",
    "            x_copy = x_copy.reshape((1, x_copy.shape[0]))\n",
    "        for i in range(len(self.range)):\n",
    "            x_copy[:, i] = x_copy[:, i] * (self.range[i, 1] - self.range[i, 0]) / 2 + (\n",
    "                        self.range[i, 1] + self.range[i, 0]) / 2\n",
    "        return x_copy\n",
    "\n",
    "    def __evaluate_single(self, x):\n",
    "        a = self.param['a']\n",
    "        b = self.param['b']\n",
    "        c = self.param['c']\n",
    "        r = self.param['r']\n",
    "        s = self.param['s']\n",
    "        t = self.param['t']\n",
    "        \n",
    "        f = a*(x[1] - b*x[1]**2 + c*x[0] - r)**2 + s*(1-t)*math.cos(x[1]) + s\n",
    "        \n",
    "        return f\n",
    "    \n",
    "    def evaluate_torch(self, x):\n",
    "        a = self.param['a']\n",
    "        b = self.param['b']\n",
    "        c = self.param['c']\n",
    "        r = self.param['r']\n",
    "        s = self.param['s']\n",
    "        t = self.param['t']\n",
    "        \n",
    "        f = a*(x[:,1] - b*x[:,1]**2 + c*x[:,0] - r)**2 + s*(1-t)*torch.cos(x[:,1]) + s\n",
    "                \n",
    "        return f\n",
    "    \n",
    "    def evaluate_true(self, x):\n",
    "        x = x.reshape(-1,self.input_dim)\n",
    "        \n",
    "        return np.apply_along_axis(self.__evaluate_single, axis = 1, arr = x)\n",
    "\n",
    "    def evaluate(self, x):\n",
    "        true_values = self.evaluate_true(x).reshape(x.shape[0],self.output_dim)\n",
    "        noise = np.random.normal(0, self.noise_var, size = (x.shape[0],self.output_dim))\n",
    "        \n",
    "        return true_values + noise"
   ]
  },
  {
   "cell_type": "code",
   "execution_count": 4,
   "metadata": {},
   "outputs": [
    {
     "data": {
      "text/plain": [
       "tensor([ 5., 10.])"
      ]
     },
     "execution_count": 4,
     "metadata": {},
     "output_type": "execute_result"
    }
   ],
   "source": [
    "torch.concat([torch.tensor([]),torch.tensor([5]),torch.tensor([10])])"
   ]
  },
  {
   "cell_type": "markdown",
   "metadata": {},
   "source": [
    "# Draw sample inputs"
   ]
  },
  {
   "cell_type": "markdown",
   "metadata": {},
   "source": [
    "# Train simple MLP to twist inputs into desired space\n",
    "In this case, we're twisting into (a) a same-dimensional space, (b) a lower dimensional space, and (c) a higher dimensional space, just for context in results."
   ]
  },
  {
   "cell_type": "code",
   "execution_count": 5,
   "metadata": {},
   "outputs": [],
   "source": [
    "n = 100\n",
    "x1_sample = np.random.uniform(low = -5, high = 10, size = n)\n",
    "x2_sample = np.random.uniform(low = 0, high = 15, size = n)"
   ]
  },
  {
   "cell_type": "code",
   "execution_count": 9,
   "metadata": {},
   "outputs": [],
   "source": [
    "b = Branin()\n",
    "X_sample = np.array([x1_sample,x2_sample]).reshape(-1,2)\n",
    "y_sample = b.evaluate(X_sample)"
   ]
  },
  {
   "cell_type": "code",
   "execution_count": 10,
   "metadata": {},
   "outputs": [
    {
     "name": "stdout",
     "output_type": "stream",
     "text": [
      "Max:[303.06241092], Min:[6.0910223]\n",
      "Use for calibrating the actual y-values\n"
     ]
    }
   ],
   "source": [
    "max_y_sample = torch.tensor(max(y_sample))\n",
    "min_y_sample = torch.tensor(min(y_sample))\n",
    "\n",
    "print(f\"Max:{max(y_sample)}, Min:{min(y_sample)}\")\n",
    "print(\"Use for calibrating the actual y-values\")"
   ]
  },
  {
   "cell_type": "code",
   "execution_count": 11,
   "metadata": {},
   "outputs": [
    {
     "data": {
      "text/plain": [
       "tensor([303.0624], dtype=torch.float64)"
      ]
     },
     "execution_count": 11,
     "metadata": {},
     "output_type": "execute_result"
    }
   ],
   "source": [
    "torch.tensor(max(y_sample))"
   ]
  },
  {
   "cell_type": "code",
   "execution_count": 22,
   "metadata": {},
   "outputs": [],
   "source": [
    "x1 = torch.rand(n) * 2 - 1\n",
    "x2 = torch.rand(n) * 2 - 1\n",
    "X = torch.concat([x1.reshape(-1,1), x2.reshape(-1,1)], dim = 1)\n",
    "y = torch.tensor(b.evaluate(X))"
   ]
  },
  {
   "cell_type": "code",
   "execution_count": 23,
   "metadata": {},
   "outputs": [],
   "source": [
    "X = X.float()\n",
    "y = y.float()"
   ]
  },
  {
   "cell_type": "code",
   "execution_count": 24,
   "metadata": {},
   "outputs": [
    {
     "name": "stdout",
     "output_type": "stream",
     "text": [
      "X shape:torch.Size([100, 2]). y shape: torch.Size([100, 1])\n"
     ]
    }
   ],
   "source": [
    "print(f\"X shape:{X.shape}. y shape: {y.shape}\")"
   ]
  },
  {
   "cell_type": "code",
   "execution_count": 25,
   "metadata": {},
   "outputs": [],
   "source": [
    "import os\n",
    "import torch\n",
    "from torch import nn\n",
    "from torch.utils.data import DataLoader\n",
    "from torchvision import datasets, transforms"
   ]
  },
  {
   "cell_type": "code",
   "execution_count": 26,
   "metadata": {},
   "outputs": [],
   "source": [
    "class SimpleNetwork(nn.Module):\n",
    "    def __init__(self, input_dim, output_dim, fn):\n",
    "        super(SimpleNetwork, self).__init__()\n",
    "        self.linear_relu_stack = nn.Sequential(\n",
    "            nn.Linear(input_dim, input_dim*4),\n",
    "            nn.Tanh(),\n",
    "            nn.Linear(input_dim*4, output_dim)\n",
    "        )\n",
    "        self.fn = (x1 + x2)*(max_y_sample - min_y_sample) + min_y_sample\n",
    "\n",
    "    def forward(self, x):\n",
    "        x = self.linear_relu_stack(x)\n",
    "        x = torch.sum(x, dim = 1)\n",
    "        return x"
   ]
  },
  {
   "cell_type": "code",
   "execution_count": 27,
   "metadata": {},
   "outputs": [
    {
     "name": "stdout",
     "output_type": "stream",
     "text": [
      "Using cpu device\n"
     ]
    }
   ],
   "source": [
    "device = 'cuda' if torch.cuda.is_available() else 'cpu'\n",
    "print(f'Using {device} device')"
   ]
  },
  {
   "cell_type": "code",
   "execution_count": 28,
   "metadata": {},
   "outputs": [],
   "source": [
    "model = SimpleNetwork(input_dim = 2, output_dim = 200, fn = b)\n",
    "optimizer = torch.optim.SGD(model.parameters(), lr=1e-5, momentum=0.9)\n",
    "criterion = torch.nn.MSELoss()\n",
    "a = Branin()"
   ]
  },
  {
   "cell_type": "code",
   "execution_count": 30,
   "metadata": {},
   "outputs": [
    {
     "name": "stdout",
     "output_type": "stream",
     "text": [
      "Layer 2 weights: Parameter containing:\n",
      "tensor([[ 0.2581,  0.1143,  0.0056,  ...,  0.2669, -0.1954, -0.2674],\n",
      "        [-0.3270,  0.1050,  0.0486,  ..., -0.1244, -0.0149, -0.1125],\n",
      "        [ 0.0231,  0.1114, -0.3117,  ..., -0.3082, -0.2682,  0.1664],\n",
      "        ...,\n",
      "        [ 0.2860,  0.1823, -0.3339,  ..., -0.1168,  0.0413, -0.1010],\n",
      "        [-0.2245,  0.0146,  0.1288,  ...,  0.1895,  0.0029,  0.2033],\n",
      "        [-0.2011,  0.1737,  0.3446,  ...,  0.0470, -0.1438, -0.1075]],\n",
      "       requires_grad=True)\n"
     ]
    }
   ],
   "source": [
    "print(f\"Layer 2 weights: {model.linear_relu_stack[2].weight}\")"
   ]
  },
  {
   "cell_type": "code",
   "execution_count": 49,
   "metadata": {},
   "outputs": [
    {
     "data": {
      "text/plain": [
       "tensor([52.4806, 39.9268, 79.5650, 40.1725, 76.7146, 44.1516, 42.6937, 50.1656,\n",
       "        53.1920, 45.9787, 60.9406, 64.8860, 55.2403, 48.0090, 56.3649, 47.0781,\n",
       "        44.5381, 79.8559, 42.5877, 44.5614, 46.0385, 44.4320, 62.0268, 55.6006,\n",
       "        48.5692, 52.1786, 51.3215, 65.1167, 40.7720, 49.6470, 54.2327, 59.1713,\n",
       "        72.4725, 66.8485, 42.8287, 80.2531, 52.7735, 78.2152, 46.6956, 50.0613,\n",
       "        47.2606, 70.6202, 59.4537, 52.3826, 65.9901, 50.3221, 38.0817, 51.1881,\n",
       "        42.6852, 69.6638, 49.2945, 48.1482, 58.2510, 53.2523, 36.5243, 73.8186,\n",
       "        47.7621, 35.9020, 68.3639, 56.6267, 38.7456, 60.3730, 50.8206, 48.0086,\n",
       "        76.2703, 53.5668, 51.4371, 59.0544, 55.6461, 56.4417, 41.2829, 48.8292,\n",
       "        61.0471, 57.8089, 61.9463, 76.7924, 32.8383, 55.7798, 80.6952, 61.6781,\n",
       "        48.3043, 52.5980, 69.6243, 55.1001, 46.1341, 65.5288, 64.3684, 46.4507,\n",
       "        49.2094, 45.0830, 56.1902, 60.5274, 34.1262, 46.9553, 38.2774, 39.1461,\n",
       "        61.1303, 70.4343, 87.3101, 50.8362])"
      ]
     },
     "execution_count": 49,
     "metadata": {},
     "output_type": "execute_result"
    }
   ],
   "source": [
    "y"
   ]
  },
  {
   "cell_type": "code",
   "execution_count": 50,
   "metadata": {},
   "outputs": [
    {
     "data": {
      "text/plain": [
       "tensor([53.4534, 39.6380, 77.0883, 38.4472, 75.0314, 43.7656, 41.4632, 50.4156,\n",
       "        53.8903, 45.7611, 62.3025, 66.0893, 56.0212, 48.6027, 57.2163, 47.6397,\n",
       "        43.8731, 77.6936, 43.2527, 44.3753, 45.7102, 44.3684, 61.4044, 56.3802,\n",
       "        48.4465, 52.9681, 51.6857, 65.5949, 40.8825, 50.7751, 54.9245, 59.9985,\n",
       "        72.5483, 67.6029, 43.2685, 77.9744, 53.9752, 76.0348, 47.0282, 50.2037,\n",
       "        47.8849, 70.2574, 60.4121, 52.8520, 66.8731, 50.8384, 35.9971, 51.8220,\n",
       "        41.4559, 70.2192, 50.2778, 48.0601, 59.6094, 53.8188, 34.2691, 72.6623,\n",
       "        47.9803, 34.3597, 68.7236, 57.7402, 37.8101, 59.4896, 51.9812, 48.0214,\n",
       "        75.1413, 54.8048, 51.8802, 60.0238, 56.4462, 57.3334, 40.6758, 49.9409,\n",
       "        61.8253, 58.0268, 62.6555, 75.0386, 31.2337, 56.5711, 77.8274, 62.5699,\n",
       "        49.3454, 53.0842, 70.2157, 56.2807, 45.5975, 65.9606, 64.2595, 46.9015,\n",
       "        50.2951, 44.3102, 57.4705, 61.5542, 32.3621, 46.5821, 36.9916, 37.2361,\n",
       "        62.3815, 70.4545, 81.9108, 51.3871], grad_fn=<SumBackward1>)"
      ]
     },
     "execution_count": 50,
     "metadata": {},
     "output_type": "execute_result"
    }
   ],
   "source": [
    "y_hat"
   ]
  },
  {
   "cell_type": "code",
   "execution_count": 47,
   "metadata": {},
   "outputs": [
    {
     "name": "stdout",
     "output_type": "stream",
     "text": [
      "Min/max y-hat is:53.59, 55.48\n",
      "MSE: 141.86679077148438\n",
      "Min/max y-hat is:52.23, 56.59\n",
      "MSE: 118.98584747314453\n",
      "Min/max y-hat is:48.72, 60.68\n",
      "MSE: 83.42225646972656\n",
      "Min/max y-hat is:44.81, 64.76\n",
      "MSE: 53.59394454956055\n",
      "Min/max y-hat is:41.13, 68.28\n",
      "MSE: 32.70072937011719\n",
      "Min/max y-hat is:37.96, 71.21\n",
      "MSE: 19.50954818725586\n",
      "Min/max y-hat is:35.38, 73.54\n",
      "MSE: 11.925878524780273\n",
      "Min/max y-hat is:33.39, 75.31\n",
      "MSE: 7.9656901359558105\n",
      "Min/max y-hat is:31.94, 76.58\n",
      "MSE: 6.084530830383301\n",
      "Min/max y-hat is:30.96, 77.46\n",
      "MSE: 5.2604522705078125\n",
      "Min/max y-hat is:30.33, 78.04\n",
      "MSE: 4.912637233734131\n",
      "Min/max y-hat is:29.96, 78.41\n",
      "MSE: 4.755030155181885\n",
      "Min/max y-hat is:29.75, 78.64\n",
      "MSE: 4.664678573608398\n",
      "Min/max y-hat is:29.66, 78.78\n",
      "MSE: 4.59536600112915\n",
      "Min/max y-hat is:29.62, 78.87\n",
      "MSE: 4.532023906707764\n",
      "Min/max y-hat is:29.62, 78.94\n",
      "MSE: 4.470486640930176\n",
      "Min/max y-hat is:29.64, 78.99\n",
      "MSE: 4.409852981567383\n",
      "Min/max y-hat is:29.66, 79.04\n",
      "MSE: 4.350011348724365\n",
      "Min/max y-hat is:29.69, 79.08\n",
      "MSE: 4.290950298309326\n",
      "Min/max y-hat is:29.71, 79.12\n",
      "MSE: 4.232683181762695\n",
      "Min/max y-hat is:29.74, 79.17\n",
      "MSE: 4.175192356109619\n",
      "Min/max y-hat is:29.76, 79.21\n",
      "MSE: 4.118470668792725\n",
      "Min/max y-hat is:29.79, 79.25\n",
      "MSE: 4.062504768371582\n",
      "Min/max y-hat is:29.81, 79.30\n",
      "MSE: 4.00727653503418\n",
      "Min/max y-hat is:29.83, 79.34\n",
      "MSE: 3.9527862071990967\n",
      "Min/max y-hat is:29.85, 79.38\n",
      "MSE: 3.8990139961242676\n",
      "Min/max y-hat is:29.88, 79.43\n",
      "MSE: 3.8459527492523193\n",
      "Min/max y-hat is:29.90, 79.47\n",
      "MSE: 3.79359769821167\n",
      "Min/max y-hat is:29.92, 79.51\n",
      "MSE: 3.7419278621673584\n",
      "Min/max y-hat is:29.94, 79.55\n",
      "MSE: 3.6909470558166504\n",
      "Min/max y-hat is:29.96, 79.59\n",
      "MSE: 3.6406359672546387\n",
      "Min/max y-hat is:29.98, 79.64\n",
      "MSE: 3.590996742248535\n",
      "Min/max y-hat is:30.00, 79.68\n",
      "MSE: 3.5420098304748535\n",
      "Min/max y-hat is:30.02, 79.72\n",
      "MSE: 3.493670701980591\n",
      "Min/max y-hat is:30.05, 79.76\n",
      "MSE: 3.445974349975586\n",
      "Min/max y-hat is:30.07, 79.80\n",
      "MSE: 3.3989083766937256\n",
      "Min/max y-hat is:30.09, 79.84\n",
      "MSE: 3.3524651527404785\n",
      "Min/max y-hat is:30.11, 79.88\n",
      "MSE: 3.306643009185791\n",
      "Min/max y-hat is:30.13, 79.92\n",
      "MSE: 3.2614269256591797\n",
      "Min/max y-hat is:30.15, 79.96\n",
      "MSE: 3.2168102264404297\n",
      "Min/max y-hat is:30.17, 80.00\n",
      "MSE: 3.172795295715332\n",
      "Min/max y-hat is:30.19, 80.04\n",
      "MSE: 3.129361152648926\n",
      "Min/max y-hat is:30.21, 80.07\n",
      "MSE: 3.086508274078369\n",
      "Min/max y-hat is:30.23, 80.11\n",
      "MSE: 3.044227361679077\n",
      "Min/max y-hat is:30.25, 80.15\n",
      "MSE: 3.002514600753784\n",
      "Min/max y-hat is:30.27, 80.19\n",
      "MSE: 2.9613606929779053\n",
      "Min/max y-hat is:30.29, 80.23\n",
      "MSE: 2.9207592010498047\n",
      "Min/max y-hat is:30.31, 80.26\n",
      "MSE: 2.880708694458008\n",
      "Min/max y-hat is:30.32, 80.30\n",
      "MSE: 2.8411951065063477\n",
      "Min/max y-hat is:30.34, 80.34\n",
      "MSE: 2.8022124767303467\n",
      "Min/max y-hat is:30.36, 80.37\n",
      "MSE: 2.7637643814086914\n",
      "Min/max y-hat is:30.38, 80.41\n",
      "MSE: 2.7258358001708984\n",
      "Min/max y-hat is:30.40, 80.44\n",
      "MSE: 2.6884233951568604\n",
      "Min/max y-hat is:30.42, 80.48\n",
      "MSE: 2.651520013809204\n",
      "Min/max y-hat is:30.44, 80.52\n",
      "MSE: 2.6151211261749268\n",
      "Min/max y-hat is:30.46, 80.55\n",
      "MSE: 2.5792174339294434\n",
      "Min/max y-hat is:30.48, 80.59\n",
      "MSE: 2.5438098907470703\n",
      "Min/max y-hat is:30.49, 80.62\n",
      "MSE: 2.5088911056518555\n",
      "Min/max y-hat is:30.51, 80.66\n",
      "MSE: 2.474452257156372\n",
      "Min/max y-hat is:30.53, 80.69\n",
      "MSE: 2.440490961074829\n",
      "Min/max y-hat is:30.55, 80.72\n",
      "MSE: 2.4069981575012207\n",
      "Min/max y-hat is:30.57, 80.76\n",
      "MSE: 2.3739736080169678\n",
      "Min/max y-hat is:30.59, 80.79\n",
      "MSE: 2.3414065837860107\n",
      "Min/max y-hat is:30.61, 80.83\n",
      "MSE: 2.3092939853668213\n",
      "Min/max y-hat is:30.62, 80.86\n",
      "MSE: 2.277630567550659\n",
      "Min/max y-hat is:30.64, 80.89\n",
      "MSE: 2.246415853500366\n",
      "Min/max y-hat is:30.66, 80.92\n",
      "MSE: 2.2156386375427246\n",
      "Min/max y-hat is:30.68, 80.96\n",
      "MSE: 2.1852939128875732\n",
      "Min/max y-hat is:30.70, 80.99\n",
      "MSE: 2.1553821563720703\n",
      "Min/max y-hat is:30.71, 81.02\n",
      "MSE: 2.125892162322998\n",
      "Min/max y-hat is:30.73, 81.05\n",
      "MSE: 2.09682035446167\n",
      "Min/max y-hat is:30.75, 81.08\n",
      "MSE: 2.068164348602295\n",
      "Min/max y-hat is:30.77, 81.12\n",
      "MSE: 2.0399179458618164\n",
      "Min/max y-hat is:30.78, 81.15\n",
      "MSE: 2.0120744705200195\n",
      "Min/max y-hat is:30.80, 81.18\n",
      "MSE: 1.9846323728561401\n",
      "Min/max y-hat is:30.82, 81.21\n",
      "MSE: 1.9575870037078857\n",
      "Min/max y-hat is:30.84, 81.24\n",
      "MSE: 1.9309332370758057\n",
      "Min/max y-hat is:30.85, 81.27\n",
      "MSE: 1.9046614170074463\n",
      "Min/max y-hat is:30.87, 81.30\n",
      "MSE: 1.8787739276885986\n",
      "Min/max y-hat is:30.89, 81.33\n",
      "MSE: 1.8532634973526\n",
      "Min/max y-hat is:30.91, 81.36\n",
      "MSE: 1.828120470046997\n",
      "Min/max y-hat is:30.92, 81.39\n",
      "MSE: 1.8033485412597656\n",
      "Min/max y-hat is:30.94, 81.42\n",
      "MSE: 1.7789393663406372\n",
      "Min/max y-hat is:30.96, 81.45\n",
      "MSE: 1.754886507987976\n",
      "Min/max y-hat is:30.97, 81.48\n",
      "MSE: 1.7311919927597046\n",
      "Min/max y-hat is:30.99, 81.51\n",
      "MSE: 1.7078430652618408\n",
      "Min/max y-hat is:31.01, 81.53\n",
      "MSE: 1.684840202331543\n",
      "Min/max y-hat is:31.02, 81.56\n",
      "MSE: 1.6621795892715454\n",
      "Min/max y-hat is:31.04, 81.59\n",
      "MSE: 1.6398520469665527\n",
      "Min/max y-hat is:31.06, 81.62\n",
      "MSE: 1.6178592443466187\n",
      "Min/max y-hat is:31.07, 81.65\n",
      "MSE: 1.596192479133606\n",
      "Min/max y-hat is:31.09, 81.67\n",
      "MSE: 1.5748512744903564\n",
      "Min/max y-hat is:31.11, 81.70\n",
      "MSE: 1.5538252592086792\n",
      "Min/max y-hat is:31.12, 81.73\n",
      "MSE: 1.5331181287765503\n",
      "Min/max y-hat is:31.14, 81.76\n",
      "MSE: 1.5127177238464355\n",
      "Min/max y-hat is:31.16, 81.78\n",
      "MSE: 1.4926279783248901\n",
      "Min/max y-hat is:31.17, 81.81\n",
      "MSE: 1.4728349447250366\n",
      "Min/max y-hat is:31.19, 81.84\n",
      "MSE: 1.4533478021621704\n",
      "Min/max y-hat is:31.20, 81.86\n",
      "MSE: 1.4341511726379395\n",
      "Min/max y-hat is:31.22, 81.89\n",
      "MSE: 1.4152460098266602\n"
     ]
    }
   ],
   "source": [
    "for i in range(1000):\n",
    "    y_hat = model(X)\n",
    "    y = y.reshape(-1)\n",
    "    loss = criterion(y_hat,y)\n",
    "    optimizer.zero_grad()\n",
    "    loss.backward()\n",
    "    optimizer.step()\n",
    "    train_accuracy = torch.mean((y - y_hat)**2)\n",
    "#     print(f\"Layer 1 weights: {model.linear_relu_stack[0].weight}\")\n",
    "#     print(f\"Layer 2 weights: {model.linear_relu_stack[2].weight}\")\n",
    "    if i%10 == 0:\n",
    "        print(f\"Min/max y-hat is:{min(y_hat):.2f}, {max(y_hat):.2f}\")\n",
    "        print(f\"MSE: {train_accuracy}\")"
   ]
  },
  {
   "cell_type": "code",
   "execution_count": 70,
   "metadata": {},
   "outputs": [],
   "source": [
    "x_samp = torch.tensor([[-1,-1],[0,0],[0,1],[1,0],[1,1]]).float()\n",
    "y_hat = torch.tensor(a.evaluate(x_samp)).reshape(-1,1)\n",
    "y = model(x_samp).reshape(-1,1)"
   ]
  },
  {
   "cell_type": "code",
   "execution_count": 71,
   "metadata": {},
   "outputs": [
    {
     "data": {
      "text/plain": [
       "tensor([[-1.0000, -1.0000, 91.2392, 83.5865],\n",
       "        [ 0.0000,  0.0000, 55.6021, 56.6748],\n",
       "        [ 0.0000,  1.0000, 41.4966, 42.1808],\n",
       "        [ 1.0000,  0.0000, 39.0365, 37.1191],\n",
       "        [ 1.0000,  1.0000, 27.7029, 25.2506]], dtype=torch.float64,\n",
       "       grad_fn=<CatBackward0>)"
      ]
     },
     "execution_count": 71,
     "metadata": {},
     "output_type": "execute_result"
    }
   ],
   "source": [
    "torch.concat([x_samp, y_hat, y], dim = 1)"
   ]
  },
  {
   "cell_type": "markdown",
   "metadata": {},
   "source": [
    "# Ackley"
   ]
  },
  {
   "cell_type": "code",
   "execution_count": 161,
   "metadata": {},
   "outputs": [],
   "source": [
    "class SimpleNetwork2(nn.Module):\n",
    "    def __init__(self, input_dim, output_dim, fn):\n",
    "        super(SimpleNetwork2, self).__init__()\n",
    "        self.linear_relu_stack = nn.Sequential(\n",
    "            nn.Linear(input_dim, input_dim*2),\n",
    "            nn.ReLU(),\n",
    "            nn.Linear(input_dim*2, input_dim*4),\n",
    "            nn.ReLU(),\n",
    "            nn.Linear(input_dim*4, output_dim)\n",
    "        )\n",
    "\n",
    "    def forward(self, x):\n",
    "        x = self.linear_relu_stack(x)\n",
    "        x = torch.sum(x, dim = 1)\n",
    "        return x"
   ]
  },
  {
   "cell_type": "code",
   "execution_count": 162,
   "metadata": {},
   "outputs": [],
   "source": [
    "fn = test_fn.Ackley()\n",
    "model = SimpleNetwork2(input_dim = 2, output_dim = 200, fn = fn)\n",
    "optimizer = torch.optim.SGD(model.parameters(), lr=1e-5, momentum=0.9)\n",
    "criterion = torch.nn.MSELoss()"
   ]
  },
  {
   "cell_type": "code",
   "execution_count": 163,
   "metadata": {},
   "outputs": [],
   "source": [
    "n = 1000\n",
    "x = torch.randn((n, 2))"
   ]
  },
  {
   "cell_type": "code",
   "execution_count": 169,
   "metadata": {},
   "outputs": [
    {
     "name": "stdout",
     "output_type": "stream",
     "text": [
      "Min/max y-hat is:1.44, 4.25\n",
      "MSE: 0.1248452439904213\n",
      "Min/max y-hat is:1.32, 4.09\n",
      "MSE: 0.09115035086870193\n",
      "Min/max y-hat is:1.25, 3.97\n",
      "MSE: 0.07242860645055771\n",
      "Min/max y-hat is:1.20, 3.86\n",
      "MSE: 0.06087846681475639\n"
     ]
    }
   ],
   "source": [
    "for i in range(400):\n",
    "    y_hat = model(x)\n",
    "    with torch.no_grad():\n",
    "        y = fn.evaluate(model.linear_relu_stack(x))\n",
    "    loss = criterion(y_hat,y)\n",
    "    optimizer.zero_grad()\n",
    "    loss.backward()\n",
    "    optimizer.step()\n",
    "    train_accuracy = torch.mean((y - y_hat)**2)\n",
    "#     print(f\"Layer 1 weights: {model.linear_relu_stack[0].weight}\")\n",
    "#     print(f\"Layer 2 weights: {model.linear_relu_stack[2].weight}\")\n",
    "    if i%100 == 0:\n",
    "        print(f\"Min/max y-hat is:{min(y_hat):.2f}, {max(y_hat):.2f}\")\n",
    "        print(f\"MSE: {train_accuracy}\")"
   ]
  },
  {
   "cell_type": "code",
   "execution_count": 170,
   "metadata": {},
   "outputs": [],
   "source": [
    "x_samp = torch.tensor([[-1,-1],[-0.8,-0.8],[0,0],[0,1],[1,0],[1,1]]).float()\n",
    "with torch.no_grad():\n",
    "    y = fn.evaluate(model.linear_relu_stack(x_samp)).reshape(-1,1)\n",
    "y_hat = model(x_samp).reshape(-1,1)"
   ]
  },
  {
   "cell_type": "code",
   "execution_count": 171,
   "metadata": {},
   "outputs": [
    {
     "data": {
      "text/plain": [
       "tensor([[-1.0000, -1.0000,  2.6300,  2.4200],\n",
       "        [-0.8000, -0.8000,  2.6600,  2.4000],\n",
       "        [ 0.0000,  0.0000,  2.3000,  2.3300],\n",
       "        [ 0.0000,  1.0000,  2.2100,  2.3300],\n",
       "        [ 1.0000,  0.0000,  2.2700,  2.3300],\n",
       "        [ 1.0000,  1.0000,  2.1500,  2.3500]])"
      ]
     },
     "execution_count": 171,
     "metadata": {},
     "output_type": "execute_result"
    }
   ],
   "source": [
    "with torch.no_grad():\n",
    "    results = torch.concat([x_samp, y_hat, y], dim = 1)\n",
    "(results*100).round()/100"
   ]
  },
  {
   "cell_type": "markdown",
   "metadata": {},
   "source": [
    "# Problems\n",
    "1. Requires black box model to be differentiable\n",
    "2. Requires 70 * 1000 = 70,000 evaluations of expensive target function."
   ]
  },
  {
   "cell_type": "markdown",
   "metadata": {},
   "source": [
    "# Next Steps\n",
    "1. Try using the black box output as the y values and training a small neural net to approximate the black box function. This gets around the differentiability problem.\n",
    "2. Then, you can perform Bayes Opt in the small \"active\" subspace."
   ]
  }
 ],
 "metadata": {
  "kernelspec": {
   "display_name": "Python 3",
   "language": "python",
   "name": "python3"
  },
  "language_info": {
   "codemirror_mode": {
    "name": "ipython",
    "version": 3
   },
   "file_extension": ".py",
   "mimetype": "text/x-python",
   "name": "python",
   "nbconvert_exporter": "python",
   "pygments_lexer": "ipython3",
   "version": "3.8.8"
  },
  "toc": {
   "base_numbering": 1,
   "nav_menu": {},
   "number_sections": true,
   "sideBar": true,
   "skip_h1_title": false,
   "title_cell": "Table of Contents",
   "title_sidebar": "Contents",
   "toc_cell": false,
   "toc_position": {},
   "toc_section_display": true,
   "toc_window_display": true
  }
 },
 "nbformat": 4,
 "nbformat_minor": 2
}
