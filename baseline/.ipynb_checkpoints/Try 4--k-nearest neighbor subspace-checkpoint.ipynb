{
 "cells": [
  {
   "cell_type": "code",
   "execution_count": 1,
   "metadata": {},
   "outputs": [],
   "source": [
    "import numpy as np\n",
    "import pandas as pd\n",
    "import matplotlib.pyplot as plt\n",
    "import math as math\n",
    "import torch\n",
    "import test_fn"
   ]
  },
  {
   "cell_type": "markdown",
   "metadata": {},
   "source": [
    "# Draw sample inputs"
   ]
  },
  {
   "cell_type": "code",
   "execution_count": 3,
   "metadata": {},
   "outputs": [],
   "source": [
    "n = 100\n",
    "low_dim = 2\n",
    "fn_dim = 200"
   ]
  },
  {
   "cell_type": "code",
   "execution_count": 4,
   "metadata": {},
   "outputs": [],
   "source": [
    "X = torch.rand((n,low_dim))\n",
    "y = "
   ]
  },
  {
   "cell_type": "code",
   "execution_count": 10,
   "metadata": {},
   "outputs": [
    {
     "name": "stdout",
     "output_type": "stream",
     "text": [
      "X shape:torch.Size([100, 2]). y shape: torch.Size([100])\n"
     ]
    }
   ],
   "source": [
    "print(f\"X shape:{X.shape}. y shape: {y.shape}\")"
   ]
  },
  {
   "cell_type": "code",
   "execution_count": 11,
   "metadata": {},
   "outputs": [],
   "source": [
    "import os\n",
    "import torch\n",
    "from torch import nn\n",
    "from torch.utils.data import DataLoader\n",
    "from torchvision import datasets, transforms"
   ]
  },
  {
   "cell_type": "code",
   "execution_count": 12,
   "metadata": {},
   "outputs": [],
   "source": [
    "class SimpleNetwork(nn.Module):\n",
    "    def __init__(self, input_dim, output_dim, fn):\n",
    "        super(SimpleNetwork, self).__init__()\n",
    "        self.linear_relu_stack = nn.Sequential(\n",
    "            nn.Linear(input_dim, input_dim*4),\n",
    "            nn.Tanh(),\n",
    "            nn.Linear(input_dim*4, output_dim)\n",
    "        )\n",
    "        self.fn = fn\n",
    "\n",
    "    def forward(self, x):\n",
    "        x = self.linear_relu_stack(x)\n",
    "        x = self.fn.evaluate_torch(x)\n",
    "        return x"
   ]
  },
  {
   "cell_type": "code",
   "execution_count": 13,
   "metadata": {},
   "outputs": [
    {
     "name": "stdout",
     "output_type": "stream",
     "text": [
      "Using cpu device\n"
     ]
    }
   ],
   "source": [
    "device = 'cuda' if torch.cuda.is_available() else 'cpu'\n",
    "print(f'Using {device} device')"
   ]
  },
  {
   "cell_type": "code",
   "execution_count": 14,
   "metadata": {},
   "outputs": [],
   "source": [
    "model = SimpleNetwork(input_dim = 2, output_dim = 200, fn = b)\n",
    "optimizer = torch.optim.SGD(model.parameters(), lr=1e-5, momentum=0.9)\n",
    "criterion = torch.nn.MSELoss()\n",
    "a = Ackley()"
   ]
  },
  {
   "cell_type": "code",
   "execution_count": 15,
   "metadata": {},
   "outputs": [
    {
     "name": "stdout",
     "output_type": "stream",
     "text": [
      "Min, max y:700.96/-631.03\n",
      "Min, max y-hat\n"
     ]
    }
   ],
   "source": [
    "print(f\"Min, max y:{max(y):.2f}/{min(y):.2f}\")\n",
    "print(\"Min, max y-hat\")"
   ]
  },
  {
   "cell_type": "code",
   "execution_count": 16,
   "metadata": {},
   "outputs": [
    {
     "name": "stdout",
     "output_type": "stream",
     "text": [
      "Layer 2 weights: Parameter containing:\n",
      "tensor([[-0.3480, -0.1966,  0.2682, -0.1952, -0.3004, -0.0714,  0.1989, -0.2211],\n",
      "        [ 0.0761,  0.3028, -0.2304,  0.2758, -0.2236, -0.1295,  0.2346,  0.3303]],\n",
      "       requires_grad=True)\n"
     ]
    }
   ],
   "source": [
    "print(f\"Layer 2 weights: {model.linear_relu_stack[2].weight}\")"
   ]
  },
  {
   "cell_type": "code",
   "execution_count": 18,
   "metadata": {},
   "outputs": [
    {
     "name": "stdout",
     "output_type": "stream",
     "text": [
      "Min/max y-hat is:53.18, 66.42\n",
      "MSE: 115017.53125\n",
      "Min/max y-hat is:0.41, 531.43\n",
      "MSE: 68026.296875\n",
      "Min/max y-hat is:0.56, 385.01\n",
      "MSE: 67166.84375\n",
      "Min/max y-hat is:0.50, 529.34\n",
      "MSE: 63834.14453125\n",
      "Min/max y-hat is:0.40, 590.37\n",
      "MSE: 62119.125\n",
      "Min/max y-hat is:0.40, 617.15\n",
      "MSE: 61757.30078125\n",
      "Min/max y-hat is:0.40, 624.52\n",
      "MSE: 61600.07421875\n",
      "Min/max y-hat is:0.40, 627.71\n",
      "MSE: 61509.25390625\n",
      "Min/max y-hat is:0.40, 635.25\n",
      "MSE: 61465.16015625\n",
      "Min/max y-hat is:0.40, 642.72\n",
      "MSE: 61415.6796875\n"
     ]
    }
   ],
   "source": [
    "for i in range(100):\n",
    "    y_hat = model(X)\n",
    "    loss = criterion(y_hat,y)\n",
    "    optimizer.zero_grad()\n",
    "    loss.backward()\n",
    "    optimizer.step()\n",
    "    train_accuracy = torch.mean((y - y_hat)**2)\n",
    "#     print(f\"Layer 1 weights: {model.linear_relu_stack[0].weight}\")\n",
    "#     print(f\"Layer 2 weights: {model.linear_relu_stack[2].weight}\")\n",
    "    if i%10 == 0:\n",
    "        print(f\"Min/max y-hat is:{min(y_hat):.2f}, {max(y_hat):.2f}\")\n",
    "        print(f\"MSE: {train_accuracy}\")"
   ]
  },
  {
   "cell_type": "code",
   "execution_count": 19,
   "metadata": {},
   "outputs": [],
   "source": [
    "top_right = torch.tensor([[1,1]]).float()\n",
    "bottom_left = torch.tensor([[-1,-1]]).float()\n",
    "top_left = torch.tensor([[-1,1]]).float()\n",
    "bottom_right = torch.tensor([[-1,1]]).float()\n",
    "origin = torch.tensor([[0,0]]).float()"
   ]
  },
  {
   "cell_type": "code",
   "execution_count": 20,
   "metadata": {},
   "outputs": [
    {
     "name": "stdout",
     "output_type": "stream",
     "text": [
      "The prediction in the top right is 681.46.\n",
      "The prediction in the bottom left is 0.55.\n",
      "The prediction in the top left is 25.00.\n",
      "The prediction in the bottom right is 25.00.\n",
      "The prediction in the origin is 21.01.\n"
     ]
    }
   ],
   "source": [
    "print(f\"The prediction in the top right is {model(top_right).item():.2f}.\")\n",
    "print(f\"The prediction in the bottom left is {model(bottom_left).item():.2f}.\")\n",
    "print(f\"The prediction in the top left is {model(top_left).item():.2f}.\")\n",
    "print(f\"The prediction in the bottom right is {model(bottom_right).item():.2f}.\")\n",
    "print(f\"The prediction in the origin is {model(origin).item():.2f}.\")"
   ]
  },
  {
   "cell_type": "markdown",
   "metadata": {},
   "source": [
    "# Problems\n",
    "1. Requires black box model to be differentiable\n",
    "2. Requires 70 * 1000 = 70,000 evaluations of expensive target function."
   ]
  },
  {
   "cell_type": "markdown",
   "metadata": {},
   "source": [
    "# Next Steps\n",
    "1. Try using the black box output as the y values and training a small neural net to approximate the black box function. This gets around the differentiability problem.\n",
    "2. Then, you can perform Bayes Opt in the small \"active\" subspace."
   ]
  }
 ],
 "metadata": {
  "kernelspec": {
   "display_name": "Python 3",
   "language": "python",
   "name": "python3"
  },
  "language_info": {
   "codemirror_mode": {
    "name": "ipython",
    "version": 3
   },
   "file_extension": ".py",
   "mimetype": "text/x-python",
   "name": "python",
   "nbconvert_exporter": "python",
   "pygments_lexer": "ipython3",
   "version": "3.8.8"
  },
  "toc": {
   "base_numbering": 1,
   "nav_menu": {},
   "number_sections": true,
   "sideBar": true,
   "skip_h1_title": false,
   "title_cell": "Table of Contents",
   "title_sidebar": "Contents",
   "toc_cell": false,
   "toc_position": {},
   "toc_section_display": true,
   "toc_window_display": true
  }
 },
 "nbformat": 4,
 "nbformat_minor": 2
}
