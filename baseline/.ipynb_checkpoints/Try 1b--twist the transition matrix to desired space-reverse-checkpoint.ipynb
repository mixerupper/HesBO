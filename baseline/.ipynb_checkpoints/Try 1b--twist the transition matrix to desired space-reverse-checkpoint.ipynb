{
 "cells": [
  {
   "cell_type": "code",
   "execution_count": 1,
   "metadata": {},
   "outputs": [],
   "source": [
    "import numpy as np\n",
    "import pandas as pd\n",
    "import matplotlib.pyplot as plt\n",
    "import math as math\n",
    "import torch\n",
    "import test_fn"
   ]
  },
  {
   "cell_type": "markdown",
   "metadata": {},
   "source": [
    "Branin Function:\n",
    "\\begin{align*}\n",
    "f&:([-5,10]\\times [0,15]) \\rightarrow \\mathbb{R}\\\\\n",
    "f(x)&=a(x_2 - bx_1^2 + cx_1 - r)^2 + s(1-t)cos(x_1) + s\n",
    "\\end{align*}\n",
    "\n",
    "Recommended values:\n",
    "\\begin{align*}\n",
    "a &= 1\\\\\n",
    "b &= \\frac{5.1}{4\\pi^2}\\\\\n",
    "c &= \\frac{5}{\\pi}\\\\\n",
    "r &= 6\\\\\n",
    "s &= 10\\\\\n",
    "t &= \\frac{1}{8\\pi}\n",
    "\\end{align*}"
   ]
  },
  {
   "cell_type": "code",
   "execution_count": 2,
   "metadata": {},
   "outputs": [],
   "source": [
    "class Ackley():\n",
    "    def __init__(self, noise_var = 0):\n",
    "        self.params = {\n",
    "            'a': 20,\n",
    "            'b': 0.2,\n",
    "            'c': 2 * torch.pi\n",
    "        }\n",
    "\n",
    "    def evaluate_torch(self, x):\n",
    "        a = self.params['a']\n",
    "        b = self.params['b']\n",
    "        c = self.params['c']\n",
    "        n = len(x)\n",
    "        \n",
    "        first_operand = -a * np.exp(np.sqrt(np.sum(x**2) / n) * -b)\n",
    "        second_operand = np.exp(np.sum(np.cos(c * x)) / n)\n",
    "\n",
    "        return first_operand - second_operand + a + np.exp(1)"
   ]
  },
  {
   "cell_type": "code",
   "execution_count": 3,
   "metadata": {},
   "outputs": [],
   "source": [
    "class Branin():\n",
    "    '''\n",
    "    Takes in an n x 2 input matrix where each row is an observation of dimension 2.\n",
    "    Outputs n x 1 output matrix where each output has dimension 1.\n",
    "    '''\n",
    "    \n",
    "    def __init__(self, noise_var=0):\n",
    "        self.range = np.array([[-5,10],\n",
    "                             [0,15]])\n",
    "        self.param = {\n",
    "            'a':1,\n",
    "            'b':5.1/(4*math.pi**2),\n",
    "            'c':5/math.pi,\n",
    "            'r':6,\n",
    "            's':10,\n",
    "            't':1/(8*math.pi)\n",
    "        }\n",
    "        \n",
    "        self.noise_var = noise_var\n",
    "        self.input_dim = 2\n",
    "        self.output_dim = 1\n",
    "\n",
    "    def scale_domain(self,x):\n",
    "        # Scaling the domain\n",
    "        x_copy = np.copy(x)\n",
    "        if len(x_copy.shape) == 1:\n",
    "            x_copy = x_copy.reshape((1, x_copy.shape[0]))\n",
    "        for i in range(len(self.range)):\n",
    "            x_copy[:, i] = x_copy[:, i] * (self.range[i, 1] - self.range[i, 0]) / 2 + (\n",
    "                        self.range[i, 1] + self.range[i, 0]) / 2\n",
    "        return x_copy\n",
    "\n",
    "    def __evaluate_single(self, x):\n",
    "        a = self.param['a']\n",
    "        b = self.param['b']\n",
    "        c = self.param['c']\n",
    "        r = self.param['r']\n",
    "        s = self.param['s']\n",
    "        t = self.param['t']\n",
    "        \n",
    "        f = a*(x[1] - b*x[1]**2 + c*x[0] - r)**2 + s*(1-t)*math.cos(x[1]) + s\n",
    "        \n",
    "        return f\n",
    "    \n",
    "    def evaluate_torch(self, x):\n",
    "        a = self.param['a']\n",
    "        b = self.param['b']\n",
    "        c = self.param['c']\n",
    "        r = self.param['r']\n",
    "        s = self.param['s']\n",
    "        t = self.param['t']\n",
    "        \n",
    "        f = a*(x[:,1] - b*x[:,1]**2 + c*x[:,0] - r)**2 + s*(1-t)*torch.cos(x[:,1]) + s\n",
    "                \n",
    "        return f\n",
    "    \n",
    "    def evaluate_true(self, x):\n",
    "        x = x.reshape(-1,self.input_dim)\n",
    "        \n",
    "        return np.apply_along_axis(self.__evaluate_single, axis = 1, arr = x)\n",
    "\n",
    "    def evaluate(self, x):\n",
    "        true_values = self.evaluate_true(x).reshape(x.shape[0],self.output_dim)\n",
    "        noise = np.random.normal(0, self.noise_var, size = (x.shape[0],self.output_dim))\n",
    "        \n",
    "        return true_values + noise"
   ]
  },
  {
   "cell_type": "code",
   "execution_count": 4,
   "metadata": {},
   "outputs": [
    {
     "data": {
      "text/plain": [
       "tensor([ 5., 10.])"
      ]
     },
     "execution_count": 4,
     "metadata": {},
     "output_type": "execute_result"
    }
   ],
   "source": [
    "torch.concat([torch.tensor([]),torch.tensor([5]),torch.tensor([10])])"
   ]
  },
  {
   "cell_type": "markdown",
   "metadata": {},
   "source": [
    "# Draw sample inputs"
   ]
  },
  {
   "cell_type": "markdown",
   "metadata": {},
   "source": [
    "# Train simple MLP to twist inputs into desired space\n",
    "In this case, we're twisting into (a) a same-dimensional space, (b) a lower dimensional space, and (c) a higher dimensional space, just for context in results."
   ]
  },
  {
   "cell_type": "code",
   "execution_count": 5,
   "metadata": {},
   "outputs": [],
   "source": [
    "n = 100\n",
    "x1_sample = np.random.uniform(low = -5, high = 10, size = n)\n",
    "x2_sample = np.random.uniform(low = 0, high = 15, size = n)"
   ]
  },
  {
   "cell_type": "code",
   "execution_count": 9,
   "metadata": {},
   "outputs": [],
   "source": [
    "b = Branin()\n",
    "X_sample = np.array([x1_sample,x2_sample]).reshape(-1,2)\n",
    "y_sample = b.evaluate(X_sample)"
   ]
  },
  {
   "cell_type": "code",
   "execution_count": 10,
   "metadata": {},
   "outputs": [
    {
     "name": "stdout",
     "output_type": "stream",
     "text": [
      "Max:[303.06241092], Min:[6.0910223]\n",
      "Use for calibrating the actual y-values\n"
     ]
    }
   ],
   "source": [
    "max_y_sample = torch.tensor(max(y_sample))\n",
    "min_y_sample = torch.tensor(min(y_sample))\n",
    "\n",
    "print(f\"Max:{max(y_sample)}, Min:{min(y_sample)}\")\n",
    "print(\"Use for calibrating the actual y-values\")"
   ]
  },
  {
   "cell_type": "code",
   "execution_count": 11,
   "metadata": {},
   "outputs": [
    {
     "data": {
      "text/plain": [
       "tensor([303.0624], dtype=torch.float64)"
      ]
     },
     "execution_count": 11,
     "metadata": {},
     "output_type": "execute_result"
    }
   ],
   "source": [
    "torch.tensor(max(y_sample))"
   ]
  },
  {
   "cell_type": "code",
   "execution_count": 22,
   "metadata": {},
   "outputs": [],
   "source": [
    "x1 = torch.rand(n) * 2 - 1\n",
    "x2 = torch.rand(n) * 2 - 1\n",
    "X = torch.concat([x1.reshape(-1,1), x2.reshape(-1,1)], dim = 1)\n",
    "y = torch.tensor(b.evaluate(X))"
   ]
  },
  {
   "cell_type": "code",
   "execution_count": 23,
   "metadata": {},
   "outputs": [],
   "source": [
    "X = X.float()\n",
    "y = y.float()"
   ]
  },
  {
   "cell_type": "code",
   "execution_count": 24,
   "metadata": {},
   "outputs": [
    {
     "name": "stdout",
     "output_type": "stream",
     "text": [
      "X shape:torch.Size([100, 2]). y shape: torch.Size([100, 1])\n"
     ]
    }
   ],
   "source": [
    "print(f\"X shape:{X.shape}. y shape: {y.shape}\")"
   ]
  },
  {
   "cell_type": "code",
   "execution_count": 25,
   "metadata": {},
   "outputs": [],
   "source": [
    "import os\n",
    "import torch\n",
    "from torch import nn\n",
    "from torch.utils.data import DataLoader\n",
    "from torchvision import datasets, transforms"
   ]
  },
  {
   "cell_type": "code",
   "execution_count": 12,
   "metadata": {},
   "outputs": [],
   "source": [
    "class SimpleNetwork(nn.Module):\n",
    "    def __init__(self, input_dim, output_dim, fn):\n",
    "        super(SimpleNetwork, self).__init__()\n",
    "        self.linear_relu_stack = nn.Sequential(\n",
    "            nn.Linear(input_dim, input_dim*4),\n",
    "            nn.Tanh(),\n",
    "            nn.Linear(input_dim*4, output_dim)\n",
    "        )\n",
    "        self.fn = fn\n",
    "        (x1 + x2)*(max_y_sample - min_y_sample) + min_y_sample\n",
    "\n",
    "    def forward(self, x):\n",
    "        x = self.linear_relu_stack(x)\n",
    "        x = self.fn.evaluate_torch(x)\n",
    "        return x"
   ]
  },
  {
   "cell_type": "code",
   "execution_count": 13,
   "metadata": {},
   "outputs": [
    {
     "name": "stdout",
     "output_type": "stream",
     "text": [
      "Using cpu device\n"
     ]
    }
   ],
   "source": [
    "device = 'cuda' if torch.cuda.is_available() else 'cpu'\n",
    "print(f'Using {device} device')"
   ]
  },
  {
   "cell_type": "code",
   "execution_count": 14,
   "metadata": {},
   "outputs": [],
   "source": [
    "model = SimpleNetwork(input_dim = 2, output_dim = 200, fn = b)\n",
    "optimizer = torch.optim.SGD(model.parameters(), lr=1e-5, momentum=0.9)\n",
    "criterion = torch.nn.MSELoss()\n",
    "a = Ackley()"
   ]
  },
  {
   "cell_type": "code",
   "execution_count": 15,
   "metadata": {},
   "outputs": [
    {
     "name": "stdout",
     "output_type": "stream",
     "text": [
      "Min, max y:700.96/-631.03\n",
      "Min, max y-hat\n"
     ]
    }
   ],
   "source": [
    "print(f\"Min, max y:{max(y):.2f}/{min(y):.2f}\")\n",
    "print(\"Min, max y-hat\")"
   ]
  },
  {
   "cell_type": "code",
   "execution_count": 16,
   "metadata": {},
   "outputs": [
    {
     "name": "stdout",
     "output_type": "stream",
     "text": [
      "Layer 2 weights: Parameter containing:\n",
      "tensor([[-0.3480, -0.1966,  0.2682, -0.1952, -0.3004, -0.0714,  0.1989, -0.2211],\n",
      "        [ 0.0761,  0.3028, -0.2304,  0.2758, -0.2236, -0.1295,  0.2346,  0.3303]],\n",
      "       requires_grad=True)\n"
     ]
    }
   ],
   "source": [
    "print(f\"Layer 2 weights: {model.linear_relu_stack[2].weight}\")"
   ]
  },
  {
   "cell_type": "code",
   "execution_count": 18,
   "metadata": {},
   "outputs": [
    {
     "name": "stdout",
     "output_type": "stream",
     "text": [
      "Min/max y-hat is:53.18, 66.42\n",
      "MSE: 115017.53125\n",
      "Min/max y-hat is:0.41, 531.43\n",
      "MSE: 68026.296875\n",
      "Min/max y-hat is:0.56, 385.01\n",
      "MSE: 67166.84375\n",
      "Min/max y-hat is:0.50, 529.34\n",
      "MSE: 63834.14453125\n",
      "Min/max y-hat is:0.40, 590.37\n",
      "MSE: 62119.125\n",
      "Min/max y-hat is:0.40, 617.15\n",
      "MSE: 61757.30078125\n",
      "Min/max y-hat is:0.40, 624.52\n",
      "MSE: 61600.07421875\n",
      "Min/max y-hat is:0.40, 627.71\n",
      "MSE: 61509.25390625\n",
      "Min/max y-hat is:0.40, 635.25\n",
      "MSE: 61465.16015625\n",
      "Min/max y-hat is:0.40, 642.72\n",
      "MSE: 61415.6796875\n"
     ]
    }
   ],
   "source": [
    "for i in range(100):\n",
    "    y_hat = model(X)\n",
    "    loss = criterion(y_hat,y)\n",
    "    optimizer.zero_grad()\n",
    "    loss.backward()\n",
    "    optimizer.step()\n",
    "    train_accuracy = torch.mean((y - y_hat)**2)\n",
    "#     print(f\"Layer 1 weights: {model.linear_relu_stack[0].weight}\")\n",
    "#     print(f\"Layer 2 weights: {model.linear_relu_stack[2].weight}\")\n",
    "    if i%10 == 0:\n",
    "        print(f\"Min/max y-hat is:{min(y_hat):.2f}, {max(y_hat):.2f}\")\n",
    "        print(f\"MSE: {train_accuracy}\")"
   ]
  },
  {
   "cell_type": "code",
   "execution_count": 19,
   "metadata": {},
   "outputs": [],
   "source": [
    "top_right = torch.tensor([[1,1]]).float()\n",
    "bottom_left = torch.tensor([[-1,-1]]).float()\n",
    "top_left = torch.tensor([[-1,1]]).float()\n",
    "bottom_right = torch.tensor([[-1,1]]).float()\n",
    "origin = torch.tensor([[0,0]]).float()"
   ]
  },
  {
   "cell_type": "code",
   "execution_count": 20,
   "metadata": {},
   "outputs": [
    {
     "name": "stdout",
     "output_type": "stream",
     "text": [
      "The prediction in the top right is 681.46.\n",
      "The prediction in the bottom left is 0.55.\n",
      "The prediction in the top left is 25.00.\n",
      "The prediction in the bottom right is 25.00.\n",
      "The prediction in the origin is 21.01.\n"
     ]
    }
   ],
   "source": [
    "print(f\"The prediction in the top right is {model(top_right).item():.2f}.\")\n",
    "print(f\"The prediction in the bottom left is {model(bottom_left).item():.2f}.\")\n",
    "print(f\"The prediction in the top left is {model(top_left).item():.2f}.\")\n",
    "print(f\"The prediction in the bottom right is {model(bottom_right).item():.2f}.\")\n",
    "print(f\"The prediction in the origin is {model(origin).item():.2f}.\")"
   ]
  },
  {
   "cell_type": "markdown",
   "metadata": {},
   "source": [
    "# Problems\n",
    "1. Requires black box model to be differentiable\n",
    "2. Requires 70 * 1000 = 70,000 evaluations of expensive target function."
   ]
  },
  {
   "cell_type": "markdown",
   "metadata": {},
   "source": [
    "# Next Steps\n",
    "1. Try using the black box output as the y values and training a small neural net to approximate the black box function. This gets around the differentiability problem.\n",
    "2. Then, you can perform Bayes Opt in the small \"active\" subspace."
   ]
  }
 ],
 "metadata": {
  "kernelspec": {
   "display_name": "Python 3",
   "language": "python",
   "name": "python3"
  },
  "language_info": {
   "codemirror_mode": {
    "name": "ipython",
    "version": 3
   },
   "file_extension": ".py",
   "mimetype": "text/x-python",
   "name": "python",
   "nbconvert_exporter": "python",
   "pygments_lexer": "ipython3",
   "version": "3.8.8"
  },
  "toc": {
   "base_numbering": 1,
   "nav_menu": {},
   "number_sections": true,
   "sideBar": true,
   "skip_h1_title": false,
   "title_cell": "Table of Contents",
   "title_sidebar": "Contents",
   "toc_cell": false,
   "toc_position": {},
   "toc_section_display": true,
   "toc_window_display": true
  }
 },
 "nbformat": 4,
 "nbformat_minor": 2
}
