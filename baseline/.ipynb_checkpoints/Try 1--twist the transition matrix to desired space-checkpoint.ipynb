{
 "cells": [
  {
   "cell_type": "code",
   "execution_count": 10,
   "metadata": {},
   "outputs": [],
   "source": [
    "import numpy as np\n",
    "import pandas as pd\n",
    "import matplotlib.pyplot as plt\n",
    "import math as math\n",
    "import torch"
   ]
  },
  {
   "cell_type": "markdown",
   "metadata": {},
   "source": [
    "Branin Function:\n",
    "\\begin{align*}\n",
    "f&:([-5,10]\\times [0,15]) \\rightarrow \\mathbb{R}\\\\\n",
    "f(x)&=a(x_2 - bx_1^2 + cx_1 - r)^2 + s(1-t)cos(x_1) + s\n",
    "\\end{align*}\n",
    "\n",
    "Recommended values:\n",
    "\\begin{align*}\n",
    "a &= 1\\\\\n",
    "b &= \\frac{5.1}{4\\pi^2}\\\\\n",
    "c &= \\frac{5}{\\pi}\\\\\n",
    "r &= 6\\\\\n",
    "s &= 10\\\\\n",
    "t &= \\frac{1}{8\\pi}\n",
    "\\end{align*}"
   ]
  },
  {
   "cell_type": "code",
   "execution_count": 243,
   "metadata": {},
   "outputs": [],
   "source": [
    "class Branin():\n",
    "    '''\n",
    "    Takes in an n x 2 input matrix where each row is an observation of dimension 2.\n",
    "    Outputs n x 1 output matrix where each output has dimension 1.\n",
    "    '''\n",
    "    \n",
    "    def __init__(self, noise_var=0):\n",
    "        self.range = np.array([[-5,10],\n",
    "                             [0,15]])\n",
    "        self.param = {\n",
    "            'a':1,\n",
    "            'b':5.1/(4*math.pi**2),\n",
    "            'c':5/math.pi,\n",
    "            'r':6,\n",
    "            's':10,\n",
    "            't':1/(8*math.pi)\n",
    "        }\n",
    "        \n",
    "        self.noise_var = noise_var\n",
    "        self.input_dim = 2\n",
    "        self.output_dim = 1\n",
    "\n",
    "    def scale_domain(self,x):\n",
    "        # Scaling the domain\n",
    "        x_copy = np.copy(x)\n",
    "        if len(x_copy.shape) == 1:\n",
    "            x_copy = x_copy.reshape((1, x_copy.shape[0]))\n",
    "        for i in range(len(self.range)):\n",
    "            x_copy[:, i] = x_copy[:, i] * (self.range[i, 1] - self.range[i, 0]) / 2 + (\n",
    "                        self.range[i, 1] + self.range[i, 0]) / 2\n",
    "        return x_copy\n",
    "\n",
    "    def __evaluate_single(self, x):\n",
    "        a = self.param['a']\n",
    "        b = self.param['b']\n",
    "        c = self.param['c']\n",
    "        r = self.param['r']\n",
    "        s = self.param['s']\n",
    "        t = self.param['t']\n",
    "        \n",
    "        f = a*(x[1] - b*x[1]**2 + c*x[0] - r)**2 + s*(1-t)*math.cos(x[1]) + s\n",
    "        \n",
    "        return f\n",
    "    \n",
    "    def evaluate_torch(self, x):\n",
    "        a = self.param['a']\n",
    "        b = self.param['b']\n",
    "        c = self.param['c']\n",
    "        r = self.param['r']\n",
    "        s = self.param['s']\n",
    "        t = self.param['t']\n",
    "        \n",
    "        f = a*(x[:,1] - b*x[:,1]**2 + c*x[:,0] - r)**2 + s*(1-t)*torch.cos(x[:,1]) + s\n",
    "                \n",
    "        return f\n",
    "    \n",
    "    def evaluate_true(self, x):\n",
    "        x = x.reshape(-1,self.input_dim)\n",
    "        \n",
    "        return np.apply_along_axis(self.__evaluate_single, axis = 1, arr = x)\n",
    "\n",
    "    def evaluate(self, x):\n",
    "        true_values = self.evaluate_true(x).reshape(x.shape[0],self.output_dim)\n",
    "        noise = np.random.normal(0, self.noise_var, size = (x.shape[0],self.output_dim))\n",
    "        \n",
    "        return true_values + noise"
   ]
  },
  {
   "cell_type": "code",
   "execution_count": 244,
   "metadata": {},
   "outputs": [
    {
     "data": {
      "text/plain": [
       "tensor([ 5., 10.])"
      ]
     },
     "execution_count": 244,
     "metadata": {},
     "output_type": "execute_result"
    }
   ],
   "source": [
    "torch.concat([torch.tensor([]),torch.tensor([5]),torch.tensor([10])])"
   ]
  },
  {
   "cell_type": "markdown",
   "metadata": {},
   "source": [
    "# Draw sample inputs"
   ]
  },
  {
   "cell_type": "markdown",
   "metadata": {},
   "source": [
    "# Train simple MLP to twist inputs into desired space\n",
    "In this case, we're twisting into (a) a same-dimensional space, (b) a lower dimensional space, and (c) a higher dimensional space, just for context in results."
   ]
  },
  {
   "cell_type": "code",
   "execution_count": 327,
   "metadata": {},
   "outputs": [],
   "source": [
    "n = 1000\n",
    "x1_sample = np.random.uniform(low = -5, high = 10, size = n)\n",
    "x2_sample = np.random.uniform(low = 0, high = 15, size = n)"
   ]
  },
  {
   "cell_type": "code",
   "execution_count": 328,
   "metadata": {},
   "outputs": [],
   "source": [
    "b = Branin()\n",
    "X_sample = np.array([x1_sample,x2_sample]).reshape(-1,2)\n",
    "y_sample = b.evaluate(X_sample)"
   ]
  },
  {
   "cell_type": "code",
   "execution_count": 329,
   "metadata": {},
   "outputs": [
    {
     "name": "stdout",
     "output_type": "stream",
     "text": [
      "Max:[426.75435041], Min:[0.58726549]\n",
      "Use for calibrating the actual y-values\n"
     ]
    }
   ],
   "source": [
    "max_y_sample = torch.tensor(max(y_sample))\n",
    "min_y_sample = torch.tensor(min(y_sample))\n",
    "\n",
    "print(f\"Max:{max(y_sample)}, Min:{min(y_sample)}\")\n",
    "print(\"Use for calibrating the actual y-values\")"
   ]
  },
  {
   "cell_type": "code",
   "execution_count": 330,
   "metadata": {},
   "outputs": [
    {
     "data": {
      "text/plain": [
       "tensor([426.7544], dtype=torch.float64)"
      ]
     },
     "execution_count": 330,
     "metadata": {},
     "output_type": "execute_result"
    }
   ],
   "source": [
    "torch.tensor(max(y_sample))"
   ]
  },
  {
   "cell_type": "code",
   "execution_count": 331,
   "metadata": {},
   "outputs": [],
   "source": [
    "x1 = torch.rand(n) * 2 - 1\n",
    "x2 = torch.rand(n) * 2 - 1\n",
    "X = torch.concat([x1.reshape(-1,1), x2.reshape(-1,1)], dim = 1)\n",
    "y = (x1 + x2)*(max_y_sample - min_y_sample) + min_y_sample"
   ]
  },
  {
   "cell_type": "code",
   "execution_count": 332,
   "metadata": {},
   "outputs": [],
   "source": [
    "X = X.float()\n",
    "y = y.float()"
   ]
  },
  {
   "cell_type": "code",
   "execution_count": 333,
   "metadata": {},
   "outputs": [
    {
     "name": "stdout",
     "output_type": "stream",
     "text": [
      "X shape:torch.Size([1000, 2]). y shape: torch.Size([1000])\n"
     ]
    }
   ],
   "source": [
    "print(f\"X shape:{X.shape}. y shape: {y.shape}\")"
   ]
  },
  {
   "cell_type": "code",
   "execution_count": 334,
   "metadata": {},
   "outputs": [],
   "source": [
    "import os\n",
    "import torch\n",
    "from torch import nn\n",
    "from torch.utils.data import DataLoader\n",
    "from torchvision import datasets, transforms"
   ]
  },
  {
   "cell_type": "code",
   "execution_count": 335,
   "metadata": {},
   "outputs": [],
   "source": [
    "class SimpleNetwork(nn.Module):\n",
    "    def __init__(self, input_dim, output_dim, fn):\n",
    "        super(SimpleNetwork, self).__init__()\n",
    "        self.linear_relu_stack = nn.Sequential(\n",
    "            nn.Linear(input_dim, input_dim*2),\n",
    "            nn.ReLU(),\n",
    "            nn.Linear(input_dim*2, output_dim)\n",
    "        )\n",
    "        self.fn = fn\n",
    "\n",
    "    def forward(self, x):\n",
    "        x = self.linear_relu_stack(x)\n",
    "        x = self.fn.evaluate_torch(x)\n",
    "        return x"
   ]
  },
  {
   "cell_type": "code",
   "execution_count": 336,
   "metadata": {},
   "outputs": [
    {
     "name": "stdout",
     "output_type": "stream",
     "text": [
      "Using cpu device\n"
     ]
    }
   ],
   "source": [
    "device = 'cuda' if torch.cuda.is_available() else 'cpu'\n",
    "print(f'Using {device} device')"
   ]
  },
  {
   "cell_type": "code",
   "execution_count": 351,
   "metadata": {},
   "outputs": [],
   "source": [
    "model = SimpleNetwork(input_dim = 2, output_dim = 2, fn = b)\n",
    "optimizer = torch.optim.SGD(model.parameters(), lr=1e-5, momentum=0.9)\n",
    "criterion = torch.nn.MSELoss()\n",
    "b = Branin()"
   ]
  },
  {
   "cell_type": "code",
   "execution_count": 352,
   "metadata": {},
   "outputs": [
    {
     "name": "stdout",
     "output_type": "stream",
     "text": [
      "Min, max y:805.98/-830.13\n",
      "Min, max y-hat\n"
     ]
    }
   ],
   "source": [
    "print(f\"Min, max y:{max(y):.2f}/{min(y):.2f}\")\n",
    "print(\"Min, max y-hat\")"
   ]
  },
  {
   "cell_type": "code",
   "execution_count": 357,
   "metadata": {},
   "outputs": [
    {
     "name": "stdout",
     "output_type": "stream",
     "text": [
      "Layer 2 weights: Parameter containing:\n",
      "tensor([[-0.0374, -0.3919,  2.9422,  0.4136],\n",
      "        [-0.2669, -0.0112,  2.7897, -0.2939]], requires_grad=True)\n"
     ]
    }
   ],
   "source": [
    "print(f\"Layer 2 weights: {model.linear_relu_stack[2].weight}\")"
   ]
  },
  {
   "cell_type": "code",
   "execution_count": 358,
   "metadata": {},
   "outputs": [
    {
     "data": {
      "text/plain": [
       "tensor(3.5643, grad_fn=<UnbindBackward0>)"
      ]
     },
     "execution_count": 358,
     "metadata": {},
     "output_type": "execute_result"
    }
   ],
   "source": [
    "min(y_hat)"
   ]
  },
  {
   "cell_type": "code",
   "execution_count": 354,
   "metadata": {},
   "outputs": [
    {
     "name": "stdout",
     "output_type": "stream",
     "text": [
      "Min/max y-hat is:9.40, 42.07\n",
      "MSE: 112285.15625\n",
      "Min/max y-hat is:7.39, 42.93\n",
      "MSE: 111232.984375\n",
      "Min/max y-hat is:5.35, 44.46\n",
      "MSE: 110495.4609375\n",
      "Min/max y-hat is:3.49, 46.92\n",
      "MSE: 109950.4609375\n",
      "Min/max y-hat is:2.00, 50.55\n",
      "MSE: 108980.1953125\n",
      "Min/max y-hat is:0.97, 55.53\n",
      "MSE: 107229.265625\n",
      "Min/max y-hat is:0.46, 61.92\n",
      "MSE: 105172.546875\n",
      "Min/max y-hat is:0.47, 69.62\n",
      "MSE: 103543.703125\n",
      "Min/max y-hat is:1.00, 78.48\n",
      "MSE: 102470.328125\n",
      "Min/max y-hat is:1.94, 88.27\n",
      "MSE: 101439.21875\n",
      "Min/max y-hat is:3.13, 98.85\n",
      "MSE: 99859.890625\n",
      "Min/max y-hat is:4.32, 110.20\n",
      "MSE: 97563.1484375\n",
      "Min/max y-hat is:5.28, 122.55\n",
      "MSE: 94900.125\n",
      "Min/max y-hat is:5.82, 136.29\n",
      "MSE: 92314.25\n",
      "Min/max y-hat is:5.90, 151.96\n",
      "MSE: 89905.2890625\n",
      "Min/max y-hat is:5.64, 170.16\n",
      "MSE: 87442.15625\n",
      "Min/max y-hat is:5.25, 191.51\n",
      "MSE: 84634.6796875\n",
      "Min/max y-hat is:4.88, 216.61\n",
      "MSE: 81325.3515625\n",
      "Min/max y-hat is:4.60, 245.94\n",
      "MSE: 77847.4921875\n",
      "Min/max y-hat is:4.39, 279.71\n",
      "MSE: 74773.2890625\n",
      "Min/max y-hat is:4.19, 317.61\n",
      "MSE: 72291.5234375\n",
      "Min/max y-hat is:4.02, 358.80\n",
      "MSE: 70018.375\n",
      "Min/max y-hat is:4.07, 402.22\n",
      "MSE: 67576.9140625\n",
      "Min/max y-hat is:4.74, 447.05\n",
      "MSE: 65159.19921875\n",
      "Min/max y-hat is:6.77, 493.10\n",
      "MSE: 63197.57421875\n",
      "Min/max y-hat is:3.11, 540.52\n",
      "MSE: 61908.90625\n",
      "Min/max y-hat is:0.41, 589.18\n",
      "MSE: 61626.9296875\n",
      "Min/max y-hat is:1.24, 638.13\n",
      "MSE: 62262.8671875\n",
      "Min/max y-hat is:1.17, 685.20\n",
      "MSE: 62646.7734375\n",
      "Min/max y-hat is:0.43, 727.25\n",
      "MSE: 62488.12890625\n",
      "Min/max y-hat is:2.85, 761.74\n",
      "MSE: 62690.9765625\n",
      "Min/max y-hat is:6.28, 789.32\n",
      "MSE: 63348.54296875\n",
      "Min/max y-hat is:5.33, 812.88\n",
      "MSE: 63410.3203125\n",
      "Min/max y-hat is:1.74, 834.50\n",
      "MSE: 62576.0625\n",
      "Min/max y-hat is:0.41, 853.28\n",
      "MSE: 62603.0078125\n",
      "Min/max y-hat is:0.89, 866.59\n",
      "MSE: 63218.7734375\n",
      "Min/max y-hat is:0.71, 873.65\n",
      "MSE: 63099.23046875\n",
      "Min/max y-hat is:0.47, 877.39\n",
      "MSE: 62974.21484375\n",
      "Min/max y-hat is:2.29, 881.98\n",
      "MSE: 63039.44921875\n",
      "Min/max y-hat is:5.85, 888.36\n",
      "MSE: 62847.12890625\n",
      "Min/max y-hat is:8.61, 893.20\n",
      "MSE: 63192.81640625\n",
      "Min/max y-hat is:8.46, 893.12\n",
      "MSE: 63186.33984375\n",
      "Min/max y-hat is:5.51, 888.51\n",
      "MSE: 62787.70703125\n",
      "Min/max y-hat is:2.07, 882.93\n",
      "MSE: 62696.81640625\n",
      "Min/max y-hat is:0.48, 878.90\n",
      "MSE: 62668.30859375\n",
      "Min/max y-hat is:0.51, 876.01\n",
      "MSE: 62746.9453125\n",
      "Min/max y-hat is:0.49, 872.13\n",
      "MSE: 62779.65234375\n",
      "Min/max y-hat is:0.50, 865.57\n",
      "MSE: 62519.7421875\n",
      "Min/max y-hat is:1.75, 856.58\n",
      "MSE: 62396.453125\n",
      "Min/max y-hat is:3.56, 846.63\n",
      "MSE: 62503.9765625\n"
     ]
    }
   ],
   "source": [
    "for i in range(50):\n",
    "    y_hat = model(X)\n",
    "    loss = criterion(y_hat,y)\n",
    "    optimizer.zero_grad()\n",
    "    loss.backward()\n",
    "    optimizer.step()\n",
    "    train_accuracy = torch.mean((y - y_hat)**2)\n",
    "#     print(f\"Layer 1 weights: {model.linear_relu_stack[0].weight}\")\n",
    "#     print(f\"Layer 2 weights: {model.linear_relu_stack[2].weight}\")\n",
    "    print(f\"Min/max y-hat is:{min(y_hat):.2f}, {max(y_hat):.2f}\")\n",
    "    print(f\"MSE: {train_accuracy}\")"
   ]
  },
  {
   "cell_type": "markdown",
   "metadata": {},
   "source": [
    "# Problems\n",
    "1. Requires black box model to be differentiable\n",
    "2. The minimum y-hat value is never negative for some reason. The range of y-hat values never matches the desired range of y-values."
   ]
  },
  {
   "cell_type": "markdown",
   "metadata": {},
   "source": [
    "# Next Steps\n",
    "1. Try using the black box output as the y values and training a small neural net to approximate the black box function. This gets around the differentiability problem.\n",
    "2. Then, you can perform Bayes Opt in the small \"active\" subspace."
   ]
  }
 ],
 "metadata": {
  "kernelspec": {
   "display_name": "Python 3",
   "language": "python",
   "name": "python3"
  },
  "language_info": {
   "codemirror_mode": {
    "name": "ipython",
    "version": 3
   },
   "file_extension": ".py",
   "mimetype": "text/x-python",
   "name": "python",
   "nbconvert_exporter": "python",
   "pygments_lexer": "ipython3",
   "version": "3.8.5"
  },
  "toc": {
   "base_numbering": 1,
   "nav_menu": {},
   "number_sections": true,
   "sideBar": true,
   "skip_h1_title": false,
   "title_cell": "Table of Contents",
   "title_sidebar": "Contents",
   "toc_cell": false,
   "toc_position": {},
   "toc_section_display": true,
   "toc_window_display": true
  }
 },
 "nbformat": 4,
 "nbformat_minor": 2
}
