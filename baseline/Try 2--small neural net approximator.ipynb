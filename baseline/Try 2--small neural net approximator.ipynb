{
 "cells": [
  {
   "cell_type": "code",
   "execution_count": 102,
   "metadata": {},
   "outputs": [],
   "source": [
    "import numpy as np\n",
    "import pandas as pd\n",
    "import matplotlib.pyplot as plt\n",
    "import math as math\n",
    "import torch"
   ]
  },
  {
   "cell_type": "markdown",
   "metadata": {},
   "source": [
    "Branin Function:\n",
    "\\begin{align*}\n",
    "f&:([-5,10]\\times [0,15]) \\rightarrow \\mathbb{R}\\\\\n",
    "f(x)&=a(x_2 - bx_1^2 + cx_1 - r)^2 + s(1-t)cos(x_1) + s\n",
    "\\end{align*}\n",
    "\n",
    "Recommended values:\n",
    "\\begin{align*}\n",
    "a &= 1\\\\\n",
    "b &= \\frac{5.1}{4\\pi^2}\\\\\n",
    "c &= \\frac{5}{\\pi}\\\\\n",
    "r &= 6\\\\\n",
    "s &= 10\\\\\n",
    "t &= \\frac{1}{8\\pi}\n",
    "\\end{align*}"
   ]
  },
  {
   "cell_type": "code",
   "execution_count": 103,
   "metadata": {},
   "outputs": [],
   "source": [
    "class Branin():\n",
    "    '''\n",
    "    Takes in an n x 2 input matrix where each row is an observation of dimension 2.\n",
    "    Outputs n x 1 output matrix where each output has dimension 1.\n",
    "    '''\n",
    "    \n",
    "    def __init__(self, noise_var=0):\n",
    "        self.range = np.array([[-5,10],\n",
    "                             [0,15]])\n",
    "        self.param = {\n",
    "            'a':1,\n",
    "            'b':5.1/(4*math.pi**2),\n",
    "            'c':5/math.pi,\n",
    "            'r':6,\n",
    "            's':10,\n",
    "            't':1/(8*math.pi)\n",
    "        }\n",
    "        \n",
    "        self.noise_var = noise_var\n",
    "        self.input_dim = 2\n",
    "        self.output_dim = 1\n",
    "\n",
    "    def scale_domain(self,x):\n",
    "        # Scaling the domain\n",
    "        x_copy = np.copy(x)\n",
    "        if len(x_copy.shape) == 1:\n",
    "            x_copy = x_copy.reshape((1, x_copy.shape[0]))\n",
    "        for i in range(len(self.range)):\n",
    "            x_copy[:, i] = x_copy[:, i] * (self.range[i, 1] - self.range[i, 0]) / 2 + (\n",
    "                        self.range[i, 1] + self.range[i, 0]) / 2\n",
    "        return x_copy\n",
    "\n",
    "    def __evaluate_single(self, x):\n",
    "        a = self.param['a']\n",
    "        b = self.param['b']\n",
    "        c = self.param['c']\n",
    "        r = self.param['r']\n",
    "        s = self.param['s']\n",
    "        t = self.param['t']\n",
    "        \n",
    "        f = a*(x[1] - b*x[1]**2 + c*x[0] - r)**2 + s*(1-t)*math.cos(x[1]) + s\n",
    "        \n",
    "        return f\n",
    "    \n",
    "    def evaluate_torch(self, x):\n",
    "        a = self.param['a']\n",
    "        b = self.param['b']\n",
    "        c = self.param['c']\n",
    "        r = self.param['r']\n",
    "        s = self.param['s']\n",
    "        t = self.param['t']\n",
    "        \n",
    "        f = a*(x[:,1] - b*x[:,1]**2 + c*x[:,0] - r)**2 + s*(1-t)*torch.cos(x[:,1]) + s\n",
    "                \n",
    "        return f\n",
    "    \n",
    "    def evaluate_true(self, x):\n",
    "        x = x.reshape(-1,self.input_dim)\n",
    "        \n",
    "        return np.apply_along_axis(self.__evaluate_single, axis = 1, arr = x)\n",
    "\n",
    "    def evaluate(self, x):\n",
    "        true_values = self.evaluate_true(x).reshape(x.shape[0],self.output_dim)\n",
    "        noise = np.random.normal(0, self.noise_var, size = (x.shape[0],self.output_dim))\n",
    "        \n",
    "        return true_values + noise"
   ]
  },
  {
   "cell_type": "code",
   "execution_count": 104,
   "metadata": {},
   "outputs": [
    {
     "data": {
      "text/plain": [
       "tensor([ 5., 10.])"
      ]
     },
     "execution_count": 104,
     "metadata": {},
     "output_type": "execute_result"
    }
   ],
   "source": [
    "torch.concat([torch.tensor([]),torch.tensor([5]),torch.tensor([10])])"
   ]
  },
  {
   "cell_type": "markdown",
   "metadata": {},
   "source": [
    "# Draw sample inputs"
   ]
  },
  {
   "cell_type": "markdown",
   "metadata": {},
   "source": [
    "# Train simple MLP to twist inputs into desired space\n",
    "In this case, we're twisting into (a) a same-dimensional space, (b) a lower dimensional space, and (c) a higher dimensional space, just for context in results."
   ]
  },
  {
   "cell_type": "code",
   "execution_count": 105,
   "metadata": {},
   "outputs": [],
   "source": [
    "n = 1000\n",
    "x1_sample = np.random.uniform(low = -5, high = 10, size = n)\n",
    "x2_sample = np.random.uniform(low = 0, high = 15, size = n)"
   ]
  },
  {
   "cell_type": "code",
   "execution_count": 106,
   "metadata": {},
   "outputs": [],
   "source": [
    "b = Branin()\n",
    "X_sample = np.array([x1_sample,x2_sample]).reshape(-1,2)\n",
    "y_sample = b.evaluate(X_sample)"
   ]
  },
  {
   "cell_type": "code",
   "execution_count": 107,
   "metadata": {},
   "outputs": [
    {
     "name": "stdout",
     "output_type": "stream",
     "text": [
      "Max:[452.87617429], Min:[0.41490044]\n",
      "Use for calibrating the actual y-values\n"
     ]
    }
   ],
   "source": [
    "max_y_sample = torch.tensor(max(y_sample))\n",
    "min_y_sample = torch.tensor(min(y_sample))\n",
    "\n",
    "print(f\"Max:{max(y_sample)}, Min:{min(y_sample)}\")\n",
    "print(\"Use for calibrating the actual y-values\")"
   ]
  },
  {
   "cell_type": "code",
   "execution_count": 108,
   "metadata": {},
   "outputs": [
    {
     "data": {
      "text/plain": [
       "tensor([452.8762], dtype=torch.float64)"
      ]
     },
     "execution_count": 108,
     "metadata": {},
     "output_type": "execute_result"
    }
   ],
   "source": [
    "torch.tensor(max(y_sample))"
   ]
  },
  {
   "cell_type": "code",
   "execution_count": 109,
   "metadata": {},
   "outputs": [],
   "source": [
    "x1 = torch.rand(n) * 2 - 1\n",
    "x2 = torch.rand(n) * 2 - 1\n",
    "X = torch.concat([x1.reshape(-1,1), x2.reshape(-1,1)], dim = 1)\n",
    "y = b.evaluate_torch(X)"
   ]
  },
  {
   "cell_type": "code",
   "execution_count": 110,
   "metadata": {},
   "outputs": [],
   "source": [
    "X = X.float()\n",
    "y = y.float()"
   ]
  },
  {
   "cell_type": "code",
   "execution_count": 111,
   "metadata": {},
   "outputs": [
    {
     "name": "stdout",
     "output_type": "stream",
     "text": [
      "X shape:torch.Size([1000, 2]). y shape: torch.Size([1000])\n"
     ]
    }
   ],
   "source": [
    "print(f\"X shape:{X.shape}. y shape: {y.shape}\")"
   ]
  },
  {
   "cell_type": "code",
   "execution_count": 112,
   "metadata": {},
   "outputs": [],
   "source": [
    "import os\n",
    "import torch\n",
    "from torch import nn\n",
    "from torch.utils.data import DataLoader\n",
    "from torchvision import datasets, transforms"
   ]
  },
  {
   "cell_type": "code",
   "execution_count": 113,
   "metadata": {},
   "outputs": [],
   "source": [
    "class SimpleNetwork(nn.Module):\n",
    "    def __init__(self, input_dim, output_dim, fn):\n",
    "        super(SimpleNetwork, self).__init__()\n",
    "        self.linear_relu_stack = nn.Sequential(\n",
    "            nn.Linear(input_dim, input_dim*2),\n",
    "            nn.ReLU(),\n",
    "            nn.Linear(input_dim*2, output_dim)\n",
    "        )\n",
    "        self.fn = fn\n",
    "\n",
    "    def forward(self, x):\n",
    "        x = self.linear_relu_stack(x)\n",
    "        x = self.fn.evaluate_torch(x)\n",
    "        return x"
   ]
  },
  {
   "cell_type": "code",
   "execution_count": 114,
   "metadata": {},
   "outputs": [
    {
     "name": "stdout",
     "output_type": "stream",
     "text": [
      "Using cpu device\n"
     ]
    }
   ],
   "source": [
    "device = 'cuda' if torch.cuda.is_available() else 'cpu'\n",
    "print(f'Using {device} device')"
   ]
  },
  {
   "cell_type": "code",
   "execution_count": 115,
   "metadata": {},
   "outputs": [],
   "source": [
    "model = SimpleNetwork(input_dim = 2, output_dim = 2, fn = b)\n",
    "optimizer = torch.optim.SGD(model.parameters(), lr=1e-5, momentum=0.9)\n",
    "criterion = torch.nn.MSELoss()\n",
    "b = Branin()"
   ]
  },
  {
   "cell_type": "code",
   "execution_count": 116,
   "metadata": {},
   "outputs": [
    {
     "name": "stdout",
     "output_type": "stream",
     "text": [
      "Min, max y:28.91/90.01\n",
      "Min, max y-hat\n"
     ]
    }
   ],
   "source": [
    "print(f\"Min, max y:{min(y):.2f}/{max(y):.2f}\")\n",
    "print(\"Min, max y-hat\")"
   ]
  },
  {
   "cell_type": "code",
   "execution_count": 117,
   "metadata": {},
   "outputs": [
    {
     "name": "stdout",
     "output_type": "stream",
     "text": [
      "Layer 2 weights: Parameter containing:\n",
      "tensor([[ 0.4437, -0.2735,  0.2166,  0.3359],\n",
      "        [-0.1188,  0.1601, -0.0956, -0.2172]], requires_grad=True)\n"
     ]
    }
   ],
   "source": [
    "print(f\"Layer 2 weights: {model.linear_relu_stack[2].weight}\")"
   ]
  },
  {
   "cell_type": "code",
   "execution_count": 118,
   "metadata": {},
   "outputs": [
    {
     "name": "stdout",
     "output_type": "stream",
     "text": [
      "Min/max y-hat vs y is:1.77, 0.62\n",
      "MSE: 211.41958618164062\n",
      "Min/max y-hat vs y is:1.82, 0.62\n",
      "MSE: 197.3109893798828\n",
      "Min/max y-hat vs y is:1.87, 0.62\n",
      "MSE: 176.33509826660156\n",
      "Min/max y-hat vs y is:1.82, 0.63\n",
      "MSE: 157.04989624023438\n",
      "Min/max y-hat vs y is:1.72, 0.64\n",
      "MSE: 137.8560333251953\n",
      "Min/max y-hat vs y is:1.61, 0.65\n",
      "MSE: 116.9983139038086\n",
      "Min/max y-hat vs y is:1.49, 0.66\n",
      "MSE: 94.42373657226562\n",
      "Min/max y-hat vs y is:1.37, 0.68\n",
      "MSE: 71.62969970703125\n",
      "Min/max y-hat vs y is:1.26, 0.71\n",
      "MSE: 50.808319091796875\n",
      "Min/max y-hat vs y is:1.16, 0.74\n",
      "MSE: 33.94025421142578\n"
     ]
    }
   ],
   "source": [
    "for i in range(100):\n",
    "    y_hat = model(X)\n",
    "    loss = criterion(y_hat,y)\n",
    "    optimizer.zero_grad()\n",
    "    loss.backward()\n",
    "    optimizer.step()\n",
    "    train_accuracy = torch.mean((y - y_hat)**2)\n",
    "#     print(f\"Layer 1 weights: {model.linear_relu_stack[0].weight}\")\n",
    "#     print(f\"Layer 2 weights: {model.linear_relu_stack[2].weight}\")\n",
    "    if i%10 == 0:\n",
    "        print(f\"Min/max y-hat vs y is:{min(y_hat)/min(y):.2f}, {max(y_hat)/max(y):.2f}\")\n",
    "        print(f\"MSE: {train_accuracy}\")"
   ]
  },
  {
   "cell_type": "code",
   "execution_count": 119,
   "metadata": {},
   "outputs": [
    {
     "data": {
      "text/plain": [
       "tensor([[-0.5688,  0.1340],\n",
       "        [-0.2371,  0.7739],\n",
       "        [-0.5512,  0.2264],\n",
       "        ...,\n",
       "        [-0.3238,  0.6306],\n",
       "        [-0.0657,  1.0571],\n",
       "        [-0.5856,  0.1372]], grad_fn=<AddmmBackward0>)"
      ]
     },
     "execution_count": 119,
     "metadata": {},
     "output_type": "execute_result"
    }
   ],
   "source": [
    "model.linear_relu_stack(X)"
   ]
  },
  {
   "cell_type": "markdown",
   "metadata": {},
   "source": [
    "# Bayes Opt"
   ]
  },
  {
   "cell_type": "code",
   "execution_count": null,
   "metadata": {},
   "outputs": [],
   "source": []
  },
  {
   "cell_type": "markdown",
   "metadata": {},
   "source": [
    "# Problems\n",
    "1. Requires black box model to be differentiable\n",
    "2. Can't actually get $y$ once the function requires more than 2 inputs."
   ]
  },
  {
   "cell_type": "markdown",
   "metadata": {},
   "source": [
    "# Next Steps\n",
    "1. Try learning the best input by shifting everything towards the minimum."
   ]
  }
 ],
 "metadata": {
  "kernelspec": {
   "display_name": "Python 3",
   "language": "python",
   "name": "python3"
  },
  "language_info": {
   "codemirror_mode": {
    "name": "ipython",
    "version": 3
   },
   "file_extension": ".py",
   "mimetype": "text/x-python",
   "name": "python",
   "nbconvert_exporter": "python",
   "pygments_lexer": "ipython3",
   "version": "3.8.5"
  },
  "toc": {
   "base_numbering": 1,
   "nav_menu": {},
   "number_sections": true,
   "sideBar": true,
   "skip_h1_title": false,
   "title_cell": "Table of Contents",
   "title_sidebar": "Contents",
   "toc_cell": false,
   "toc_position": {},
   "toc_section_display": true,
   "toc_window_display": true
  }
 },
 "nbformat": 4,
 "nbformat_minor": 2
}
