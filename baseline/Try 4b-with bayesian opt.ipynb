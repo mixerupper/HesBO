{
 "cells": [
  {
   "cell_type": "code",
   "execution_count": 27,
   "metadata": {},
   "outputs": [],
   "source": [
    "import numpy as np\n",
    "import pandas as pd\n",
    "import matplotlib.pyplot as plt\n",
    "import math as math\n",
    "import torch\n",
    "import test_fn"
   ]
  },
  {
   "cell_type": "code",
   "execution_count": 28,
   "metadata": {},
   "outputs": [
    {
     "data": {
      "text/plain": [
       "<module 'test_fn' from 'C:\\\\Users\\\\Andrew\\\\OneDrive\\\\Documents\\\\HesBO\\\\baseline\\\\test_fn.py'>"
      ]
     },
     "execution_count": 28,
     "metadata": {},
     "output_type": "execute_result"
    }
   ],
   "source": [
    "import importlib\n",
    "importlib.reload(test_fn)"
   ]
  },
  {
   "cell_type": "code",
   "execution_count": 29,
   "metadata": {},
   "outputs": [],
   "source": [
    "torch.set_default_dtype(torch.float64)"
   ]
  },
  {
   "cell_type": "markdown",
   "metadata": {},
   "source": [
    "# Algorithm 1: Shift or twist subspace to best performing points"
   ]
  },
  {
   "cell_type": "code",
   "execution_count": 30,
   "metadata": {},
   "outputs": [],
   "source": [
    "importlib.reload(test_fn)\n",
    "fn = test_fn.Ackley()\n",
    "\n",
    "low_dim = 2\n",
    "fn_dim = 200\n",
    "\n",
    "x = torch.rand((100,low_dim))\n",
    "A = torch.rand((low_dim, fn_dim))\n",
    "X = x@A\n",
    "y = fn.evaluate(X)\n",
    "\n",
    "# Find best performing points (Alt: Find best performing and nearest neighbors)\n",
    "best_performers_indices = torch.topk(y, 1, largest = False).indices\n",
    "best_performers = X[best_performers_indices]\n",
    "\n",
    "# Update\n",
    "A = best_performers"
   ]
  },
  {
   "cell_type": "code",
   "execution_count": 31,
   "metadata": {},
   "outputs": [],
   "source": [
    "import torch\n",
    "from botorch.models import SingleTaskGP\n",
    "from botorch.fit import fit_gpytorch_model\n",
    "from gpytorch.mlls import ExactMarginalLogLikelihood"
   ]
  },
  {
   "cell_type": "code",
   "execution_count": 32,
   "metadata": {},
   "outputs": [
    {
     "data": {
      "text/plain": [
       "torch.Size([100, 2])"
      ]
     },
     "execution_count": 32,
     "metadata": {},
     "output_type": "execute_result"
    }
   ],
   "source": [
    "x.shape"
   ]
  },
  {
   "cell_type": "code",
   "execution_count": 33,
   "metadata": {},
   "outputs": [],
   "source": [
    "import torch\n",
    "from botorch.models import SingleTaskGP\n",
    "from botorch.fit import fit_gpytorch_model\n",
    "from botorch.utils import standardize\n",
    "from gpytorch.mlls import ExactMarginalLogLikelihood\n",
    "from botorch.acquisition import UpperConfidenceBound\n",
    "from botorch.optim import optimize_acqf"
   ]
  },
  {
   "cell_type": "code",
   "execution_count": 34,
   "metadata": {},
   "outputs": [],
   "source": [
    "def learn_subspace_best_performers(fn, low_dim, fn_dim, \n",
    "                                   num_best = 1, num_neighbors = 0,\n",
    "                                   twist_subspace = True,\n",
    "                                   twist_step_size = 1,\n",
    "                                   move_subspace = False,\n",
    "                                   move_step_size = 1,\n",
    "                                   restarts = 0,\n",
    "                                   samples = 200, max_iter = 1000, \n",
    "                                   initial_offset = 2, trace = False):\n",
    "    \n",
    "    best_found = 1e10\n",
    "    A = torch.randn((low_dim, fn_dim))\n",
    "    B = torch.randn(fn_dim) + initial_offset\n",
    "    first_run = True\n",
    "    \n",
    "#     x = (torch.rand((samples,low_dim)) * 2) - 1\n",
    "#     X = x@A + B\n",
    "#     y = fn.evaluate(X)\n",
    "    \n",
    "    for i in range(max_iter):\n",
    "        # Evaluate\n",
    "        x = (torch.rand((samples,low_dim)) * 2) - 1\n",
    "        X = x@A + B\n",
    "        y = fn.evaluate(X)\n",
    "        y_new = (y - torch.mean(y))/(torch.std(y))\n",
    "        \n",
    "        # Bayesian optimization step\n",
    "        gp = SingleTaskGP(x, y_new.reshape(-1,1) * -1)\n",
    "        from IPython.core.debugger import set_trace\n",
    "#         set_trace()\n",
    "        mll = ExactMarginalLogLikelihood(gp.likelihood, gp)\n",
    "        fit_gpytorch_model(mll)\n",
    "        UCB = UpperConfidenceBound(gp, beta=0.1)\n",
    "        bounds = torch.stack([torch.zeros(low_dim) - 5, torch.zeros(low_dim) + 5])\n",
    "        candidate, acq_value = optimize_acqf(\n",
    "            UCB, bounds=bounds, q=1, num_restarts=1, raw_samples=20,\n",
    "        )\n",
    "        \n",
    "        # TODO: actually see if candidate is the best\n",
    "        # TODO: play with the num_restarts and raw_samples\n",
    "        \n",
    "        shift_point = candidate@A + B  \n",
    "\n",
    "        # Update\n",
    "        if twist_subspace:\n",
    "            A = torch.concat([shift_point * twist_step_size, torch.randn((low_dim - num_best, fn_dim))], dim = 0)\n",
    "        else:\n",
    "            # Else, reinitialize the transition matrix\n",
    "            A = torch.randn((low_dim, fn_dim))\n",
    "            \n",
    "        if move_subspace:\n",
    "            if trace:\n",
    "                print(shift_point.shape)\n",
    "            B = torch.mean(shift_point * move_step_size, dim = 0)\n",
    "\n",
    "        # Iterate best found (searching for minimum)\n",
    "        if min(y) < best_found:\n",
    "            best_point = X[best_performers_indices[0]]\n",
    "            best_found = min(y)\n",
    "\n",
    "        if i%int(max_iter/10) == 0:\n",
    "            print(f\"Step {i} current min/best min found y is:{min(y):.2f}, {best_found:.2f}\")\n",
    "            \n",
    "#     print(f\"Best point found at {best_point}\")"
   ]
  },
  {
   "cell_type": "code",
   "execution_count": null,
   "metadata": {
    "scrolled": true
   },
   "outputs": [
    {
     "name": "stdout",
     "output_type": "stream",
     "text": [
      "Step 0 current min/best min found y is:8.95, 8.95\n",
      "Step 100 current min/best min found y is:2.60, 0.55\n",
      "Step 200 current min/best min found y is:3.44, 0.55\n",
      "Step 300 current min/best min found y is:1.87, 0.55\n",
      "Step 400 current min/best min found y is:4.60, 0.55\n"
     ]
    }
   ],
   "source": [
    "learn_subspace_best_performers(fn, 4, 200, \n",
    "                               num_best = 1, num_neighbors = 0,\n",
    "                               move_subspace = True,\n",
    "                               move_step_size = 1,\n",
    "                               restarts = 0)"
   ]
  },
  {
   "cell_type": "code",
   "execution_count": 25,
   "metadata": {},
   "outputs": [
    {
     "name": "stdout",
     "output_type": "stream",
     "text": [
      "> \u001b[1;32mc:\\users\\andrew\\anaconda3\\lib\\site-packages\\gpytorch\\utils\\cholesky.py\u001b[0m(45)\u001b[0;36m_psd_safe_cholesky\u001b[1;34m()\u001b[0m\n",
      "\u001b[1;32m     43 \u001b[1;33m        \u001b[1;32mif\u001b[0m \u001b[1;32mnot\u001b[0m \u001b[0mtorch\u001b[0m\u001b[1;33m.\u001b[0m\u001b[0many\u001b[0m\u001b[1;33m(\u001b[0m\u001b[0minfo\u001b[0m\u001b[1;33m)\u001b[0m\u001b[1;33m:\u001b[0m\u001b[1;33m\u001b[0m\u001b[1;33m\u001b[0m\u001b[0m\n",
      "\u001b[0m\u001b[1;32m     44 \u001b[1;33m            \u001b[1;32mreturn\u001b[0m \u001b[0mL\u001b[0m\u001b[1;33m\u001b[0m\u001b[1;33m\u001b[0m\u001b[0m\n",
      "\u001b[0m\u001b[1;32m---> 45 \u001b[1;33m    \u001b[1;32mraise\u001b[0m \u001b[0mNotPSDError\u001b[0m\u001b[1;33m(\u001b[0m\u001b[1;34mf\"Matrix not positive definite after repeatedly adding jitter up to {jitter_new:.1e}.\"\u001b[0m\u001b[1;33m)\u001b[0m\u001b[1;33m\u001b[0m\u001b[1;33m\u001b[0m\u001b[0m\n",
      "\u001b[0m\u001b[1;32m     46 \u001b[1;33m\u001b[1;33m\u001b[0m\u001b[0m\n",
      "\u001b[0m\u001b[1;32m     47 \u001b[1;33m\u001b[1;33m\u001b[0m\u001b[0m\n",
      "\u001b[0m\n",
      "ipdb> up\n",
      "> \u001b[1;32mc:\\users\\andrew\\anaconda3\\lib\\site-packages\\gpytorch\\utils\\cholesky.py\u001b[0m(63)\u001b[0;36mpsd_safe_cholesky\u001b[1;34m()\u001b[0m\n",
      "\u001b[1;32m     61 \u001b[1;33m            \u001b[0mNumber\u001b[0m \u001b[0mof\u001b[0m \u001b[0mattempts\u001b[0m \u001b[1;33m(\u001b[0m\u001b[1;32mwith\u001b[0m \u001b[0msuccessively\u001b[0m \u001b[0mincreasing\u001b[0m \u001b[0mjitter\u001b[0m\u001b[1;33m)\u001b[0m \u001b[0mto\u001b[0m \u001b[0mmake\u001b[0m \u001b[0mbefore\u001b[0m \u001b[0mraising\u001b[0m \u001b[0man\u001b[0m \u001b[0merror\u001b[0m\u001b[1;33m.\u001b[0m\u001b[1;33m\u001b[0m\u001b[1;33m\u001b[0m\u001b[0m\n",
      "\u001b[0m\u001b[1;32m     62 \u001b[1;33m    \"\"\"\n",
      "\u001b[0m\u001b[1;32m---> 63 \u001b[1;33m    \u001b[0mL\u001b[0m \u001b[1;33m=\u001b[0m \u001b[0m_psd_safe_cholesky\u001b[0m\u001b[1;33m(\u001b[0m\u001b[0mA\u001b[0m\u001b[1;33m,\u001b[0m \u001b[0mout\u001b[0m\u001b[1;33m=\u001b[0m\u001b[0mout\u001b[0m\u001b[1;33m,\u001b[0m \u001b[0mjitter\u001b[0m\u001b[1;33m=\u001b[0m\u001b[0mjitter\u001b[0m\u001b[1;33m,\u001b[0m \u001b[0mmax_tries\u001b[0m\u001b[1;33m=\u001b[0m\u001b[0mmax_tries\u001b[0m\u001b[1;33m)\u001b[0m\u001b[1;33m\u001b[0m\u001b[1;33m\u001b[0m\u001b[0m\n",
      "\u001b[0m\u001b[1;32m     64 \u001b[1;33m    \u001b[1;32mif\u001b[0m \u001b[0mupper\u001b[0m\u001b[1;33m:\u001b[0m\u001b[1;33m\u001b[0m\u001b[1;33m\u001b[0m\u001b[0m\n",
      "\u001b[0m\u001b[1;32m     65 \u001b[1;33m        \u001b[1;32mif\u001b[0m \u001b[0mout\u001b[0m \u001b[1;32mis\u001b[0m \u001b[1;32mnot\u001b[0m \u001b[1;32mNone\u001b[0m\u001b[1;33m:\u001b[0m\u001b[1;33m\u001b[0m\u001b[1;33m\u001b[0m\u001b[0m\n",
      "\u001b[0m\n",
      "ipdb> up\n",
      "> \u001b[1;32mc:\\users\\andrew\\anaconda3\\lib\\site-packages\\gpytorch\\lazy\\lazy_tensor.py\u001b[0m(435)\u001b[0;36m_cholesky\u001b[1;34m()\u001b[0m\n",
      "\u001b[1;32m    433 \u001b[1;33m\u001b[1;33m\u001b[0m\u001b[0m\n",
      "\u001b[0m\u001b[1;32m    434 \u001b[1;33m        \u001b[1;31m# contiguous call is necessary here\u001b[0m\u001b[1;33m\u001b[0m\u001b[1;33m\u001b[0m\u001b[1;33m\u001b[0m\u001b[0m\n",
      "\u001b[0m\u001b[1;32m--> 435 \u001b[1;33m        \u001b[0mcholesky\u001b[0m \u001b[1;33m=\u001b[0m \u001b[0mpsd_safe_cholesky\u001b[0m\u001b[1;33m(\u001b[0m\u001b[0mevaluated_mat\u001b[0m\u001b[1;33m,\u001b[0m \u001b[0mupper\u001b[0m\u001b[1;33m=\u001b[0m\u001b[0mupper\u001b[0m\u001b[1;33m)\u001b[0m\u001b[1;33m.\u001b[0m\u001b[0mcontiguous\u001b[0m\u001b[1;33m(\u001b[0m\u001b[1;33m)\u001b[0m\u001b[1;33m\u001b[0m\u001b[1;33m\u001b[0m\u001b[0m\n",
      "\u001b[0m\u001b[1;32m    436 \u001b[1;33m        \u001b[1;32mreturn\u001b[0m \u001b[0mTriangularLazyTensor\u001b[0m\u001b[1;33m(\u001b[0m\u001b[0mcholesky\u001b[0m\u001b[1;33m,\u001b[0m \u001b[0mupper\u001b[0m\u001b[1;33m=\u001b[0m\u001b[0mupper\u001b[0m\u001b[1;33m)\u001b[0m\u001b[1;33m\u001b[0m\u001b[1;33m\u001b[0m\u001b[0m\n",
      "\u001b[0m\u001b[1;32m    437 \u001b[1;33m\u001b[1;33m\u001b[0m\u001b[0m\n",
      "\u001b[0m\n",
      "ipdb> up\n",
      "> \u001b[1;32mc:\\users\\andrew\\anaconda3\\lib\\site-packages\\gpytorch\\utils\\memoize.py\u001b[0m(59)\u001b[0;36mg\u001b[1;34m()\u001b[0m\n",
      "\u001b[1;32m     57 \u001b[1;33m        \u001b[0mkwargs_pkl\u001b[0m \u001b[1;33m=\u001b[0m \u001b[0mpickle\u001b[0m\u001b[1;33m.\u001b[0m\u001b[0mdumps\u001b[0m\u001b[1;33m(\u001b[0m\u001b[0mkwargs\u001b[0m\u001b[1;33m)\u001b[0m\u001b[1;33m\u001b[0m\u001b[1;33m\u001b[0m\u001b[0m\n",
      "\u001b[0m\u001b[1;32m     58 \u001b[1;33m        \u001b[1;32mif\u001b[0m \u001b[1;32mnot\u001b[0m \u001b[0m_is_in_cache\u001b[0m\u001b[1;33m(\u001b[0m\u001b[0mself\u001b[0m\u001b[1;33m,\u001b[0m \u001b[0mcache_name\u001b[0m\u001b[1;33m,\u001b[0m \u001b[1;33m*\u001b[0m\u001b[0margs\u001b[0m\u001b[1;33m,\u001b[0m \u001b[0mkwargs_pkl\u001b[0m\u001b[1;33m=\u001b[0m\u001b[0mkwargs_pkl\u001b[0m\u001b[1;33m)\u001b[0m\u001b[1;33m:\u001b[0m\u001b[1;33m\u001b[0m\u001b[1;33m\u001b[0m\u001b[0m\n",
      "\u001b[0m\u001b[1;32m---> 59 \u001b[1;33m            \u001b[1;32mreturn\u001b[0m \u001b[0m_add_to_cache\u001b[0m\u001b[1;33m(\u001b[0m\u001b[0mself\u001b[0m\u001b[1;33m,\u001b[0m \u001b[0mcache_name\u001b[0m\u001b[1;33m,\u001b[0m \u001b[0mmethod\u001b[0m\u001b[1;33m(\u001b[0m\u001b[0mself\u001b[0m\u001b[1;33m,\u001b[0m \u001b[1;33m*\u001b[0m\u001b[0margs\u001b[0m\u001b[1;33m,\u001b[0m \u001b[1;33m**\u001b[0m\u001b[0mkwargs\u001b[0m\u001b[1;33m)\u001b[0m\u001b[1;33m,\u001b[0m \u001b[1;33m*\u001b[0m\u001b[0margs\u001b[0m\u001b[1;33m,\u001b[0m \u001b[0mkwargs_pkl\u001b[0m\u001b[1;33m=\u001b[0m\u001b[0mkwargs_pkl\u001b[0m\u001b[1;33m)\u001b[0m\u001b[1;33m\u001b[0m\u001b[1;33m\u001b[0m\u001b[0m\n",
      "\u001b[0m\u001b[1;32m     60 \u001b[1;33m        \u001b[1;32mreturn\u001b[0m \u001b[0m_get_from_cache\u001b[0m\u001b[1;33m(\u001b[0m\u001b[0mself\u001b[0m\u001b[1;33m,\u001b[0m \u001b[0mcache_name\u001b[0m\u001b[1;33m,\u001b[0m \u001b[1;33m*\u001b[0m\u001b[0margs\u001b[0m\u001b[1;33m,\u001b[0m \u001b[0mkwargs_pkl\u001b[0m\u001b[1;33m=\u001b[0m\u001b[0mkwargs_pkl\u001b[0m\u001b[1;33m)\u001b[0m\u001b[1;33m\u001b[0m\u001b[1;33m\u001b[0m\u001b[0m\n",
      "\u001b[0m\u001b[1;32m     61 \u001b[1;33m\u001b[1;33m\u001b[0m\u001b[0m\n",
      "\u001b[0m\n",
      "ipdb> up\n",
      "> \u001b[1;32mc:\\users\\andrew\\anaconda3\\lib\\site-packages\\gpytorch\\lazy\\lazy_tensor.py\u001b[0m(1004)\u001b[0;36mcholesky\u001b[1;34m()\u001b[0m\n",
      "\u001b[1;32m   1002 \u001b[1;33m            \u001b[1;33m(\u001b[0m\u001b[0mLazyTensor\u001b[0m\u001b[1;33m)\u001b[0m \u001b[0mCholesky\u001b[0m \u001b[0mfactor\u001b[0m \u001b[1;33m(\u001b[0m\u001b[0mtriangular\u001b[0m\u001b[1;33m,\u001b[0m \u001b[0mupper\u001b[0m\u001b[1;33m/\u001b[0m\u001b[0mlower\u001b[0m \u001b[0mdepending\u001b[0m \u001b[0mon\u001b[0m \u001b[1;34m\"upper\"\u001b[0m \u001b[0marg\u001b[0m\u001b[1;33m)\u001b[0m\u001b[1;33m\u001b[0m\u001b[1;33m\u001b[0m\u001b[0m\n",
      "\u001b[0m\u001b[1;32m   1003 \u001b[1;33m        \"\"\"\n",
      "\u001b[0m\u001b[1;32m-> 1004 \u001b[1;33m        \u001b[0mchol\u001b[0m \u001b[1;33m=\u001b[0m \u001b[0mself\u001b[0m\u001b[1;33m.\u001b[0m\u001b[0m_cholesky\u001b[0m\u001b[1;33m(\u001b[0m\u001b[0mupper\u001b[0m\u001b[1;33m=\u001b[0m\u001b[1;32mFalse\u001b[0m\u001b[1;33m)\u001b[0m\u001b[1;33m\u001b[0m\u001b[1;33m\u001b[0m\u001b[0m\n",
      "\u001b[0m\u001b[1;32m   1005 \u001b[1;33m        \u001b[1;32mif\u001b[0m \u001b[0mupper\u001b[0m\u001b[1;33m:\u001b[0m\u001b[1;33m\u001b[0m\u001b[1;33m\u001b[0m\u001b[0m\n",
      "\u001b[0m\u001b[1;32m   1006 \u001b[1;33m            \u001b[0mchol\u001b[0m \u001b[1;33m=\u001b[0m \u001b[0mchol\u001b[0m\u001b[1;33m.\u001b[0m\u001b[0m_transpose_nonbatch\u001b[0m\u001b[1;33m(\u001b[0m\u001b[1;33m)\u001b[0m\u001b[1;33m\u001b[0m\u001b[1;33m\u001b[0m\u001b[0m\n",
      "\u001b[0m\n",
      "ipdb> up\n",
      "> \u001b[1;32mc:\\users\\andrew\\anaconda3\\lib\\site-packages\\gpytorch\\distributions\\multivariate_normal.py\u001b[0m(57)\u001b[0;36m_unbroadcasted_scale_tril\u001b[1;34m()\u001b[0m\n",
      "\u001b[1;32m     55 \u001b[1;33m        \u001b[1;32mif\u001b[0m \u001b[0mself\u001b[0m\u001b[1;33m.\u001b[0m\u001b[0mislazy\u001b[0m \u001b[1;32mand\u001b[0m \u001b[0mself\u001b[0m\u001b[1;33m.\u001b[0m\u001b[0m__unbroadcasted_scale_tril\u001b[0m \u001b[1;32mis\u001b[0m \u001b[1;32mNone\u001b[0m\u001b[1;33m:\u001b[0m\u001b[1;33m\u001b[0m\u001b[1;33m\u001b[0m\u001b[0m\n",
      "\u001b[0m\u001b[1;32m     56 \u001b[1;33m            \u001b[1;31m# cache root decoposition\u001b[0m\u001b[1;33m\u001b[0m\u001b[1;33m\u001b[0m\u001b[1;33m\u001b[0m\u001b[0m\n",
      "\u001b[0m\u001b[1;32m---> 57 \u001b[1;33m            \u001b[0must\u001b[0m \u001b[1;33m=\u001b[0m \u001b[0mdelazify\u001b[0m\u001b[1;33m(\u001b[0m\u001b[0mself\u001b[0m\u001b[1;33m.\u001b[0m\u001b[0mlazy_covariance_matrix\u001b[0m\u001b[1;33m.\u001b[0m\u001b[0mcholesky\u001b[0m\u001b[1;33m(\u001b[0m\u001b[1;33m)\u001b[0m\u001b[1;33m)\u001b[0m\u001b[1;33m\u001b[0m\u001b[1;33m\u001b[0m\u001b[0m\n",
      "\u001b[0m\u001b[1;32m     58 \u001b[1;33m            \u001b[0mself\u001b[0m\u001b[1;33m.\u001b[0m\u001b[0m__unbroadcasted_scale_tril\u001b[0m \u001b[1;33m=\u001b[0m \u001b[0must\u001b[0m\u001b[1;33m\u001b[0m\u001b[1;33m\u001b[0m\u001b[0m\n",
      "\u001b[0m\u001b[1;32m     59 \u001b[1;33m        \u001b[1;32mreturn\u001b[0m \u001b[0mself\u001b[0m\u001b[1;33m.\u001b[0m\u001b[0m__unbroadcasted_scale_tril\u001b[0m\u001b[1;33m\u001b[0m\u001b[1;33m\u001b[0m\u001b[0m\n",
      "\u001b[0m\n",
      "ipdb> up\n",
      "> \u001b[1;32mc:\\users\\andrew\\anaconda3\\lib\\site-packages\\torch\\distributions\\multivariate_normal.py\u001b[0m(210)\u001b[0;36mlog_prob\u001b[1;34m()\u001b[0m\n",
      "\u001b[1;32m    208 \u001b[1;33m            \u001b[0mself\u001b[0m\u001b[1;33m.\u001b[0m\u001b[0m_validate_sample\u001b[0m\u001b[1;33m(\u001b[0m\u001b[0mvalue\u001b[0m\u001b[1;33m)\u001b[0m\u001b[1;33m\u001b[0m\u001b[1;33m\u001b[0m\u001b[0m\n",
      "\u001b[0m\u001b[1;32m    209 \u001b[1;33m        \u001b[0mdiff\u001b[0m \u001b[1;33m=\u001b[0m \u001b[0mvalue\u001b[0m \u001b[1;33m-\u001b[0m \u001b[0mself\u001b[0m\u001b[1;33m.\u001b[0m\u001b[0mloc\u001b[0m\u001b[1;33m\u001b[0m\u001b[1;33m\u001b[0m\u001b[0m\n",
      "\u001b[0m\u001b[1;32m--> 210 \u001b[1;33m        \u001b[0mM\u001b[0m \u001b[1;33m=\u001b[0m \u001b[0m_batch_mahalanobis\u001b[0m\u001b[1;33m(\u001b[0m\u001b[0mself\u001b[0m\u001b[1;33m.\u001b[0m\u001b[0m_unbroadcasted_scale_tril\u001b[0m\u001b[1;33m,\u001b[0m \u001b[0mdiff\u001b[0m\u001b[1;33m)\u001b[0m\u001b[1;33m\u001b[0m\u001b[1;33m\u001b[0m\u001b[0m\n",
      "\u001b[0m\u001b[1;32m    211 \u001b[1;33m        \u001b[0mhalf_log_det\u001b[0m \u001b[1;33m=\u001b[0m \u001b[0mself\u001b[0m\u001b[1;33m.\u001b[0m\u001b[0m_unbroadcasted_scale_tril\u001b[0m\u001b[1;33m.\u001b[0m\u001b[0mdiagonal\u001b[0m\u001b[1;33m(\u001b[0m\u001b[0mdim1\u001b[0m\u001b[1;33m=\u001b[0m\u001b[1;33m-\u001b[0m\u001b[1;36m2\u001b[0m\u001b[1;33m,\u001b[0m \u001b[0mdim2\u001b[0m\u001b[1;33m=\u001b[0m\u001b[1;33m-\u001b[0m\u001b[1;36m1\u001b[0m\u001b[1;33m)\u001b[0m\u001b[1;33m.\u001b[0m\u001b[0mlog\u001b[0m\u001b[1;33m(\u001b[0m\u001b[1;33m)\u001b[0m\u001b[1;33m.\u001b[0m\u001b[0msum\u001b[0m\u001b[1;33m(\u001b[0m\u001b[1;33m-\u001b[0m\u001b[1;36m1\u001b[0m\u001b[1;33m)\u001b[0m\u001b[1;33m\u001b[0m\u001b[1;33m\u001b[0m\u001b[0m\n",
      "\u001b[0m\u001b[1;32m    212 \u001b[1;33m        \u001b[1;32mreturn\u001b[0m \u001b[1;33m-\u001b[0m\u001b[1;36m0.5\u001b[0m \u001b[1;33m*\u001b[0m \u001b[1;33m(\u001b[0m\u001b[0mself\u001b[0m\u001b[1;33m.\u001b[0m\u001b[0m_event_shape\u001b[0m\u001b[1;33m[\u001b[0m\u001b[1;36m0\u001b[0m\u001b[1;33m]\u001b[0m \u001b[1;33m*\u001b[0m \u001b[0mmath\u001b[0m\u001b[1;33m.\u001b[0m\u001b[0mlog\u001b[0m\u001b[1;33m(\u001b[0m\u001b[1;36m2\u001b[0m \u001b[1;33m*\u001b[0m \u001b[0mmath\u001b[0m\u001b[1;33m.\u001b[0m\u001b[0mpi\u001b[0m\u001b[1;33m)\u001b[0m \u001b[1;33m+\u001b[0m \u001b[0mM\u001b[0m\u001b[1;33m)\u001b[0m \u001b[1;33m-\u001b[0m \u001b[0mhalf_log_det\u001b[0m\u001b[1;33m\u001b[0m\u001b[1;33m\u001b[0m\u001b[0m\n",
      "\u001b[0m\n",
      "ipdb> up\n",
      "> \u001b[1;32mc:\\users\\andrew\\anaconda3\\lib\\site-packages\\gpytorch\\distributions\\multivariate_normal.py\u001b[0m(147)\u001b[0;36mlog_prob\u001b[1;34m()\u001b[0m\n",
      "\u001b[1;32m    145 \u001b[1;33m    \u001b[1;32mdef\u001b[0m \u001b[0mlog_prob\u001b[0m\u001b[1;33m(\u001b[0m\u001b[0mself\u001b[0m\u001b[1;33m,\u001b[0m \u001b[0mvalue\u001b[0m\u001b[1;33m)\u001b[0m\u001b[1;33m:\u001b[0m\u001b[1;33m\u001b[0m\u001b[1;33m\u001b[0m\u001b[0m\n",
      "\u001b[0m\u001b[1;32m    146 \u001b[1;33m        \u001b[1;32mif\u001b[0m \u001b[0msettings\u001b[0m\u001b[1;33m.\u001b[0m\u001b[0mfast_computations\u001b[0m\u001b[1;33m.\u001b[0m\u001b[0mlog_prob\u001b[0m\u001b[1;33m.\u001b[0m\u001b[0moff\u001b[0m\u001b[1;33m(\u001b[0m\u001b[1;33m)\u001b[0m\u001b[1;33m:\u001b[0m\u001b[1;33m\u001b[0m\u001b[1;33m\u001b[0m\u001b[0m\n",
      "\u001b[0m\u001b[1;32m--> 147 \u001b[1;33m            \u001b[1;32mreturn\u001b[0m \u001b[0msuper\u001b[0m\u001b[1;33m(\u001b[0m\u001b[1;33m)\u001b[0m\u001b[1;33m.\u001b[0m\u001b[0mlog_prob\u001b[0m\u001b[1;33m(\u001b[0m\u001b[0mvalue\u001b[0m\u001b[1;33m)\u001b[0m\u001b[1;33m\u001b[0m\u001b[1;33m\u001b[0m\u001b[0m\n",
      "\u001b[0m\u001b[1;32m    148 \u001b[1;33m\u001b[1;33m\u001b[0m\u001b[0m\n",
      "\u001b[0m\u001b[1;32m    149 \u001b[1;33m        \u001b[1;32mif\u001b[0m \u001b[0mself\u001b[0m\u001b[1;33m.\u001b[0m\u001b[0m_validate_args\u001b[0m\u001b[1;33m:\u001b[0m\u001b[1;33m\u001b[0m\u001b[1;33m\u001b[0m\u001b[0m\n",
      "\u001b[0m\n",
      "ipdb> up\n",
      "> \u001b[1;32mc:\\users\\andrew\\anaconda3\\lib\\site-packages\\gpytorch\\mlls\\exact_marginal_log_likelihood.py\u001b[0m(62)\u001b[0;36mforward\u001b[1;34m()\u001b[0m\n",
      "\u001b[1;32m     60 \u001b[1;33m        \u001b[1;31m# Get the log prob of the marginal distribution\u001b[0m\u001b[1;33m\u001b[0m\u001b[1;33m\u001b[0m\u001b[1;33m\u001b[0m\u001b[0m\n",
      "\u001b[0m\u001b[1;32m     61 \u001b[1;33m        \u001b[0moutput\u001b[0m \u001b[1;33m=\u001b[0m \u001b[0mself\u001b[0m\u001b[1;33m.\u001b[0m\u001b[0mlikelihood\u001b[0m\u001b[1;33m(\u001b[0m\u001b[0mfunction_dist\u001b[0m\u001b[1;33m,\u001b[0m \u001b[1;33m*\u001b[0m\u001b[0mparams\u001b[0m\u001b[1;33m)\u001b[0m\u001b[1;33m\u001b[0m\u001b[1;33m\u001b[0m\u001b[0m\n",
      "\u001b[0m\u001b[1;32m---> 62 \u001b[1;33m        \u001b[0mres\u001b[0m \u001b[1;33m=\u001b[0m \u001b[0moutput\u001b[0m\u001b[1;33m.\u001b[0m\u001b[0mlog_prob\u001b[0m\u001b[1;33m(\u001b[0m\u001b[0mtarget\u001b[0m\u001b[1;33m)\u001b[0m\u001b[1;33m\u001b[0m\u001b[1;33m\u001b[0m\u001b[0m\n",
      "\u001b[0m\u001b[1;32m     63 \u001b[1;33m        \u001b[0mres\u001b[0m \u001b[1;33m=\u001b[0m \u001b[0mself\u001b[0m\u001b[1;33m.\u001b[0m\u001b[0m_add_other_terms\u001b[0m\u001b[1;33m(\u001b[0m\u001b[0mres\u001b[0m\u001b[1;33m,\u001b[0m \u001b[0mparams\u001b[0m\u001b[1;33m)\u001b[0m\u001b[1;33m\u001b[0m\u001b[1;33m\u001b[0m\u001b[0m\n",
      "\u001b[0m\u001b[1;32m     64 \u001b[1;33m\u001b[1;33m\u001b[0m\u001b[0m\n",
      "\u001b[0m\n"
     ]
    },
    {
     "name": "stdout",
     "output_type": "stream",
     "text": [
      "ipdb> up\n",
      "> \u001b[1;32mc:\\users\\andrew\\anaconda3\\lib\\site-packages\\gpytorch\\module.py\u001b[0m(30)\u001b[0;36m__call__\u001b[1;34m()\u001b[0m\n",
      "\u001b[1;32m     28 \u001b[1;33m\u001b[1;33m\u001b[0m\u001b[0m\n",
      "\u001b[0m\u001b[1;32m     29 \u001b[1;33m    \u001b[1;32mdef\u001b[0m \u001b[0m__call__\u001b[0m\u001b[1;33m(\u001b[0m\u001b[0mself\u001b[0m\u001b[1;33m,\u001b[0m \u001b[1;33m*\u001b[0m\u001b[0minputs\u001b[0m\u001b[1;33m,\u001b[0m \u001b[1;33m**\u001b[0m\u001b[0mkwargs\u001b[0m\u001b[1;33m)\u001b[0m\u001b[1;33m:\u001b[0m\u001b[1;33m\u001b[0m\u001b[1;33m\u001b[0m\u001b[0m\n",
      "\u001b[0m\u001b[1;32m---> 30 \u001b[1;33m        \u001b[0moutputs\u001b[0m \u001b[1;33m=\u001b[0m \u001b[0mself\u001b[0m\u001b[1;33m.\u001b[0m\u001b[0mforward\u001b[0m\u001b[1;33m(\u001b[0m\u001b[1;33m*\u001b[0m\u001b[0minputs\u001b[0m\u001b[1;33m,\u001b[0m \u001b[1;33m**\u001b[0m\u001b[0mkwargs\u001b[0m\u001b[1;33m)\u001b[0m\u001b[1;33m\u001b[0m\u001b[1;33m\u001b[0m\u001b[0m\n",
      "\u001b[0m\u001b[1;32m     31 \u001b[1;33m        \u001b[1;32mif\u001b[0m \u001b[0misinstance\u001b[0m\u001b[1;33m(\u001b[0m\u001b[0moutputs\u001b[0m\u001b[1;33m,\u001b[0m \u001b[0mlist\u001b[0m\u001b[1;33m)\u001b[0m\u001b[1;33m:\u001b[0m\u001b[1;33m\u001b[0m\u001b[1;33m\u001b[0m\u001b[0m\n",
      "\u001b[0m\u001b[1;32m     32 \u001b[1;33m            \u001b[1;32mreturn\u001b[0m \u001b[1;33m[\u001b[0m\u001b[0m_validate_module_outputs\u001b[0m\u001b[1;33m(\u001b[0m\u001b[0moutput\u001b[0m\u001b[1;33m)\u001b[0m \u001b[1;32mfor\u001b[0m \u001b[0moutput\u001b[0m \u001b[1;32min\u001b[0m \u001b[0moutputs\u001b[0m\u001b[1;33m]\u001b[0m\u001b[1;33m\u001b[0m\u001b[1;33m\u001b[0m\u001b[0m\n",
      "\u001b[0m\n",
      "ipdb> up\n",
      "> \u001b[1;32mc:\\users\\andrew\\anaconda3\\lib\\site-packages\\botorch\\optim\\utils.py\u001b[0m(214)\u001b[0;36m_scipy_objective_and_grad\u001b[1;34m()\u001b[0m\n",
      "\u001b[1;32m    212 \u001b[1;33m        \u001b[0moutput\u001b[0m \u001b[1;33m=\u001b[0m \u001b[0mmll\u001b[0m\u001b[1;33m.\u001b[0m\u001b[0mmodel\u001b[0m\u001b[1;33m(\u001b[0m\u001b[1;33m*\u001b[0m\u001b[0mtrain_inputs\u001b[0m\u001b[1;33m)\u001b[0m\u001b[1;33m\u001b[0m\u001b[1;33m\u001b[0m\u001b[0m\n",
      "\u001b[0m\u001b[1;32m    213 \u001b[1;33m        \u001b[0margs\u001b[0m \u001b[1;33m=\u001b[0m \u001b[1;33m[\u001b[0m\u001b[0moutput\u001b[0m\u001b[1;33m,\u001b[0m \u001b[0mtrain_targets\u001b[0m\u001b[1;33m]\u001b[0m \u001b[1;33m+\u001b[0m \u001b[0m_get_extra_mll_args\u001b[0m\u001b[1;33m(\u001b[0m\u001b[0mmll\u001b[0m\u001b[1;33m)\u001b[0m\u001b[1;33m\u001b[0m\u001b[1;33m\u001b[0m\u001b[0m\n",
      "\u001b[0m\u001b[1;32m--> 214 \u001b[1;33m        \u001b[0mloss\u001b[0m \u001b[1;33m=\u001b[0m \u001b[1;33m-\u001b[0m\u001b[0mmll\u001b[0m\u001b[1;33m(\u001b[0m\u001b[1;33m*\u001b[0m\u001b[0margs\u001b[0m\u001b[1;33m)\u001b[0m\u001b[1;33m.\u001b[0m\u001b[0msum\u001b[0m\u001b[1;33m(\u001b[0m\u001b[1;33m)\u001b[0m\u001b[1;33m\u001b[0m\u001b[1;33m\u001b[0m\u001b[0m\n",
      "\u001b[0m\u001b[1;32m    215 \u001b[1;33m    \u001b[1;32mexcept\u001b[0m \u001b[0mRuntimeError\u001b[0m \u001b[1;32mas\u001b[0m \u001b[0me\u001b[0m\u001b[1;33m:\u001b[0m\u001b[1;33m\u001b[0m\u001b[1;33m\u001b[0m\u001b[0m\n",
      "\u001b[0m\u001b[1;32m    216 \u001b[1;33m        \u001b[1;32mif\u001b[0m \u001b[0misinstance\u001b[0m\u001b[1;33m(\u001b[0m\u001b[0me\u001b[0m\u001b[1;33m,\u001b[0m \u001b[0mNotPSDError\u001b[0m\u001b[1;33m)\u001b[0m\u001b[1;33m:\u001b[0m\u001b[1;33m\u001b[0m\u001b[1;33m\u001b[0m\u001b[0m\n",
      "\u001b[0m\n",
      "ipdb> up\n",
      "> \u001b[1;32mc:\\users\\andrew\\anaconda3\\lib\\site-packages\\botorch\\optim\\utils.py\u001b[0m(217)\u001b[0;36m_scipy_objective_and_grad\u001b[1;34m()\u001b[0m\n",
      "\u001b[1;32m    215 \u001b[1;33m    \u001b[1;32mexcept\u001b[0m \u001b[0mRuntimeError\u001b[0m \u001b[1;32mas\u001b[0m \u001b[0me\u001b[0m\u001b[1;33m:\u001b[0m\u001b[1;33m\u001b[0m\u001b[1;33m\u001b[0m\u001b[0m\n",
      "\u001b[0m\u001b[1;32m    216 \u001b[1;33m        \u001b[1;32mif\u001b[0m \u001b[0misinstance\u001b[0m\u001b[1;33m(\u001b[0m\u001b[0me\u001b[0m\u001b[1;33m,\u001b[0m \u001b[0mNotPSDError\u001b[0m\u001b[1;33m)\u001b[0m\u001b[1;33m:\u001b[0m\u001b[1;33m\u001b[0m\u001b[1;33m\u001b[0m\u001b[0m\n",
      "\u001b[0m\u001b[1;32m--> 217 \u001b[1;33m            \u001b[1;32mraise\u001b[0m \u001b[0me\u001b[0m\u001b[1;33m\u001b[0m\u001b[1;33m\u001b[0m\u001b[0m\n",
      "\u001b[0m\u001b[1;32m    218 \u001b[1;33m        \u001b[1;32mif\u001b[0m \u001b[0misinstance\u001b[0m\u001b[1;33m(\u001b[0m\u001b[0me\u001b[0m\u001b[1;33m,\u001b[0m \u001b[0mNanError\u001b[0m\u001b[1;33m)\u001b[0m \u001b[1;32mor\u001b[0m \u001b[1;34m\"singular\"\u001b[0m \u001b[1;32min\u001b[0m \u001b[0me\u001b[0m\u001b[1;33m.\u001b[0m\u001b[0margs\u001b[0m\u001b[1;33m[\u001b[0m\u001b[1;36m0\u001b[0m\u001b[1;33m]\u001b[0m\u001b[1;33m:\u001b[0m\u001b[1;33m\u001b[0m\u001b[1;33m\u001b[0m\u001b[0m\n",
      "\u001b[0m\u001b[1;32m    219 \u001b[1;33m            \u001b[1;32mreturn\u001b[0m \u001b[0mfloat\u001b[0m\u001b[1;33m(\u001b[0m\u001b[1;34m\"nan\"\u001b[0m\u001b[1;33m)\u001b[0m\u001b[1;33m,\u001b[0m \u001b[0mnp\u001b[0m\u001b[1;33m.\u001b[0m\u001b[0mfull_like\u001b[0m\u001b[1;33m(\u001b[0m\u001b[0mx\u001b[0m\u001b[1;33m,\u001b[0m \u001b[1;34m\"nan\"\u001b[0m\u001b[1;33m)\u001b[0m\u001b[1;33m\u001b[0m\u001b[1;33m\u001b[0m\u001b[0m\n",
      "\u001b[0m\n",
      "ipdb> up\n",
      "> \u001b[1;32mc:\\users\\andrew\\anaconda3\\lib\\site-packages\\scipy\\optimize\\optimize.py\u001b[0m(68)\u001b[0;36m_compute_if_needed\u001b[1;34m()\u001b[0m\n",
      "\u001b[1;32m     66 \u001b[1;33m        \u001b[1;32mif\u001b[0m \u001b[1;32mnot\u001b[0m \u001b[0mnp\u001b[0m\u001b[1;33m.\u001b[0m\u001b[0mall\u001b[0m\u001b[1;33m(\u001b[0m\u001b[0mx\u001b[0m \u001b[1;33m==\u001b[0m \u001b[0mself\u001b[0m\u001b[1;33m.\u001b[0m\u001b[0mx\u001b[0m\u001b[1;33m)\u001b[0m \u001b[1;32mor\u001b[0m \u001b[0mself\u001b[0m\u001b[1;33m.\u001b[0m\u001b[0m_value\u001b[0m \u001b[1;32mis\u001b[0m \u001b[1;32mNone\u001b[0m \u001b[1;32mor\u001b[0m \u001b[0mself\u001b[0m\u001b[1;33m.\u001b[0m\u001b[0mjac\u001b[0m \u001b[1;32mis\u001b[0m \u001b[1;32mNone\u001b[0m\u001b[1;33m:\u001b[0m\u001b[1;33m\u001b[0m\u001b[1;33m\u001b[0m\u001b[0m\n",
      "\u001b[0m\u001b[1;32m     67 \u001b[1;33m            \u001b[0mself\u001b[0m\u001b[1;33m.\u001b[0m\u001b[0mx\u001b[0m \u001b[1;33m=\u001b[0m \u001b[0mnp\u001b[0m\u001b[1;33m.\u001b[0m\u001b[0masarray\u001b[0m\u001b[1;33m(\u001b[0m\u001b[0mx\u001b[0m\u001b[1;33m)\u001b[0m\u001b[1;33m.\u001b[0m\u001b[0mcopy\u001b[0m\u001b[1;33m(\u001b[0m\u001b[1;33m)\u001b[0m\u001b[1;33m\u001b[0m\u001b[1;33m\u001b[0m\u001b[0m\n",
      "\u001b[0m\u001b[1;32m---> 68 \u001b[1;33m            \u001b[0mfg\u001b[0m \u001b[1;33m=\u001b[0m \u001b[0mself\u001b[0m\u001b[1;33m.\u001b[0m\u001b[0mfun\u001b[0m\u001b[1;33m(\u001b[0m\u001b[0mx\u001b[0m\u001b[1;33m,\u001b[0m \u001b[1;33m*\u001b[0m\u001b[0margs\u001b[0m\u001b[1;33m)\u001b[0m\u001b[1;33m\u001b[0m\u001b[1;33m\u001b[0m\u001b[0m\n",
      "\u001b[0m\u001b[1;32m     69 \u001b[1;33m            \u001b[0mself\u001b[0m\u001b[1;33m.\u001b[0m\u001b[0mjac\u001b[0m \u001b[1;33m=\u001b[0m \u001b[0mfg\u001b[0m\u001b[1;33m[\u001b[0m\u001b[1;36m1\u001b[0m\u001b[1;33m]\u001b[0m\u001b[1;33m\u001b[0m\u001b[1;33m\u001b[0m\u001b[0m\n",
      "\u001b[0m\u001b[1;32m     70 \u001b[1;33m            \u001b[0mself\u001b[0m\u001b[1;33m.\u001b[0m\u001b[0m_value\u001b[0m \u001b[1;33m=\u001b[0m \u001b[0mfg\u001b[0m\u001b[1;33m[\u001b[0m\u001b[1;36m0\u001b[0m\u001b[1;33m]\u001b[0m\u001b[1;33m\u001b[0m\u001b[1;33m\u001b[0m\u001b[0m\n",
      "\u001b[0m\n",
      "ipdb> up\n",
      "> \u001b[1;32mc:\\users\\andrew\\anaconda3\\lib\\site-packages\\scipy\\optimize\\optimize.py\u001b[0m(74)\u001b[0;36m__call__\u001b[1;34m()\u001b[0m\n",
      "\u001b[1;32m     72 \u001b[1;33m    \u001b[1;32mdef\u001b[0m \u001b[0m__call__\u001b[0m\u001b[1;33m(\u001b[0m\u001b[0mself\u001b[0m\u001b[1;33m,\u001b[0m \u001b[0mx\u001b[0m\u001b[1;33m,\u001b[0m \u001b[1;33m*\u001b[0m\u001b[0margs\u001b[0m\u001b[1;33m)\u001b[0m\u001b[1;33m:\u001b[0m\u001b[1;33m\u001b[0m\u001b[1;33m\u001b[0m\u001b[0m\n",
      "\u001b[0m\u001b[1;32m     73 \u001b[1;33m        \u001b[1;34m\"\"\" returns the the function value \"\"\"\u001b[0m\u001b[1;33m\u001b[0m\u001b[1;33m\u001b[0m\u001b[0m\n",
      "\u001b[0m\u001b[1;32m---> 74 \u001b[1;33m        \u001b[0mself\u001b[0m\u001b[1;33m.\u001b[0m\u001b[0m_compute_if_needed\u001b[0m\u001b[1;33m(\u001b[0m\u001b[0mx\u001b[0m\u001b[1;33m,\u001b[0m \u001b[1;33m*\u001b[0m\u001b[0margs\u001b[0m\u001b[1;33m)\u001b[0m\u001b[1;33m\u001b[0m\u001b[1;33m\u001b[0m\u001b[0m\n",
      "\u001b[0m\u001b[1;32m     75 \u001b[1;33m        \u001b[1;32mreturn\u001b[0m \u001b[0mself\u001b[0m\u001b[1;33m.\u001b[0m\u001b[0m_value\u001b[0m\u001b[1;33m\u001b[0m\u001b[1;33m\u001b[0m\u001b[0m\n",
      "\u001b[0m\u001b[1;32m     76 \u001b[1;33m\u001b[1;33m\u001b[0m\u001b[0m\n",
      "\u001b[0m\n",
      "ipdb> up\n",
      "> \u001b[1;32mc:\\users\\andrew\\anaconda3\\lib\\site-packages\\scipy\\optimize\\_differentiable_functions.py\u001b[0m(70)\u001b[0;36mfun_wrapped\u001b[1;34m()\u001b[0m\n",
      "\u001b[1;32m     68 \u001b[1;33m        \u001b[1;32mdef\u001b[0m \u001b[0mfun_wrapped\u001b[0m\u001b[1;33m(\u001b[0m\u001b[0mx\u001b[0m\u001b[1;33m)\u001b[0m\u001b[1;33m:\u001b[0m\u001b[1;33m\u001b[0m\u001b[1;33m\u001b[0m\u001b[0m\n",
      "\u001b[0m\u001b[1;32m     69 \u001b[1;33m            \u001b[0mself\u001b[0m\u001b[1;33m.\u001b[0m\u001b[0mnfev\u001b[0m \u001b[1;33m+=\u001b[0m \u001b[1;36m1\u001b[0m\u001b[1;33m\u001b[0m\u001b[1;33m\u001b[0m\u001b[0m\n",
      "\u001b[0m\u001b[1;32m---> 70 \u001b[1;33m            \u001b[1;32mreturn\u001b[0m \u001b[0mfun\u001b[0m\u001b[1;33m(\u001b[0m\u001b[0mx\u001b[0m\u001b[1;33m,\u001b[0m \u001b[1;33m*\u001b[0m\u001b[0margs\u001b[0m\u001b[1;33m)\u001b[0m\u001b[1;33m\u001b[0m\u001b[1;33m\u001b[0m\u001b[0m\n",
      "\u001b[0m\u001b[1;32m     71 \u001b[1;33m\u001b[1;33m\u001b[0m\u001b[0m\n",
      "\u001b[0m\u001b[1;32m     72 \u001b[1;33m        \u001b[1;32mdef\u001b[0m \u001b[0mupdate_fun\u001b[0m\u001b[1;33m(\u001b[0m\u001b[1;33m)\u001b[0m\u001b[1;33m:\u001b[0m\u001b[1;33m\u001b[0m\u001b[1;33m\u001b[0m\u001b[0m\n",
      "\u001b[0m\n",
      "ipdb> up\n",
      "> \u001b[1;32mc:\\users\\andrew\\anaconda3\\lib\\site-packages\\scipy\\optimize\\_differentiable_functions.py\u001b[0m(73)\u001b[0;36mupdate_fun\u001b[1;34m()\u001b[0m\n",
      "\u001b[1;32m     71 \u001b[1;33m\u001b[1;33m\u001b[0m\u001b[0m\n",
      "\u001b[0m\u001b[1;32m     72 \u001b[1;33m        \u001b[1;32mdef\u001b[0m \u001b[0mupdate_fun\u001b[0m\u001b[1;33m(\u001b[0m\u001b[1;33m)\u001b[0m\u001b[1;33m:\u001b[0m\u001b[1;33m\u001b[0m\u001b[1;33m\u001b[0m\u001b[0m\n",
      "\u001b[0m\u001b[1;32m---> 73 \u001b[1;33m            \u001b[0mself\u001b[0m\u001b[1;33m.\u001b[0m\u001b[0mf\u001b[0m \u001b[1;33m=\u001b[0m \u001b[0mfun_wrapped\u001b[0m\u001b[1;33m(\u001b[0m\u001b[0mself\u001b[0m\u001b[1;33m.\u001b[0m\u001b[0mx\u001b[0m\u001b[1;33m)\u001b[0m\u001b[1;33m\u001b[0m\u001b[1;33m\u001b[0m\u001b[0m\n",
      "\u001b[0m\u001b[1;32m     74 \u001b[1;33m\u001b[1;33m\u001b[0m\u001b[0m\n",
      "\u001b[0m\u001b[1;32m     75 \u001b[1;33m        \u001b[0mself\u001b[0m\u001b[1;33m.\u001b[0m\u001b[0m_update_fun_impl\u001b[0m \u001b[1;33m=\u001b[0m \u001b[0mupdate_fun\u001b[0m\u001b[1;33m\u001b[0m\u001b[1;33m\u001b[0m\u001b[0m\n",
      "\u001b[0m\n",
      "ipdb> up\n",
      "> \u001b[1;32mc:\\users\\andrew\\anaconda3\\lib\\site-packages\\scipy\\optimize\\_differentiable_functions.py\u001b[0m(166)\u001b[0;36m_update_fun\u001b[1;34m()\u001b[0m\n",
      "\u001b[1;32m    164 \u001b[1;33m    \u001b[1;32mdef\u001b[0m \u001b[0m_update_fun\u001b[0m\u001b[1;33m(\u001b[0m\u001b[0mself\u001b[0m\u001b[1;33m)\u001b[0m\u001b[1;33m:\u001b[0m\u001b[1;33m\u001b[0m\u001b[1;33m\u001b[0m\u001b[0m\n",
      "\u001b[0m\u001b[1;32m    165 \u001b[1;33m        \u001b[1;32mif\u001b[0m \u001b[1;32mnot\u001b[0m \u001b[0mself\u001b[0m\u001b[1;33m.\u001b[0m\u001b[0mf_updated\u001b[0m\u001b[1;33m:\u001b[0m\u001b[1;33m\u001b[0m\u001b[1;33m\u001b[0m\u001b[0m\n",
      "\u001b[0m\u001b[1;32m--> 166 \u001b[1;33m            \u001b[0mself\u001b[0m\u001b[1;33m.\u001b[0m\u001b[0m_update_fun_impl\u001b[0m\u001b[1;33m(\u001b[0m\u001b[1;33m)\u001b[0m\u001b[1;33m\u001b[0m\u001b[1;33m\u001b[0m\u001b[0m\n",
      "\u001b[0m\u001b[1;32m    167 \u001b[1;33m            \u001b[0mself\u001b[0m\u001b[1;33m.\u001b[0m\u001b[0mf_updated\u001b[0m \u001b[1;33m=\u001b[0m \u001b[1;32mTrue\u001b[0m\u001b[1;33m\u001b[0m\u001b[1;33m\u001b[0m\u001b[0m\n",
      "\u001b[0m\u001b[1;32m    168 \u001b[1;33m\u001b[1;33m\u001b[0m\u001b[0m\n",
      "\u001b[0m\n",
      "ipdb> up\n",
      "> \u001b[1;32mc:\\users\\andrew\\anaconda3\\lib\\site-packages\\scipy\\optimize\\_differentiable_functions.py\u001b[0m(200)\u001b[0;36mfun_and_grad\u001b[1;34m()\u001b[0m\n",
      "\u001b[1;32m    198 \u001b[1;33m        \u001b[1;32mif\u001b[0m \u001b[1;32mnot\u001b[0m \u001b[0mnp\u001b[0m\u001b[1;33m.\u001b[0m\u001b[0marray_equal\u001b[0m\u001b[1;33m(\u001b[0m\u001b[0mx\u001b[0m\u001b[1;33m,\u001b[0m \u001b[0mself\u001b[0m\u001b[1;33m.\u001b[0m\u001b[0mx\u001b[0m\u001b[1;33m)\u001b[0m\u001b[1;33m:\u001b[0m\u001b[1;33m\u001b[0m\u001b[1;33m\u001b[0m\u001b[0m\n",
      "\u001b[0m\u001b[1;32m    199 \u001b[1;33m            \u001b[0mself\u001b[0m\u001b[1;33m.\u001b[0m\u001b[0m_update_x_impl\u001b[0m\u001b[1;33m(\u001b[0m\u001b[0mx\u001b[0m\u001b[1;33m)\u001b[0m\u001b[1;33m\u001b[0m\u001b[1;33m\u001b[0m\u001b[0m\n",
      "\u001b[0m\u001b[1;32m--> 200 \u001b[1;33m        \u001b[0mself\u001b[0m\u001b[1;33m.\u001b[0m\u001b[0m_update_fun\u001b[0m\u001b[1;33m(\u001b[0m\u001b[1;33m)\u001b[0m\u001b[1;33m\u001b[0m\u001b[1;33m\u001b[0m\u001b[0m\n",
      "\u001b[0m\u001b[1;32m    201 \u001b[1;33m        \u001b[0mself\u001b[0m\u001b[1;33m.\u001b[0m\u001b[0m_update_grad\u001b[0m\u001b[1;33m(\u001b[0m\u001b[1;33m)\u001b[0m\u001b[1;33m\u001b[0m\u001b[1;33m\u001b[0m\u001b[0m\n",
      "\u001b[0m\u001b[1;32m    202 \u001b[1;33m        \u001b[1;32mreturn\u001b[0m \u001b[0mself\u001b[0m\u001b[1;33m.\u001b[0m\u001b[0mf\u001b[0m\u001b[1;33m,\u001b[0m \u001b[0mself\u001b[0m\u001b[1;33m.\u001b[0m\u001b[0mg\u001b[0m\u001b[1;33m\u001b[0m\u001b[1;33m\u001b[0m\u001b[0m\n",
      "\u001b[0m\n"
     ]
    },
    {
     "name": "stdout",
     "output_type": "stream",
     "text": [
      "ipdb> up\n",
      "> \u001b[1;32mc:\\users\\andrew\\anaconda3\\lib\\site-packages\\scipy\\optimize\\lbfgsb.py\u001b[0m(360)\u001b[0;36m_minimize_lbfgsb\u001b[1;34m()\u001b[0m\n",
      "\u001b[1;32m    358 \u001b[1;33m            \u001b[1;31m# until the completion of the current minimization iteration.\u001b[0m\u001b[1;33m\u001b[0m\u001b[1;33m\u001b[0m\u001b[1;33m\u001b[0m\u001b[0m\n",
      "\u001b[0m\u001b[1;32m    359 \u001b[1;33m            \u001b[1;31m# Overwrite f and g:\u001b[0m\u001b[1;33m\u001b[0m\u001b[1;33m\u001b[0m\u001b[1;33m\u001b[0m\u001b[0m\n",
      "\u001b[0m\u001b[1;32m--> 360 \u001b[1;33m            \u001b[0mf\u001b[0m\u001b[1;33m,\u001b[0m \u001b[0mg\u001b[0m \u001b[1;33m=\u001b[0m \u001b[0mfunc_and_grad\u001b[0m\u001b[1;33m(\u001b[0m\u001b[0mx\u001b[0m\u001b[1;33m)\u001b[0m\u001b[1;33m\u001b[0m\u001b[1;33m\u001b[0m\u001b[0m\n",
      "\u001b[0m\u001b[1;32m    361 \u001b[1;33m        \u001b[1;32melif\u001b[0m \u001b[0mtask_str\u001b[0m\u001b[1;33m.\u001b[0m\u001b[0mstartswith\u001b[0m\u001b[1;33m(\u001b[0m\u001b[1;34mb'NEW_X'\u001b[0m\u001b[1;33m)\u001b[0m\u001b[1;33m:\u001b[0m\u001b[1;33m\u001b[0m\u001b[1;33m\u001b[0m\u001b[0m\n",
      "\u001b[0m\u001b[1;32m    362 \u001b[1;33m            \u001b[1;31m# new iteration\u001b[0m\u001b[1;33m\u001b[0m\u001b[1;33m\u001b[0m\u001b[1;33m\u001b[0m\u001b[0m\n",
      "\u001b[0m\n",
      "ipdb> up\n",
      "> \u001b[1;32mc:\\users\\andrew\\anaconda3\\lib\\site-packages\\scipy\\optimize\\_minimize.py\u001b[0m(617)\u001b[0;36mminimize\u001b[1;34m()\u001b[0m\n",
      "\u001b[1;32m    615 \u001b[1;33m                                  **options)\n",
      "\u001b[0m\u001b[1;32m    616 \u001b[1;33m    \u001b[1;32melif\u001b[0m \u001b[0mmeth\u001b[0m \u001b[1;33m==\u001b[0m \u001b[1;34m'l-bfgs-b'\u001b[0m\u001b[1;33m:\u001b[0m\u001b[1;33m\u001b[0m\u001b[1;33m\u001b[0m\u001b[0m\n",
      "\u001b[0m\u001b[1;32m--> 617 \u001b[1;33m        return _minimize_lbfgsb(fun, x0, args, jac, bounds,\n",
      "\u001b[0m\u001b[1;32m    618 \u001b[1;33m                                callback=callback, **options)\n",
      "\u001b[0m\u001b[1;32m    619 \u001b[1;33m    \u001b[1;32melif\u001b[0m \u001b[0mmeth\u001b[0m \u001b[1;33m==\u001b[0m \u001b[1;34m'tnc'\u001b[0m\u001b[1;33m:\u001b[0m\u001b[1;33m\u001b[0m\u001b[1;33m\u001b[0m\u001b[0m\n",
      "\u001b[0m\n",
      "ipdb> up\n",
      "> \u001b[1;32mc:\\users\\andrew\\anaconda3\\lib\\site-packages\\botorch\\optim\\fit.py\u001b[0m(239)\u001b[0;36mfit_gpytorch_scipy\u001b[1;34m()\u001b[0m\n",
      "\u001b[1;32m    237 \u001b[1;33m\u001b[1;33m\u001b[0m\u001b[0m\n",
      "\u001b[0m\u001b[1;32m    238 \u001b[1;33m    \u001b[1;32mwith\u001b[0m \u001b[0mgpt_settings\u001b[0m\u001b[1;33m.\u001b[0m\u001b[0mfast_computations\u001b[0m\u001b[1;33m(\u001b[0m\u001b[0mlog_prob\u001b[0m\u001b[1;33m=\u001b[0m\u001b[0mapprox_mll\u001b[0m\u001b[1;33m)\u001b[0m\u001b[1;33m:\u001b[0m\u001b[1;33m\u001b[0m\u001b[1;33m\u001b[0m\u001b[0m\n",
      "\u001b[0m\u001b[1;32m--> 239 \u001b[1;33m        res = minimize(\n",
      "\u001b[0m\u001b[1;32m    240 \u001b[1;33m            \u001b[0mscipy_objective\u001b[0m\u001b[1;33m,\u001b[0m\u001b[1;33m\u001b[0m\u001b[1;33m\u001b[0m\u001b[0m\n",
      "\u001b[0m\u001b[1;32m    241 \u001b[1;33m            \u001b[0mx0\u001b[0m\u001b[1;33m,\u001b[0m\u001b[1;33m\u001b[0m\u001b[1;33m\u001b[0m\u001b[0m\n",
      "\u001b[0m\n",
      "ipdb> up\n",
      "> \u001b[1;32mc:\\users\\andrew\\anaconda3\\lib\\site-packages\\botorch\\fit.py\u001b[0m(124)\u001b[0;36mfit_gpytorch_model\u001b[1;34m()\u001b[0m\n",
      "\u001b[1;32m    122 \u001b[1;33m                \u001b[0mmll\u001b[0m\u001b[1;33m.\u001b[0m\u001b[0mmodel\u001b[0m\u001b[1;33m.\u001b[0m\u001b[0mload_state_dict\u001b[0m\u001b[1;33m(\u001b[0m\u001b[0moriginal_state_dict\u001b[0m\u001b[1;33m)\u001b[0m\u001b[1;33m\u001b[0m\u001b[1;33m\u001b[0m\u001b[0m\n",
      "\u001b[0m\u001b[1;32m    123 \u001b[1;33m                \u001b[0msample_all_priors\u001b[0m\u001b[1;33m(\u001b[0m\u001b[0mmll\u001b[0m\u001b[1;33m.\u001b[0m\u001b[0mmodel\u001b[0m\u001b[1;33m)\u001b[0m\u001b[1;33m\u001b[0m\u001b[1;33m\u001b[0m\u001b[0m\n",
      "\u001b[0m\u001b[1;32m--> 124 \u001b[1;33m            \u001b[0mmll\u001b[0m\u001b[1;33m,\u001b[0m \u001b[0m_\u001b[0m \u001b[1;33m=\u001b[0m \u001b[0moptimizer\u001b[0m\u001b[1;33m(\u001b[0m\u001b[0mmll\u001b[0m\u001b[1;33m,\u001b[0m \u001b[0mtrack_iterations\u001b[0m\u001b[1;33m=\u001b[0m\u001b[1;32mFalse\u001b[0m\u001b[1;33m,\u001b[0m \u001b[1;33m**\u001b[0m\u001b[0mkwargs\u001b[0m\u001b[1;33m)\u001b[0m\u001b[1;33m\u001b[0m\u001b[1;33m\u001b[0m\u001b[0m\n",
      "\u001b[0m\u001b[1;32m    125 \u001b[1;33m        \u001b[0mhas_optwarning\u001b[0m \u001b[1;33m=\u001b[0m \u001b[1;32mFalse\u001b[0m\u001b[1;33m\u001b[0m\u001b[1;33m\u001b[0m\u001b[0m\n",
      "\u001b[0m\u001b[1;32m    126 \u001b[1;33m        \u001b[1;32mfor\u001b[0m \u001b[0mw\u001b[0m \u001b[1;32min\u001b[0m \u001b[0mws\u001b[0m\u001b[1;33m:\u001b[0m\u001b[1;33m\u001b[0m\u001b[1;33m\u001b[0m\u001b[0m\n",
      "\u001b[0m\n",
      "ipdb> up\n",
      "> \u001b[1;32m<ipython-input-23-1812d3258f47>\u001b[0m(32)\u001b[0;36mlearn_subspace_best_performers\u001b[1;34m()\u001b[0m\n",
      "\u001b[1;32m     30 \u001b[1;33m\u001b[1;31m#         set_trace()\u001b[0m\u001b[1;33m\u001b[0m\u001b[1;33m\u001b[0m\u001b[1;33m\u001b[0m\u001b[0m\n",
      "\u001b[0m\u001b[1;32m     31 \u001b[1;33m        \u001b[0mmll\u001b[0m \u001b[1;33m=\u001b[0m \u001b[0mExactMarginalLogLikelihood\u001b[0m\u001b[1;33m(\u001b[0m\u001b[0mgp\u001b[0m\u001b[1;33m.\u001b[0m\u001b[0mlikelihood\u001b[0m\u001b[1;33m,\u001b[0m \u001b[0mgp\u001b[0m\u001b[1;33m)\u001b[0m\u001b[1;33m\u001b[0m\u001b[1;33m\u001b[0m\u001b[0m\n",
      "\u001b[0m\u001b[1;32m---> 32 \u001b[1;33m        \u001b[0mfit_gpytorch_model\u001b[0m\u001b[1;33m(\u001b[0m\u001b[0mmll\u001b[0m\u001b[1;33m)\u001b[0m\u001b[1;33m\u001b[0m\u001b[1;33m\u001b[0m\u001b[0m\n",
      "\u001b[0m\u001b[1;32m     33 \u001b[1;33m        \u001b[0mUCB\u001b[0m \u001b[1;33m=\u001b[0m \u001b[0mUpperConfidenceBound\u001b[0m\u001b[1;33m(\u001b[0m\u001b[0mgp\u001b[0m\u001b[1;33m,\u001b[0m \u001b[0mbeta\u001b[0m\u001b[1;33m=\u001b[0m\u001b[1;36m0.1\u001b[0m\u001b[1;33m)\u001b[0m\u001b[1;33m\u001b[0m\u001b[1;33m\u001b[0m\u001b[0m\n",
      "\u001b[0m\u001b[1;32m     34 \u001b[1;33m        \u001b[0mbounds\u001b[0m \u001b[1;33m=\u001b[0m \u001b[0mtorch\u001b[0m\u001b[1;33m.\u001b[0m\u001b[0mstack\u001b[0m\u001b[1;33m(\u001b[0m\u001b[1;33m[\u001b[0m\u001b[0mtorch\u001b[0m\u001b[1;33m.\u001b[0m\u001b[0mzeros\u001b[0m\u001b[1;33m(\u001b[0m\u001b[0mlow_dim\u001b[0m\u001b[1;33m)\u001b[0m \u001b[1;33m-\u001b[0m \u001b[1;36m5\u001b[0m\u001b[1;33m,\u001b[0m \u001b[0mtorch\u001b[0m\u001b[1;33m.\u001b[0m\u001b[0mzeros\u001b[0m\u001b[1;33m(\u001b[0m\u001b[0mlow_dim\u001b[0m\u001b[1;33m)\u001b[0m \u001b[1;33m+\u001b[0m \u001b[1;36m5\u001b[0m\u001b[1;33m]\u001b[0m\u001b[1;33m)\u001b[0m\u001b[1;33m\u001b[0m\u001b[1;33m\u001b[0m\u001b[0m\n",
      "\u001b[0m\n",
      "ipdb> x\n",
      "tensor([[-0.5729,  0.0409,  0.0299,  0.1535],\n",
      "        [ 0.8564, -0.5576, -0.8370,  0.6148],\n",
      "        [ 0.1784, -0.6593,  0.1147,  0.1154],\n",
      "        [-0.3094, -0.9831,  0.0831, -0.7048],\n",
      "        [-0.3686, -0.0150,  0.5182, -0.3323],\n",
      "        [ 0.9862,  0.8948, -0.7308, -0.9308],\n",
      "        [-0.4085, -0.5029,  0.8246,  0.7647],\n",
      "        [ 0.0740,  0.3737, -0.6908, -0.6374],\n",
      "        [-0.4213,  0.0096, -0.3204,  0.5101],\n",
      "        [ 0.0230,  0.0526,  0.3950, -0.4959],\n",
      "        [ 0.4036,  0.4493, -0.5020,  0.6552],\n",
      "        [ 0.6663,  0.2103,  0.3043, -0.7323],\n",
      "        [ 0.8176, -0.4189, -0.2500,  0.1353],\n",
      "        [-0.8950,  0.3571,  0.5106,  0.2840],\n",
      "        [ 0.1995, -0.5987, -0.5674, -0.2544],\n",
      "        [ 0.0672,  0.6840, -0.8214, -0.5816],\n",
      "        [ 0.7159,  0.1085,  0.5521,  0.0828],\n",
      "        [ 0.6555, -0.2742,  0.2131,  0.5344],\n",
      "        [-0.1926, -0.7423, -0.4024, -0.8390],\n",
      "        [ 0.8683,  0.1798, -0.1415,  0.5490],\n",
      "        [ 0.1731,  0.4786, -0.1649, -0.7761],\n",
      "        [ 0.2411, -0.0538,  0.8776, -0.8492],\n",
      "        [ 0.8638,  0.4508,  0.0422, -0.9321],\n",
      "        [-0.1175, -0.4280, -0.1711,  0.9732],\n",
      "        [-0.7197,  0.3815, -0.8928,  0.5226],\n",
      "        [ 0.9175,  0.3833, -0.0360, -0.0051],\n",
      "        [-0.2393,  0.2389,  0.8460, -0.4242],\n",
      "        [-0.0200,  0.3622,  0.7568, -0.6735],\n",
      "        [-0.7150, -0.8266,  0.4635,  0.3014],\n",
      "        [ 0.1144, -0.2497, -0.6061, -0.1910],\n",
      "        [ 0.0938, -0.1569, -0.0735, -0.2510],\n",
      "        [ 0.1548, -0.1829,  0.5139, -0.4361],\n",
      "        [ 0.6668,  0.2148, -0.7345,  0.3444],\n",
      "        [ 0.6875, -0.5986, -0.4099,  0.0049],\n",
      "        [-0.3786, -0.6459,  0.9981,  0.6111],\n",
      "        [-0.0969, -0.4530,  0.8267,  0.5205],\n",
      "        [-0.9496, -0.2945, -0.8535, -0.6501],\n",
      "        [ 0.8470,  0.3075, -0.4563,  0.3216],\n",
      "        [ 0.8492,  0.8178,  0.4323, -0.5887],\n",
      "        [-0.1310, -0.3474, -0.6360, -0.6845],\n",
      "        [-0.2562, -0.1303,  0.7538,  0.1962],\n",
      "        [-0.4475, -0.9070, -0.0311, -0.2645],\n",
      "        [-0.1257, -0.0633,  0.9179,  0.7452],\n",
      "        [-0.9665, -0.0295,  0.2109, -0.8016],\n",
      "        [-0.5108,  0.9553, -0.8195, -0.2556],\n",
      "        [ 0.1150, -0.2484, -0.5648,  0.7306],\n",
      "        [-0.1746,  0.5738,  0.3135,  0.9264],\n",
      "        [ 0.3230,  0.6601, -0.8286, -0.2440],\n",
      "        [ 0.8311,  0.7362, -0.3669, -0.6374],\n",
      "        [-0.5470, -0.3499,  0.9558, -0.1275],\n",
      "        [-0.6713,  0.9168, -0.1230, -0.9622],\n",
      "        [-0.9707,  0.5474, -0.2308, -0.7301],\n",
      "        [ 0.6046, -0.9575, -0.6901, -0.3087],\n",
      "        [-0.0490, -0.3428,  0.9646, -0.8124],\n",
      "        [ 0.1235,  0.1982,  0.9019,  0.5454],\n",
      "        [ 0.7809,  0.1301,  0.8703,  0.3479],\n",
      "        [-0.6251,  0.6250, -0.1739, -0.4677],\n",
      "        [ 0.9024, -0.7397,  0.3605,  0.0671],\n",
      "        [-0.9459, -0.4187,  0.1371, -0.8749],\n",
      "        [ 0.6417, -0.1140, -0.3714,  0.9829],\n",
      "        [ 0.4545, -0.8602,  0.4258,  0.8108],\n",
      "        [ 0.6740,  0.7414, -0.6479,  0.3074],\n",
      "        [ 0.4202, -0.9593,  0.0979, -0.7722],\n",
      "        [-0.6100,  0.5582, -0.2081, -0.5308],\n",
      "        [-0.3875, -0.8370,  0.5021, -0.2864],\n",
      "        [ 0.0968, -0.5530, -0.1388,  0.6116],\n",
      "        [ 0.0931,  0.7299, -0.7627,  0.9381],\n",
      "        [ 0.3371, -0.7931,  0.7472,  0.0583],\n",
      "        [ 0.9181,  0.4437, -0.3999, -0.4417],\n",
      "        [ 0.3273,  0.8870, -0.9243, -0.3707],\n",
      "        [ 0.4106, -0.6602, -0.3098, -0.6660],\n",
      "        [-0.7535,  0.3938,  0.1961, -0.2880],\n",
      "        [-0.0879, -0.7322,  0.0133, -0.9422],\n",
      "        [ 0.5732, -0.1442, -0.9189,  0.8677],\n",
      "        [-0.1852, -0.4997,  0.4791,  0.0243],\n",
      "        [-0.5282, -0.6972,  0.5571, -0.7512],\n",
      "        [ 0.6221,  0.8381,  0.1354,  0.5284],\n",
      "        [ 0.0117, -0.2913, -0.4530, -0.2084],\n",
      "        [ 0.2879,  0.4818, -0.3317,  0.9808],\n",
      "        [ 0.3574, -0.7619, -0.3610,  0.2427],\n",
      "        [-0.5094, -0.5045, -0.0253,  0.7399],\n",
      "        [ 0.0926,  0.5809, -0.9793, -0.0120],\n",
      "        [ 0.5153,  0.3368, -0.8979, -0.6001],\n",
      "        [-0.7739,  0.8882, -0.4972,  0.7543],\n",
      "        [ 0.0511,  0.0694, -0.5640,  0.9835],\n",
      "        [-0.9909, -0.9979,  0.0403, -0.3877],\n",
      "        [ 0.6244, -0.9945, -0.4148,  0.2908],\n",
      "        [ 0.9627,  0.0186,  0.9741,  0.9589],\n",
      "        [ 0.0588,  0.2113, -0.0673,  0.2660],\n",
      "        [-0.9668, -0.3790, -0.7313, -0.2312],\n",
      "        [-0.7767,  0.4994, -0.1101,  0.9517],\n",
      "        [-0.1150, -0.3885, -0.8523, -0.5420],\n",
      "        [-0.8101, -0.6075,  0.9289,  0.8057],\n",
      "        [-0.6694,  0.4595,  0.3709, -0.6774],\n",
      "        [ 0.4031, -0.7657, -0.1866, -0.9825],\n",
      "        [ 0.4399,  0.2630,  0.5880, -0.8873],\n",
      "        [-0.3897,  0.6341,  0.0730,  0.3100],\n",
      "        [-0.4510, -0.2911, -0.4909,  0.4929],\n",
      "        [ 0.8934, -0.0148,  0.3486,  0.6820],\n",
      "        [-0.0871,  0.1293, -0.6069,  0.1152],\n",
      "        [-0.6900, -0.5803,  0.7525, -0.5100],\n",
      "        [-0.2254, -0.0327,  0.1680,  0.9444],\n",
      "        [-0.4102, -0.6720, -0.8254, -0.8463],\n",
      "        [ 0.0314,  0.5051,  0.4852,  0.4149],\n",
      "        [ 0.2082, -0.7922, -0.9944, -0.7937],\n",
      "        [-0.1483,  0.1408,  0.0406, -0.6932],\n",
      "        [ 0.3722, -0.5632,  0.6648, -0.4110],\n",
      "        [-0.0453, -0.1237, -0.1680, -0.4305],\n",
      "        [ 0.3133,  0.3103, -0.1893,  0.1394],\n",
      "        [-0.5146,  0.5766, -0.8836, -0.9192],\n",
      "        [-0.3507,  0.7115,  0.2070, -0.3661],\n",
      "        [-0.2914, -0.4669,  0.6014, -0.5630],\n",
      "        [ 0.7005,  0.0359,  0.4023, -0.3810],\n",
      "        [ 0.0015,  0.1663,  0.5016,  0.9852],\n",
      "        [-0.7627,  0.5557,  0.0979,  0.0796],\n",
      "        [-0.6632,  0.5847, -0.7911,  0.4691],\n",
      "        [-0.9828, -0.9643, -0.5609, -0.9003],\n",
      "        [ 0.5230, -0.3487, -0.2401, -0.6589],\n",
      "        [-0.4058,  0.8991,  0.3305, -0.6506],\n",
      "        [-0.4461,  0.1467, -0.2927,  0.0909],\n",
      "        [-0.2892,  0.0231, -0.6997, -0.5538],\n",
      "        [-0.0622,  0.0353, -0.1985, -0.9953],\n",
      "        [-0.5531, -0.3656, -0.6863,  0.4266],\n",
      "        [ 0.7011, -0.2653,  0.6458,  0.4703],\n",
      "        [-0.2891,  0.8252,  0.1762, -0.7173],\n",
      "        [ 0.9134, -0.3637,  0.2363,  0.9426],\n",
      "        [-0.6221,  0.0804,  0.5375, -0.3155],\n",
      "        [ 0.0444, -0.3768, -0.1834, -0.5195],\n",
      "        [ 0.8396,  0.3062,  0.8635,  0.8038],\n",
      "        [-0.7432, -0.9626,  0.0183, -0.5648],\n",
      "        [ 0.2691,  0.2705,  0.2633,  0.7495],\n",
      "        [-0.7899, -0.4911, -0.6336, -0.9727],\n",
      "        [ 0.9529,  0.1058, -0.8786, -0.7063],\n",
      "        [-0.4717,  0.3400,  0.5464,  0.3365],\n",
      "        [-0.4138, -0.5890, -0.1453, -0.5522],\n",
      "        [-0.0931,  0.4294,  0.6917, -0.0999],\n",
      "        [ 0.8386, -0.7894,  0.0542, -0.5677],\n",
      "        [-0.7893, -0.1350, -0.6861, -0.4959],\n",
      "        [ 0.6044,  0.8679,  0.0882, -0.2334],\n",
      "        [-0.2228, -0.2816, -0.8071,  0.0281],\n",
      "        [ 0.5650, -0.4901, -0.1159, -0.9307],\n",
      "        [ 0.9840,  0.6308, -0.4220, -0.2993],\n",
      "        [-0.6607,  0.7076,  0.4191,  0.3180],\n",
      "        [-0.5958,  0.3411,  0.6919,  0.9371],\n",
      "        [ 0.5562,  0.6656, -0.5040,  0.0592],\n",
      "        [-0.0959,  0.3913, -0.2104,  0.8654],\n",
      "        [ 0.0935, -0.6315, -0.4301,  0.2069],\n",
      "        [-0.6797, -0.9324,  0.1733,  0.1390],\n",
      "        [ 0.0602,  0.2108, -0.9506, -0.5237],\n",
      "        [ 0.3687,  0.8456,  0.9050,  0.8634],\n",
      "        [-0.4282, -0.4129,  0.6670,  0.2053],\n",
      "        [-0.7609, -0.5163, -0.9418, -0.2611],\n",
      "        [-0.0454, -0.1006,  0.6288,  0.0935],\n",
      "        [ 0.0988, -0.7112, -0.1686,  0.1652],\n",
      "        [-0.7688, -0.6938,  0.9316,  0.2285],\n",
      "        [-0.9529, -0.9637,  0.5822,  0.9856],\n",
      "        [-0.7571, -0.1545,  0.1963,  0.9733],\n",
      "        [-0.7506,  0.3328, -0.9848,  0.2880],\n",
      "        [-0.9011, -0.5632, -0.4071, -0.5740],\n",
      "        [ 0.1985,  0.1948, -0.5511,  0.8014],\n",
      "        [-0.2960, -0.4176, -0.7833, -0.8981],\n",
      "        [-0.2893,  0.6360,  0.8594,  0.4331],\n",
      "        [ 0.2968, -0.0033,  0.8579,  0.9536],\n",
      "        [-0.1295,  0.1733, -0.1978,  0.9035],\n",
      "        [-0.2074,  0.7387, -0.9464, -0.4423],\n",
      "        [-0.0907, -0.7442, -0.5952,  0.5095],\n",
      "        [-0.4820,  0.7273, -0.1579,  0.5940],\n",
      "        [-0.5711,  0.5914, -0.7112, -0.0970],\n",
      "        [ 0.7789,  0.3251,  0.1078,  0.7277],\n",
      "        [ 0.1146, -0.0975,  0.5213, -0.4524],\n",
      "        [-0.7390,  0.7780, -0.0690,  0.4566],\n",
      "        [-0.8172, -0.2323,  0.9238, -0.1685],\n",
      "        [ 0.1085, -0.2062, -0.6621, -0.4476],\n",
      "        [ 0.1520, -0.2906,  0.7426,  0.5072],\n",
      "        [ 0.6712,  0.0390, -0.7141, -0.4987],\n",
      "        [-0.0042, -0.0187, -0.1859,  0.1888],\n",
      "        [ 0.6013,  0.1508, -0.3882, -0.0914],\n",
      "        [-0.1161,  0.7366, -0.1704,  0.4823],\n",
      "        [-0.3129,  0.5455, -0.1724,  0.5399],\n",
      "        [-0.6680, -0.0369, -0.8263, -0.9629],\n",
      "        [-0.1467,  0.0161,  0.8513,  0.2045],\n",
      "        [ 0.8060, -0.8321, -0.4001,  0.9755],\n",
      "        [ 0.5290,  0.0013,  0.5973, -0.2767],\n",
      "        [ 0.9506, -0.2398, -0.6356,  0.4195],\n",
      "        [-0.9330, -0.7484, -0.7428, -0.9682],\n",
      "        [-0.3204,  0.0852, -0.1100,  0.0957],\n",
      "        [ 0.2549, -0.9579, -0.9853, -0.6241],\n",
      "        [-0.2959, -0.9608, -0.0743, -0.5592],\n",
      "        [ 0.9499, -0.6731,  0.7695,  0.2417],\n",
      "        [-0.6530,  0.7028,  0.0686, -0.7718],\n",
      "        [-0.2972,  0.8019, -0.3031, -0.3771],\n",
      "        [ 0.3888, -0.4079, -0.8841,  0.4071],\n",
      "        [-0.9207, -0.3708,  0.6973,  0.4464],\n",
      "        [-0.0231,  0.5068,  0.5906,  0.3210],\n",
      "        [ 0.3634, -0.9370, -0.8643, -0.4770],\n",
      "        [-0.0724, -0.3439, -0.5350, -0.0866],\n",
      "        [ 0.0722,  0.4049, -0.9848,  0.7339],\n",
      "        [ 0.9923,  0.0405, -0.3461, -0.5407],\n",
      "        [ 0.7877, -0.1774, -0.0255,  0.8485],\n",
      "        [-0.8292,  0.8830,  0.9487, -0.7431]])\n"
     ]
    },
    {
     "name": "stdout",
     "output_type": "stream",
     "text": [
      "ipdb> y_new\n",
      "tensor([-3.8521,  0.9185, -0.9530,  0.7065, -1.1357,  1.9310,  1.1761,  0.3539,\n",
      "        -1.3691, -1.2063, -0.2259, -0.6405, -1.5632, -0.9067, -0.1836,  1.1327,\n",
      "        -1.2231, -1.0533,  0.7601, -1.4409, -0.1390,  0.8731,  0.1905,  0.3329,\n",
      "         0.5756, -2.1139,  0.1074,  0.3498,  0.2334, -0.8409, -2.5937, -0.8723,\n",
      "        -0.3060, -0.7164,  1.5655,  0.6873,  0.6176, -1.1180,  0.4806,  0.1882,\n",
      "        -0.3300, -0.1218,  1.0240, -0.6667,  1.3192, -0.1501,  0.4489,  0.6029,\n",
      "         0.3737,  0.4757,  1.3467, -0.0870,  0.9169,  1.1687,  0.5819,  0.2150,\n",
      "        -0.4759, -0.4051, -0.1908,  0.1512,  1.1625,  0.3019,  0.7511, -0.5472,\n",
      "         0.1871, -0.4203,  1.2520,  0.5901, -0.7165,  1.4784,  0.0786, -1.6264,\n",
      "         0.4052,  1.0395, -0.8651,  0.4845, -0.0212, -1.2763,  0.2949, -0.2028,\n",
      "        -0.2921,  0.9423,  0.9528,  0.8809,  0.4632,  0.3310,  0.5777,  1.5607,\n",
      "        -2.4374, -0.1999,  0.1482,  0.5194,  1.6799, -0.3388,  0.7220,  0.2393,\n",
      "        -0.9852, -0.7038, -0.7352, -0.9306,  0.3432, -0.1022,  1.3605, -0.4449,\n",
      "         1.9124, -0.9184, -0.0049, -1.7708, -2.0966,  1.7254, -0.4274, -0.2026,\n",
      "        -1.4555,  0.4679, -1.4192,  0.4634,  1.4932, -0.7287,  0.7068, -2.1844,\n",
      "        -0.1128,  0.0647, -0.1790, -0.2561,  0.4556,  0.2810, -1.1047, -1.1376,\n",
      "         1.0157,  0.4145, -0.5481,  0.9420,  0.9072, -0.7369, -0.5816, -0.3580,\n",
      "        -0.1347, -0.1668, -0.0990, -0.0626,  0.0451, -0.3557, -0.2331,  0.8820,\n",
      "        -0.4026, -0.1834, -0.5132, -0.0045,  0.9166,  1.8796, -0.3158,  0.5943,\n",
      "        -0.8783, -0.6627,  0.9595,  1.8751,  0.1532,  0.5617, -0.1396,  0.0312,\n",
      "         1.0737,  0.7191,  1.2113, -0.3028,  1.3107,  0.4835, -0.2544,  0.1300,\n",
      "        -0.7169, -0.8802, -0.3485,  0.1720, -0.2675,  0.1224, -0.1439, -2.7709,\n",
      "        -1.6461, -0.3945, -0.7994,  1.1522, -0.0058,  1.3214, -0.9737, -0.3912,\n",
      "         1.5043, -3.6424,  1.9461,  0.3330,  0.5542,  0.2810,  0.0246,  0.4653,\n",
      "        -0.0077, -0.3152,  1.4085, -1.0451,  1.1413, -1.0587, -0.4348,  1.8469])\n",
      "ipdb> x.shape\n",
      "torch.Size([200, 4])\n",
      "ipdb> q\n"
     ]
    }
   ],
   "source": [
    "%debug"
   ]
  },
  {
   "cell_type": "code",
   "execution_count": 102,
   "metadata": {},
   "outputs": [],
   "source": [
    "best_found = 1e10\n",
    "A = torch.randn((low_dim, fn_dim))\n",
    "B = torch.randn(fn_dim) + 5\n",
    "first_run = True            \n",
    "#     print(f\"Best point found at {best_point}\")"
   ]
  },
  {
   "cell_type": "code",
   "execution_count": 103,
   "metadata": {},
   "outputs": [],
   "source": [
    "i = 0\n",
    "num_best = 1\n",
    "num_neighbors = 0\n",
    "move_subspace = True\n",
    "move_step_size = 1\n",
    "restarts = 0\n",
    "samples = 200\n",
    "twist_subspace = False\n",
    "trace = False\n",
    "max_iter = 200"
   ]
  },
  {
   "cell_type": "code",
   "execution_count": 113,
   "metadata": {},
   "outputs": [
    {
     "name": "stdout",
     "output_type": "stream",
     "text": [
      "Step 0 current min/best min found y is:14.89, 14.49\n"
     ]
    }
   ],
   "source": [
    "# Evaluate\n",
    "x = (torch.rand((samples,low_dim)) * 2) - 1\n",
    "X = x@A + B\n",
    "y = fn.evaluate(X)\n",
    "\n",
    "# Bayesian optimization step\n",
    "gp = SingleTaskGP(x, y.reshape(-1,1))\n",
    "mll = ExactMarginalLogLikelihood(gp.likelihood, gp)\n",
    "fit_gpytorch_model(mll)\n",
    "UCB = UpperConfidenceBound(gp, beta=0.1)\n",
    "bounds = torch.stack([torch.zeros(low_dim) - 1, torch.zeros(low_dim) + 1])\n",
    "candidate, acq_value = optimize_acqf(\n",
    "    UCB, bounds=bounds, q=1, num_restarts=5, raw_samples=20,\n",
    ")\n",
    "\n",
    "shift_point = candidate@A + B  \n",
    "\n",
    "# Update\n",
    "if twist_subspace:\n",
    "    A = torch.concat([shift_point * twist_step_size, torch.randn((low_dim - num_best, fn_dim))], dim = 0)\n",
    "else:\n",
    "    # Else, reinitialize the transition matrix\n",
    "    A = torch.randn((low_dim, fn_dim))\n",
    "\n",
    "if move_subspace:\n",
    "    if trace:\n",
    "        print(shift_point.shape)\n",
    "    B = torch.mean(shift_point * move_step_size, dim = 0)\n",
    "\n",
    "# Iterate best found (searching for minimum)\n",
    "if min(y) < best_found:\n",
    "    best_point = X[best_performers_indices[0]]\n",
    "    best_found = min(y)\n",
    "\n",
    "if i%int(max_iter/10) == 0:\n",
    "    print(f\"Step {i} current min/best min found y is:{min(y):.2f}, {best_found:.2f}\")"
   ]
  },
  {
   "cell_type": "code",
   "execution_count": 114,
   "metadata": {},
   "outputs": [
    {
     "data": {
      "text/plain": [
       "tensor([[-0.7324,  1.0000]])"
      ]
     },
     "execution_count": 114,
     "metadata": {},
     "output_type": "execute_result"
    }
   ],
   "source": [
    "candidate"
   ]
  },
  {
   "cell_type": "code",
   "execution_count": 115,
   "metadata": {},
   "outputs": [
    {
     "data": {
      "text/plain": [
       "tensor(15.3196)"
      ]
     },
     "execution_count": 115,
     "metadata": {},
     "output_type": "execute_result"
    }
   ],
   "source": [
    "acq_value"
   ]
  },
  {
   "cell_type": "code",
   "execution_count": 116,
   "metadata": {},
   "outputs": [
    {
     "data": {
      "text/plain": [
       "tensor([15.2920])"
      ]
     },
     "execution_count": 116,
     "metadata": {},
     "output_type": "execute_result"
    }
   ],
   "source": [
    "fn.evaluate(candidate@A + B)"
   ]
  },
  {
   "cell_type": "code",
   "execution_count": 12,
   "metadata": {},
   "outputs": [
    {
     "name": "stdout",
     "output_type": "stream",
     "text": [
      "Current min/best min found y is:9.00, 9.00\n",
      "Current min/best min found y is:4.97, 2.26\n",
      "Current min/best min found y is:8.06, 2.26\n",
      "Current min/best min found y is:4.24, 2.26\n",
      "Current min/best min found y is:8.86, 2.26\n",
      "Current min/best min found y is:3.14, 2.26\n",
      "Current min/best min found y is:7.42, 1.96\n",
      "Current min/best min found y is:7.52, 1.96\n",
      "Current min/best min found y is:8.82, 1.72\n",
      "Current min/best min found y is:8.18, 1.72\n"
     ]
    }
   ],
   "source": [
    "learn_subspace_best_performers(fn, 4, 200, \n",
    "                               num_best = 2, num_neighbors = 0,\n",
    "                               move_subspace = True,\n",
    "                               step_size = 0.8,\n",
    "                               max_iter = 10000,\n",
    "                               restarts = 0)"
   ]
  },
  {
   "cell_type": "code",
   "execution_count": 76,
   "metadata": {},
   "outputs": [
    {
     "name": "stdout",
     "output_type": "stream",
     "text": [
      "Current min/best min found y is:5.19, 5.19\n",
      "Current min/best min found y is:3.29, 2.33\n",
      "Current min/best min found y is:2.81, 2.33\n",
      "Current min/best min found y is:3.66, 2.24\n",
      "Current min/best min found y is:2.87, 2.24\n",
      "Current min/best min found y is:3.12, 2.24\n",
      "Current min/best min found y is:3.34, 2.24\n",
      "Current min/best min found y is:3.62, 2.24\n",
      "Current min/best min found y is:3.26, 2.24\n",
      "Current min/best min found y is:3.38, 2.24\n"
     ]
    }
   ],
   "source": [
    "learn_subspace_best_performers(fn, 4, 200, \n",
    "                               num_best = 2, num_neighbors = 0,\n",
    "                               move_subspace = False,\n",
    "                               step_size = 0.8,\n",
    "                               max_iter = 10000,\n",
    "                               restarts = 0)"
   ]
  },
  {
   "cell_type": "code",
   "execution_count": 77,
   "metadata": {},
   "outputs": [
    {
     "name": "stdout",
     "output_type": "stream",
     "text": [
      "Current min/best min found y is:5.35, 5.35\n",
      "Current min/best min found y is:1.54, 1.54\n",
      "Current min/best min found y is:4.92, 1.54\n",
      "Current min/best min found y is:3.02, 1.54\n",
      "Current min/best min found y is:5.04, 1.54\n",
      "Current min/best min found y is:3.38, 1.54\n",
      "Current min/best min found y is:4.96, 1.54\n",
      "Current min/best min found y is:2.83, 1.54\n",
      "Current min/best min found y is:4.70, 1.54\n",
      "Current min/best min found y is:3.10, 1.54\n"
     ]
    }
   ],
   "source": [
    "learn_subspace_best_performers(fn, 4, 200, \n",
    "                               num_best = 2, num_neighbors = 0,\n",
    "                               move_subspace = True,\n",
    "                               step_size = 0.8,\n",
    "                               max_iter = 10,\n",
    "                               restarts = 0)"
   ]
  },
  {
   "cell_type": "code",
   "execution_count": 19,
   "metadata": {},
   "outputs": [
    {
     "name": "stdout",
     "output_type": "stream",
     "text": [
      "Current min/best min found y is:21.57, 21.57\n",
      "Current min/best min found y is:21.57, 3.79\n",
      "Current min/best min found y is:21.57, 3.32\n",
      "Current min/best min found y is:21.57, 3.28\n",
      "Current min/best min found y is:21.57, 3.28\n",
      "Current min/best min found y is:21.57, 3.28\n",
      "Current min/best min found y is:21.57, 3.28\n",
      "Current min/best min found y is:21.57, 3.28\n",
      "Current min/best min found y is:21.57, 2.80\n",
      "Current min/best min found y is:21.57, 2.80\n"
     ]
    }
   ],
   "source": [
    "learn_subspace_best_performers(fn, 4, 200, \n",
    "                               num_best = 2, num_neighbors = 0,\n",
    "                               move_subspace = True,\n",
    "                               step_size = 0.8,\n",
    "                               max_iter = 5000,\n",
    "                               restarts = 0,\n",
    "                               initial_offset = 50)"
   ]
  },
  {
   "cell_type": "code",
   "execution_count": 20,
   "metadata": {},
   "outputs": [
    {
     "name": "stdout",
     "output_type": "stream",
     "text": [
      "Current min/best min found y is:21.57, 21.57\n",
      "Current min/best min found y is:3.76, 2.61\n",
      "Current min/best min found y is:3.38, 2.61\n",
      "Current min/best min found y is:3.50, 2.44\n",
      "Current min/best min found y is:3.86, 2.44\n",
      "Current min/best min found y is:3.23, 2.44\n",
      "Current min/best min found y is:3.53, 2.44\n",
      "Current min/best min found y is:3.56, 2.39\n",
      "Current min/best min found y is:3.18, 2.39\n",
      "Current min/best min found y is:3.21, 2.39\n"
     ]
    }
   ],
   "source": [
    "learn_subspace_best_performers(fn, 4, 200, \n",
    "                               num_best = 2, num_neighbors = 0,\n",
    "                               move_subspace = False,\n",
    "                               step_size = 0.8,\n",
    "                               max_iter = 5000,\n",
    "                               restarts = 0,\n",
    "                               initial_offset = 50)"
   ]
  },
  {
   "cell_type": "code",
   "execution_count": null,
   "metadata": {},
   "outputs": [],
   "source": []
  }
 ],
 "metadata": {
  "kernelspec": {
   "display_name": "Python 3",
   "language": "python",
   "name": "python3"
  },
  "language_info": {
   "codemirror_mode": {
    "name": "ipython",
    "version": 3
   },
   "file_extension": ".py",
   "mimetype": "text/x-python",
   "name": "python",
   "nbconvert_exporter": "python",
   "pygments_lexer": "ipython3",
   "version": "3.8.5"
  },
  "toc": {
   "base_numbering": 1,
   "nav_menu": {},
   "number_sections": true,
   "sideBar": true,
   "skip_h1_title": false,
   "title_cell": "Table of Contents",
   "title_sidebar": "Contents",
   "toc_cell": false,
   "toc_position": {},
   "toc_section_display": true,
   "toc_window_display": true
  }
 },
 "nbformat": 4,
 "nbformat_minor": 2
}
