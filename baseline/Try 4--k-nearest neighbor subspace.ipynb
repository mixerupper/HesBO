{
 "cells": [
  {
   "cell_type": "code",
   "execution_count": 186,
   "metadata": {},
   "outputs": [],
   "source": [
    "import numpy as np\n",
    "import pandas as pd\n",
    "import matplotlib.pyplot as plt\n",
    "import math as math\n",
    "import torch\n",
    "import test_fn"
   ]
  },
  {
   "cell_type": "code",
   "execution_count": 187,
   "metadata": {},
   "outputs": [
    {
     "data": {
      "text/plain": [
       "<module 'test_fn' from 'C:\\\\Users\\\\ayeh21\\\\Documents\\\\HesBO\\\\baseline\\\\test_fn.py'>"
      ]
     },
     "execution_count": 187,
     "metadata": {},
     "output_type": "execute_result"
    }
   ],
   "source": [
    "import importlib\n",
    "importlib.reload(test_fn)"
   ]
  },
  {
   "cell_type": "markdown",
   "metadata": {},
   "source": [
    "# Draw sample inputs"
   ]
  },
  {
   "cell_type": "code",
   "execution_count": 188,
   "metadata": {},
   "outputs": [],
   "source": [
    "n = 100\n",
    "low_dim = 50\n",
    "fn_dim = 200\n",
    "fn = test_fn.Ackley()"
   ]
  },
  {
   "cell_type": "code",
   "execution_count": 189,
   "metadata": {},
   "outputs": [],
   "source": [
    "x = torch.rand((n,low_dim))\n",
    "A = torch.rand((low_dim, fn_dim))\n",
    "X = x@A\n",
    "y = fn.evaluate(X)"
   ]
  },
  {
   "cell_type": "code",
   "execution_count": 190,
   "metadata": {},
   "outputs": [
    {
     "data": {
      "text/plain": [
       "torch.Size([3, 200])"
      ]
     },
     "execution_count": 190,
     "metadata": {},
     "output_type": "execute_result"
    }
   ],
   "source": [
    "X[torch.topk(y, 3, largest = False).indices,:].shape"
   ]
  },
  {
   "cell_type": "code",
   "execution_count": 191,
   "metadata": {},
   "outputs": [
    {
     "data": {
      "text/plain": [
       "torch.Size([100, 200])"
      ]
     },
     "execution_count": 191,
     "metadata": {},
     "output_type": "execute_result"
    }
   ],
   "source": [
    "X.shape"
   ]
  },
  {
   "cell_type": "markdown",
   "metadata": {},
   "source": [
    "# Algorithm 1: Shift subspace to best performing points"
   ]
  },
  {
   "cell_type": "code",
   "execution_count": 206,
   "metadata": {},
   "outputs": [],
   "source": [
    "importlib.reload(test_fn)\n",
    "fn = test_fn.Ackley()\n",
    "x = torch.rand((100,low_dim))\n",
    "A = torch.rand((low_dim, fn_dim))\n",
    "X = x@A\n",
    "y = fn.evaluate(X)\n",
    "\n",
    "# Find best performing points (Alt: Find best performing and nearest neighbors)\n",
    "best_performers_indices = torch.topk(y, 1, largest = False).indices\n",
    "best_performers = X[best_performers_indices]\n",
    "\n",
    "# Update\n",
    "A = best_performers"
   ]
  },
  {
   "cell_type": "code",
   "execution_count": 207,
   "metadata": {},
   "outputs": [
    {
     "data": {
      "text/plain": [
       "torch.Size([1, 200])"
      ]
     },
     "execution_count": 207,
     "metadata": {},
     "output_type": "execute_result"
    }
   ],
   "source": [
    "A.shape"
   ]
  },
  {
   "cell_type": "code",
   "execution_count": 212,
   "metadata": {},
   "outputs": [
    {
     "data": {
      "text/plain": [
       "torch.Size([50, 200])"
      ]
     },
     "execution_count": 212,
     "metadata": {},
     "output_type": "execute_result"
    }
   ],
   "source": [
    "torch.concat([A, torch.rand((low_dim - 1, fn_dim))], dim = 0).shape"
   ]
  },
  {
   "cell_type": "code",
   "execution_count": 261,
   "metadata": {},
   "outputs": [],
   "source": [
    "def learn_subspace_best_performers(fn, low_dim, fn_dim, num_best = 1, samples = 1000, max_iter = 1000):\n",
    "    patience = max_patience\n",
    "    best_found = 1e10\n",
    "    A = torch.rand((low_dim, fn_dim))\n",
    "    first_run = True\n",
    "    \n",
    "    for i in range(max_iter):\n",
    "        # Evaluate\n",
    "        x = torch.randn((samples,low_dim))\n",
    "        X = x@A\n",
    "        X = fn.restrict_domain(X)       \n",
    "        y = fn.evaluate(X)\n",
    "\n",
    "        # Find best performing points (Alt: Find best performing and nearest neighbors)\n",
    "        best_performers_indices = torch.topk(y, num_best, largest = False).indices\n",
    "        best_performers = X[best_performers_indices]\n",
    "        \n",
    "        # Standardize\n",
    "        best_performers = best_performers - torch.mean(best_performers, dim = 1, keepdim = True)\n",
    "        best_performers = best_performers/torch.std(best_performers, dim = 1, keepdim = True)\n",
    "\n",
    "        # Update\n",
    "        A = torch.concat([best_performers, torch.randn((low_dim - num_best, fn_dim))], dim = 0)\n",
    "\n",
    "        if min(y) < best_found:\n",
    "            best_found = min(y)\n",
    "        else:\n",
    "            patience -= 1\n",
    "\n",
    "        if i%int(max_iter/10) == 0:\n",
    "            print(f\"Min/best found y is:{min(y):.2f}, {best_found:.2f}\")"
   ]
  },
  {
   "cell_type": "code",
   "execution_count": 268,
   "metadata": {
    "scrolled": true
   },
   "outputs": [
    {
     "name": "stdout",
     "output_type": "stream",
     "text": [
      "Min/best found y is:7.11, 7.11\n",
      "Min/best found y is:14.88, 7.11\n",
      "Min/best found y is:14.21, 7.11\n",
      "Min/best found y is:14.89, 7.11\n",
      "Min/best found y is:14.55, 7.11\n",
      "Min/best found y is:14.69, 7.11\n",
      "Min/best found y is:14.67, 7.11\n",
      "Min/best found y is:14.64, 7.11\n",
      "Min/best found y is:14.40, 7.11\n",
      "Min/best found y is:14.60, 7.11\n"
     ]
    }
   ],
   "source": [
    "learn_subspace_best_performers(fn, low_dim = 50, fn_dim = 200, num_best = 4, samples = 100)"
   ]
  },
  {
   "cell_type": "code",
   "execution_count": 205,
   "metadata": {},
   "outputs": [
    {
     "data": {
      "text/plain": [
       "tensor([[ 9.2315,  7.7709,  7.8833,  ...,  7.9377,  7.3055,  8.1079],\n",
       "        [ 9.7218,  9.5276,  9.3146,  ...,  8.9890,  8.3138,  8.2052],\n",
       "        [10.3954,  9.0493,  9.0542,  ...,  8.6739,  8.4123,  9.0580],\n",
       "        ...,\n",
       "        [12.8120, 12.3960, 12.1742,  ..., 10.6394, 11.1695, 10.3386],\n",
       "        [12.3022, 12.2804, 12.8497,  ...,  9.6569,  9.5674,  9.9907],\n",
       "        [12.9382, 12.6913, 12.3818,  ..., 10.8169, 10.4931, 10.9597]])"
      ]
     },
     "execution_count": 205,
     "metadata": {},
     "output_type": "execute_result"
    }
   ],
   "source": [
    "best_performers"
   ]
  },
  {
   "cell_type": "code",
   "execution_count": null,
   "metadata": {},
   "outputs": [],
   "source": []
  },
  {
   "cell_type": "markdown",
   "metadata": {},
   "source": [
    "# Algorithm 2: Shift subspace to best performing point and nearest neighbors"
   ]
  },
  {
   "cell_type": "code",
   "execution_count": null,
   "metadata": {},
   "outputs": [],
   "source": []
  }
 ],
 "metadata": {
  "kernelspec": {
   "display_name": "Python 3",
   "language": "python",
   "name": "python3"
  },
  "language_info": {
   "codemirror_mode": {
    "name": "ipython",
    "version": 3
   },
   "file_extension": ".py",
   "mimetype": "text/x-python",
   "name": "python",
   "nbconvert_exporter": "python",
   "pygments_lexer": "ipython3",
   "version": "3.8.8"
  },
  "toc": {
   "base_numbering": 1,
   "nav_menu": {},
   "number_sections": true,
   "sideBar": true,
   "skip_h1_title": false,
   "title_cell": "Table of Contents",
   "title_sidebar": "Contents",
   "toc_cell": false,
   "toc_position": {},
   "toc_section_display": true,
   "toc_window_display": true
  }
 },
 "nbformat": 4,
 "nbformat_minor": 2
}
