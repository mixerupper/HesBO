{
 "cells": [
  {
   "cell_type": "code",
   "execution_count": 39,
   "metadata": {},
   "outputs": [],
   "source": [
    "import numpy as np\n",
    "import pandas as pd\n",
    "import matplotlib.pyplot as plt\n",
    "import math as math\n",
    "import torch\n",
    "import test_fn"
   ]
  },
  {
   "cell_type": "code",
   "execution_count": 40,
   "metadata": {},
   "outputs": [
    {
     "data": {
      "text/plain": [
       "<module 'test_fn' from 'C:\\\\Users\\\\ayeh21\\\\Documents\\\\HesBO\\\\baseline\\\\test_fn.py'>"
      ]
     },
     "execution_count": 40,
     "metadata": {},
     "output_type": "execute_result"
    }
   ],
   "source": [
    "import importlib\n",
    "importlib.reload(test_fn)"
   ]
  },
  {
   "cell_type": "markdown",
   "metadata": {},
   "source": [
    "# Algorithm 1: Shift or twist subspace to best performing points"
   ]
  },
  {
   "cell_type": "code",
   "execution_count": 41,
   "metadata": {},
   "outputs": [],
   "source": [
    "importlib.reload(test_fn)\n",
    "fn = test_fn.Ackley()\n",
    "\n",
    "low_dim = 2\n",
    "fn_dim = 200\n",
    "\n",
    "x = torch.rand((100,low_dim))\n",
    "A = torch.rand((low_dim, fn_dim))\n",
    "X = x@A\n",
    "y = fn.evaluate(X)\n",
    "\n",
    "# Find best performing points (Alt: Find best performing and nearest neighbors)\n",
    "best_performers_indices = torch.topk(y, 1, largest = False).indices\n",
    "best_performers = X[best_performers_indices]\n",
    "\n",
    "# Update\n",
    "A = best_performers"
   ]
  },
  {
   "cell_type": "code",
   "execution_count": 48,
   "metadata": {},
   "outputs": [],
   "source": [
    "def learn_subspace_best_performers(fn, low_dim, fn_dim, \n",
    "                                   num_best = 1, num_neighbors = 0,\n",
    "                                   twist_subspace = True,\n",
    "                                   twist_step_size = 1,\n",
    "                                   move_subspace = False,\n",
    "                                   move_step_size = 1,\n",
    "                                   restarts = 0,\n",
    "                                   samples = 200, max_iter = 1000, \n",
    "                                   initial_offset = 2, report = True, trace = False):\n",
    "    \n",
    "    best_found = 1e10\n",
    "    A = torch.randn((low_dim, fn_dim))\n",
    "    B = torch.randn(fn_dim) + initial_offset\n",
    "    first_run = True\n",
    "    \n",
    "    for i in range(max_iter):\n",
    "        # Evaluate\n",
    "        x = (torch.rand((samples,low_dim)) * 2) - 1\n",
    "        X = x@A + B\n",
    "        y = fn.evaluate(X)\n",
    "\n",
    "        # Find best performing points (Alt: Find best performing and nearest neighbors)\n",
    "        best_performers_indices = torch.topk(y, num_best, largest = False).indices\n",
    "        \n",
    "        if num_neighbors > 0:\n",
    "            for j in best_performers_indices:\n",
    "                distances = torch.sum((X - X[j,:])**2, dim = 1)\n",
    "                neighbor_indices = torch.topk(distances, num_neighbors, largest = False).indices\n",
    "                neighbor_indices = neighbor_indices[1:]\n",
    "                best_performers_indices = torch.concat([best_performers_indices, neighbor_indices])\n",
    "        \n",
    "        shift_point = X[best_performers_indices]\n",
    "        \n",
    "        \n",
    "\n",
    "        # Update\n",
    "        if twist_subspace:\n",
    "            A = torch.concat([shift_point * twist_step_size, torch.randn((low_dim - num_best, fn_dim))], dim = 0)\n",
    "        else:\n",
    "            # Else, reinitialize the transition matrix\n",
    "            A = torch.randn((low_dim, fn_dim))\n",
    "            \n",
    "        if move_subspace:\n",
    "            if trace:\n",
    "                print(shift_point.shape)\n",
    "            B = torch.mean(shift_point * move_step_size, dim = 0)\n",
    "\n",
    "        # Iterate best found (searching for minimum)\n",
    "        if min(y) < best_found:\n",
    "            best_point = X[best_performers_indices[0]]\n",
    "            best_found = min(y)\n",
    "\n",
    "        if i%int(max_iter/10) == 0 and report == True:\n",
    "            print(f\"Step {i} current min/best min found y is:{min(y):.2f}, {best_found:.2f}\")\n",
    "            \n",
    "    return best_found\n",
    "            \n",
    "#     print(f\"Best point found at {best_point}\")"
   ]
  },
  {
   "cell_type": "code",
   "execution_count": 49,
   "metadata": {
    "collapsed": true
   },
   "outputs": [
    {
     "name": "stdout",
     "output_type": "stream",
     "text": [
      "Mean: {np.mean(results)}\n",
      "Mean: {np.mean(results)}\n",
      "Mean: {np.mean(results)}\n",
      "Mean: {np.mean(results)}\n",
      "Mean: {np.mean(results)}\n",
      "Mean: {np.mean(results)}\n",
      "Mean: {np.mean(results)}\n",
      "Mean: {np.mean(results)}\n",
      "Mean: {np.mean(results)}\n",
      "Mean: {np.mean(results)}\n"
     ]
    }
   ],
   "source": [
    "results = []\n",
    "for i in range(10):\n",
    "    m = learn_subspace_best_performers(fn, 2, 200, \n",
    "                                   initial_offset = 2,\n",
    "                                   num_best = 1, num_neighbors = 0,\n",
    "                                   twist_subspace = False,\n",
    "                                   twist_step_size = 0,\n",
    "                                   move_subspace = True,\n",
    "                                   move_step_size = 1,\n",
    "                                   restarts = 0,\n",
    "                                   report = False)\n",
    "    results.append(m)"
   ]
  },
  {
   "cell_type": "code",
   "execution_count": 50,
   "metadata": {},
   "outputs": [
    {
     "name": "stdout",
     "output_type": "stream",
     "text": [
      "Mean: 6.281429290771484\n"
     ]
    }
   ],
   "source": [
    "print(f\"Mean: {np.mean(results)}\")"
   ]
  },
  {
   "cell_type": "code",
   "execution_count": 53,
   "metadata": {},
   "outputs": [],
   "source": [
    "results = []\n",
    "for i in range(10):\n",
    "    m = learn_subspace_best_performers(fn, 2, 200, \n",
    "                                   initial_offset = 50,\n",
    "                                   num_best = 1, num_neighbors = 0,\n",
    "                                   twist_subspace = False,\n",
    "                                   twist_step_size = 0,\n",
    "                                   move_subspace = True,\n",
    "                                   move_step_size = 1,\n",
    "                                   restarts = 0,\n",
    "                                   report = False)\n",
    "    results.append(m)"
   ]
  },
  {
   "cell_type": "code",
   "execution_count": 54,
   "metadata": {},
   "outputs": [
    {
     "name": "stdout",
     "output_type": "stream",
     "text": [
      "Mean: 15.757272720336914\n"
     ]
    }
   ],
   "source": [
    "print(f\"Mean: {np.mean(results)}\")"
   ]
  },
  {
   "cell_type": "code",
   "execution_count": 55,
   "metadata": {},
   "outputs": [],
   "source": [
    "results = []\n",
    "for i in range(10):\n",
    "    m = learn_subspace_best_performers(fn, 2, 200, \n",
    "                                   initial_offset = 50,\n",
    "                                   num_best = 1, num_neighbors = 0,\n",
    "                                   twist_subspace = True,\n",
    "                                   twist_step_size = 0.5,\n",
    "                                   move_subspace = True,\n",
    "                                   move_step_size = 0.5,\n",
    "                                   restarts = 0,\n",
    "                                   report = False)\n",
    "    results.append(m)"
   ]
  },
  {
   "cell_type": "code",
   "execution_count": 56,
   "metadata": {},
   "outputs": [
    {
     "name": "stdout",
     "output_type": "stream",
     "text": [
      "Mean: 0.0005502700805664062\n"
     ]
    }
   ],
   "source": [
    "print(f\"Mean: {np.mean(results)}\")"
   ]
  },
  {
   "cell_type": "code",
   "execution_count": 57,
   "metadata": {},
   "outputs": [
    {
     "data": {
      "text/plain": [
       "[tensor(0.0004),\n",
       " tensor(0.0006),\n",
       " tensor(0.0004),\n",
       " tensor(0.0005),\n",
       " tensor(0.0006),\n",
       " tensor(0.0008),\n",
       " tensor(0.0006),\n",
       " tensor(0.0003),\n",
       " tensor(0.0008),\n",
       " tensor(0.0005)]"
      ]
     },
     "execution_count": 57,
     "metadata": {},
     "output_type": "execute_result"
    }
   ],
   "source": [
    "results"
   ]
  },
  {
   "cell_type": "code",
   "execution_count": 63,
   "metadata": {},
   "outputs": [],
   "source": [
    "results = []\n",
    "for i in range(10):\n",
    "    m = learn_subspace_best_performers(fn, 2, 200, \n",
    "                                   initial_offset = -100,\n",
    "                                   num_best = 1, num_neighbors = 0,\n",
    "                                   twist_subspace = True,\n",
    "                                   twist_step_size = 0.5,\n",
    "                                   move_subspace = True,\n",
    "                                   move_step_size = 0.5,\n",
    "                                   restarts = 0,\n",
    "                                   report = False)\n",
    "    results.append(m)"
   ]
  },
  {
   "cell_type": "code",
   "execution_count": 64,
   "metadata": {},
   "outputs": [
    {
     "name": "stdout",
     "output_type": "stream",
     "text": [
      "Mean: 0.0005853652837686241\n"
     ]
    }
   ],
   "source": [
    "print(f\"Mean: {np.mean(results)}\")"
   ]
  },
  {
   "cell_type": "code",
   "execution_count": 65,
   "metadata": {},
   "outputs": [
    {
     "data": {
      "text/plain": [
       "[tensor(0.0004),\n",
       " tensor(0.0003),\n",
       " tensor(0.0006),\n",
       " tensor(0.0007),\n",
       " tensor(0.0004),\n",
       " tensor(0.0006),\n",
       " tensor(0.0009),\n",
       " tensor(0.0007),\n",
       " tensor(0.0006),\n",
       " tensor(0.0007)]"
      ]
     },
     "execution_count": 65,
     "metadata": {},
     "output_type": "execute_result"
    }
   ],
   "source": [
    "results"
   ]
  },
  {
   "cell_type": "code",
   "execution_count": 31,
   "metadata": {},
   "outputs": [
    {
     "name": "stdout",
     "output_type": "stream",
     "text": [
      "Step 0 current min/best min found y is:12.53, 12.53\n",
      "Step 100 current min/best min found y is:12.83, 11.59\n",
      "Step 200 current min/best min found y is:13.12, 11.59\n",
      "Step 300 current min/best min found y is:12.37, 11.51\n",
      "Step 400 current min/best min found y is:12.55, 11.51\n",
      "Step 500 current min/best min found y is:12.89, 11.51\n",
      "Step 600 current min/best min found y is:12.73, 11.51\n",
      "Step 700 current min/best min found y is:13.03, 11.33\n",
      "Step 800 current min/best min found y is:12.81, 11.33\n",
      "Step 900 current min/best min found y is:12.38, 11.33\n"
     ]
    },
    {
     "data": {
      "text/plain": [
       "tensor(11.3344)"
      ]
     },
     "execution_count": 31,
     "metadata": {},
     "output_type": "execute_result"
    }
   ],
   "source": [
    "learn_subspace_best_performers(fn, 50, 200, \n",
    "                               num_best = 2, num_neighbors = 0,\n",
    "                               move_subspace = False,\n",
    "                               move_step_size = 1,\n",
    "                               restarts = 0)"
   ]
  },
  {
   "cell_type": "code",
   "execution_count": 32,
   "metadata": {},
   "outputs": [
    {
     "name": "stdout",
     "output_type": "stream",
     "text": [
      "Step 0 current min/best min found y is:12.23, 12.23\n",
      "Step 100 current min/best min found y is:12.77, 11.32\n",
      "Step 200 current min/best min found y is:12.02, 11.29\n",
      "Step 300 current min/best min found y is:12.36, 11.29\n",
      "Step 400 current min/best min found y is:12.19, 11.22\n",
      "Step 500 current min/best min found y is:12.46, 11.22\n",
      "Step 600 current min/best min found y is:12.55, 11.22\n",
      "Step 700 current min/best min found y is:12.20, 11.22\n",
      "Step 800 current min/best min found y is:12.17, 11.22\n",
      "Step 900 current min/best min found y is:12.42, 11.22\n"
     ]
    },
    {
     "data": {
      "text/plain": [
       "tensor(11.2159)"
      ]
     },
     "execution_count": 32,
     "metadata": {},
     "output_type": "execute_result"
    }
   ],
   "source": [
    "learn_subspace_best_performers(fn, 50, 200, \n",
    "                               num_best = 2, num_neighbors = 0,\n",
    "                               twist_subspace = True,\n",
    "                               move_subspace = False,\n",
    "                               twist_step_size = 0.5,\n",
    "                               restarts = 0)"
   ]
  },
  {
   "cell_type": "code",
   "execution_count": 33,
   "metadata": {},
   "outputs": [
    {
     "name": "stdout",
     "output_type": "stream",
     "text": [
      "Step 0 current min/best min found y is:12.53, 12.53\n",
      "Step 1000 current min/best min found y is:13.07, 11.69\n",
      "Step 2000 current min/best min found y is:13.03, 11.69\n",
      "Step 3000 current min/best min found y is:12.96, 11.69\n",
      "Step 4000 current min/best min found y is:12.93, 11.69\n",
      "Step 5000 current min/best min found y is:12.02, 11.69\n",
      "Step 6000 current min/best min found y is:13.13, 11.69\n",
      "Step 7000 current min/best min found y is:12.74, 11.69\n",
      "Step 8000 current min/best min found y is:12.71, 11.62\n",
      "Step 9000 current min/best min found y is:13.06, 11.62\n"
     ]
    },
    {
     "data": {
      "text/plain": [
       "tensor(11.6197)"
      ]
     },
     "execution_count": 33,
     "metadata": {},
     "output_type": "execute_result"
    }
   ],
   "source": [
    "learn_subspace_best_performers(fn, 50, 200, \n",
    "                               num_best = 2, num_neighbors = 1,\n",
    "                               twist_subspace = False,\n",
    "                               move_subspace = True,\n",
    "                               move_step_size = 0.8,\n",
    "                               max_iter = 10000,\n",
    "                               restarts = 0)"
   ]
  },
  {
   "cell_type": "code",
   "execution_count": 34,
   "metadata": {},
   "outputs": [
    {
     "name": "stdout",
     "output_type": "stream",
     "text": [
      "Step 0 current min/best min found y is:8.92, 8.92\n",
      "Step 1000 current min/best min found y is:3.31, 2.64\n",
      "Step 2000 current min/best min found y is:3.54, 2.62\n",
      "Step 3000 current min/best min found y is:2.84, 2.21\n",
      "Step 4000 current min/best min found y is:3.61, 2.21\n",
      "Step 5000 current min/best min found y is:3.22, 1.95\n",
      "Step 6000 current min/best min found y is:3.58, 1.95\n",
      "Step 7000 current min/best min found y is:3.63, 1.95\n",
      "Step 8000 current min/best min found y is:3.82, 1.95\n",
      "Step 9000 current min/best min found y is:3.60, 1.95\n"
     ]
    },
    {
     "data": {
      "text/plain": [
       "tensor(1.9476)"
      ]
     },
     "execution_count": 34,
     "metadata": {},
     "output_type": "execute_result"
    }
   ],
   "source": [
    "learn_subspace_best_performers(fn, 4, 200, \n",
    "                               num_best = 2, num_neighbors = 0,\n",
    "                               twist_subspace = False,\n",
    "                               move_subspace = True,\n",
    "                               move_step_size = 0.8,\n",
    "                               max_iter = 10000,\n",
    "                               restarts = 0)"
   ]
  },
  {
   "cell_type": "code",
   "execution_count": 35,
   "metadata": {},
   "outputs": [
    {
     "name": "stdout",
     "output_type": "stream",
     "text": [
      "Step 0 current min/best min found y is:8.76, 8.76\n",
      "Step 1000 current min/best min found y is:7.94, 1.37\n",
      "Step 2000 current min/best min found y is:4.26, 1.37\n",
      "Step 3000 current min/best min found y is:7.47, 1.37\n",
      "Step 4000 current min/best min found y is:4.60, 1.37\n",
      "Step 5000 current min/best min found y is:7.32, 1.37\n",
      "Step 6000 current min/best min found y is:8.31, 1.37\n",
      "Step 7000 current min/best min found y is:3.80, 1.37\n",
      "Step 8000 current min/best min found y is:4.60, 1.37\n",
      "Step 9000 current min/best min found y is:5.37, 1.37\n"
     ]
    },
    {
     "data": {
      "text/plain": [
       "tensor(1.3690)"
      ]
     },
     "execution_count": 35,
     "metadata": {},
     "output_type": "execute_result"
    }
   ],
   "source": [
    "learn_subspace_best_performers(fn, 4, 200, \n",
    "                               num_best = 2, num_neighbors = 0,\n",
    "                               twist_subspace = True,\n",
    "                               move_subspace = False,\n",
    "                               twist_step_size = 0.8,\n",
    "                               max_iter = 10000,\n",
    "                               restarts = 0)"
   ]
  },
  {
   "cell_type": "code",
   "execution_count": 36,
   "metadata": {},
   "outputs": [
    {
     "name": "stdout",
     "output_type": "stream",
     "text": [
      "Step 0 current min/best min found y is:8.82, 8.82\n",
      "Step 1 current min/best min found y is:7.55, 7.55\n",
      "Step 2 current min/best min found y is:6.52, 6.52\n",
      "Step 3 current min/best min found y is:5.64, 5.64\n",
      "Step 4 current min/best min found y is:4.98, 4.98\n",
      "Step 5 current min/best min found y is:4.56, 4.56\n",
      "Step 6 current min/best min found y is:4.33, 4.33\n",
      "Step 7 current min/best min found y is:3.80, 3.80\n",
      "Step 8 current min/best min found y is:4.06, 3.80\n",
      "Step 9 current min/best min found y is:3.75, 3.75\n"
     ]
    },
    {
     "data": {
      "text/plain": [
       "tensor(3.7460)"
      ]
     },
     "execution_count": 36,
     "metadata": {},
     "output_type": "execute_result"
    }
   ],
   "source": [
    "learn_subspace_best_performers(fn, 4, 200, \n",
    "                               num_best = 2, num_neighbors = 0,\n",
    "                               twist_subspace = False,\n",
    "                               move_subspace = True,\n",
    "                               move_step_size = 0.8,\n",
    "                               max_iter = 10,\n",
    "                               restarts = 0)"
   ]
  },
  {
   "cell_type": "code",
   "execution_count": 37,
   "metadata": {},
   "outputs": [
    {
     "name": "stdout",
     "output_type": "stream",
     "text": [
      "Step 0 current min/best min found y is:21.57, 21.57\n",
      "Step 500 current min/best min found y is:3.48, 2.51\n",
      "Step 1000 current min/best min found y is:3.41, 2.43\n",
      "Step 1500 current min/best min found y is:3.79, 2.43\n",
      "Step 2000 current min/best min found y is:3.56, 2.43\n",
      "Step 2500 current min/best min found y is:3.57, 2.43\n",
      "Step 3000 current min/best min found y is:3.20, 2.43\n",
      "Step 3500 current min/best min found y is:3.12, 2.42\n",
      "Step 4000 current min/best min found y is:3.34, 2.42\n",
      "Step 4500 current min/best min found y is:3.41, 2.42\n"
     ]
    },
    {
     "data": {
      "text/plain": [
       "tensor(2.4211)"
      ]
     },
     "execution_count": 37,
     "metadata": {},
     "output_type": "execute_result"
    }
   ],
   "source": [
    "learn_subspace_best_performers(fn, 4, 200, \n",
    "                               num_best = 2, num_neighbors = 0,\n",
    "                               twist_subspace = False,\n",
    "                               move_subspace = True,\n",
    "                               move_step_size = 0.8,\n",
    "                               max_iter = 5000,\n",
    "                               restarts = 0,\n",
    "                               initial_offset = 50)"
   ]
  },
  {
   "cell_type": "code",
   "execution_count": 38,
   "metadata": {},
   "outputs": [
    {
     "name": "stdout",
     "output_type": "stream",
     "text": [
      "Step 0 current min/best min found y is:21.57, 21.57\n",
      "Step 500 current min/best min found y is:21.57, 3.84\n",
      "Step 1000 current min/best min found y is:21.57, 2.78\n",
      "Step 1500 current min/best min found y is:21.57, 2.78\n",
      "Step 2000 current min/best min found y is:21.57, 2.78\n",
      "Step 2500 current min/best min found y is:21.57, 2.78\n",
      "Step 3000 current min/best min found y is:21.57, 2.78\n",
      "Step 3500 current min/best min found y is:21.57, 2.78\n",
      "Step 4000 current min/best min found y is:21.57, 2.78\n",
      "Step 4500 current min/best min found y is:21.57, 2.78\n"
     ]
    },
    {
     "data": {
      "text/plain": [
       "tensor(2.7781)"
      ]
     },
     "execution_count": 38,
     "metadata": {},
     "output_type": "execute_result"
    }
   ],
   "source": [
    "learn_subspace_best_performers(fn, 4, 200, \n",
    "                               num_best = 2, num_neighbors = 0,\n",
    "                               twist_subspace = True,\n",
    "                               move_subspace = False,\n",
    "                               twist_step_size = 0.8,\n",
    "                               max_iter = 5000,\n",
    "                               restarts = 0,\n",
    "                               initial_offset = 50)"
   ]
  },
  {
   "cell_type": "code",
   "execution_count": null,
   "metadata": {},
   "outputs": [],
   "source": []
  }
 ],
 "metadata": {
  "kernelspec": {
   "display_name": "Python 3",
   "language": "python",
   "name": "python3"
  },
  "language_info": {
   "codemirror_mode": {
    "name": "ipython",
    "version": 3
   },
   "file_extension": ".py",
   "mimetype": "text/x-python",
   "name": "python",
   "nbconvert_exporter": "python",
   "pygments_lexer": "ipython3",
   "version": "3.8.8"
  },
  "toc": {
   "base_numbering": 1,
   "nav_menu": {},
   "number_sections": true,
   "sideBar": true,
   "skip_h1_title": false,
   "title_cell": "Table of Contents",
   "title_sidebar": "Contents",
   "toc_cell": false,
   "toc_position": {},
   "toc_section_display": true,
   "toc_window_display": true
  }
 },
 "nbformat": 4,
 "nbformat_minor": 2
}
