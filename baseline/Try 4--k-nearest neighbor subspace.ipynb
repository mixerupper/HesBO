{
 "cells": [
  {
   "cell_type": "code",
   "execution_count": 1,
   "metadata": {},
   "outputs": [],
   "source": [
    "import numpy as np\n",
    "import pandas as pd\n",
    "import matplotlib.pyplot as plt\n",
    "import math as math\n",
    "import torch\n",
    "import test_fn"
   ]
  },
  {
   "cell_type": "code",
   "execution_count": 2,
   "metadata": {},
   "outputs": [
    {
     "data": {
      "text/plain": [
       "<module 'test_fn' from 'C:\\\\Users\\\\ayeh21\\\\Documents\\\\HesBO\\\\baseline\\\\test_fn.py'>"
      ]
     },
     "execution_count": 2,
     "metadata": {},
     "output_type": "execute_result"
    }
   ],
   "source": [
    "import importlib\n",
    "importlib.reload(test_fn)"
   ]
  },
  {
   "cell_type": "markdown",
   "metadata": {},
   "source": [
    "# Algorithm 1: Shift or twist subspace to best performing points"
   ]
  },
  {
   "cell_type": "code",
   "execution_count": 8,
   "metadata": {},
   "outputs": [],
   "source": [
    "importlib.reload(test_fn)\n",
    "fn = test_fn.Ackley()\n",
    "x = torch.rand((100,low_dim))\n",
    "A = torch.rand((low_dim, fn_dim))\n",
    "X = x@A\n",
    "y = fn.evaluate(X)\n",
    "\n",
    "# Find best performing points (Alt: Find best performing and nearest neighbors)\n",
    "best_performers_indices = torch.topk(y, 1, largest = False).indices\n",
    "best_performers = X[best_performers_indices]\n",
    "\n",
    "# Update\n",
    "A = best_performers"
   ]
  },
  {
   "cell_type": "code",
   "execution_count": 15,
   "metadata": {},
   "outputs": [],
   "source": [
    "def learn_subspace_best_performers(fn, low_dim, fn_dim, \n",
    "                                   num_best = 1, num_neighbors = 0,\n",
    "                                   move_subspace = True,\n",
    "                                   step_size = 1,\n",
    "                                   restarts = 0,\n",
    "                                   samples = 200, max_iter = 1000, \n",
    "                                   initial_offset = 2, trace = False):\n",
    "    \n",
    "    best_found = 1e10\n",
    "    A = torch.randn((low_dim, fn_dim))\n",
    "    B = torch.randn(fn_dim) + initial_offset\n",
    "    first_run = True\n",
    "    \n",
    "    for i in range(max_iter):\n",
    "        # Evaluate\n",
    "        x = (torch.rand((samples,low_dim)) * 2) - 1\n",
    "        X = x@A + B\n",
    "        y = fn.evaluate(X)\n",
    "\n",
    "        # Find best performing points (Alt: Find best performing and nearest neighbors)\n",
    "        best_performers_indices = torch.topk(y, num_best, largest = False).indices\n",
    "        \n",
    "        if num_neighbors > 0:\n",
    "            for j in best_performers_indices:\n",
    "                distances = torch.sum((X - X[j,:])**2, dim = 1)\n",
    "                neighbor_indices = torch.topk(distances, num_neighbors, largest = False).indices\n",
    "                neighbor_indices = neighbor_indices[1:]\n",
    "                best_performers_indices = torch.concat([best_performers_indices, neighbor_indices])\n",
    "        \n",
    "        shift_point = X[best_performers_indices] * step_size\n",
    "        \n",
    "        \n",
    "\n",
    "        # Update\n",
    "        if move_subspace:\n",
    "            A = torch.concat([shift_point, torch.randn((low_dim - num_best, fn_dim))], dim = 0)\n",
    "        else:\n",
    "            if trace:\n",
    "                print(shift_point.shape)\n",
    "            B = torch.mean(shift_point, dim = 0)\n",
    "            A = torch.randn((low_dim, fn_dim))\n",
    "\n",
    "        # Iterate best found (searching for minimum)\n",
    "        if min(y) < best_found:\n",
    "            best_point = X[best_performers_indices[0]]\n",
    "            best_found = min(y)\n",
    "\n",
    "        if i%int(max_iter/10) == 0:\n",
    "            print(f\"Current min/best min found y is:{min(y):.2f}, {best_found:.2f}\")\n",
    "            \n",
    "#     print(f\"Best point found at {best_point}\")"
   ]
  },
  {
   "cell_type": "code",
   "execution_count": 71,
   "metadata": {},
   "outputs": [
    {
     "name": "stdout",
     "output_type": "stream",
     "text": [
      "Current min/best min found y is:11.68, 11.68\n",
      "Current min/best min found y is:11.71, 10.98\n",
      "Current min/best min found y is:11.38, 10.81\n",
      "Current min/best min found y is:11.91, 10.81\n",
      "Current min/best min found y is:11.72, 10.67\n",
      "Current min/best min found y is:11.42, 10.67\n",
      "Current min/best min found y is:11.69, 10.67\n",
      "Current min/best min found y is:11.04, 10.67\n",
      "Current min/best min found y is:12.06, 10.24\n",
      "Current min/best min found y is:11.55, 10.24\n"
     ]
    }
   ],
   "source": [
    "learn_subspace_best_performers(fn, 50, 200, \n",
    "                               num_best = 1, num_neighbors = 0,\n",
    "                               move_subspace = True,\n",
    "                               step_size = 1,\n",
    "                               restarts = 0)"
   ]
  },
  {
   "cell_type": "code",
   "execution_count": 72,
   "metadata": {},
   "outputs": [
    {
     "name": "stdout",
     "output_type": "stream",
     "text": [
      "Current min/best min found y is:11.29, 11.29\n",
      "Current min/best min found y is:16.90, 11.29\n",
      "Current min/best min found y is:16.29, 11.29\n",
      "Current min/best min found y is:16.66, 11.29\n",
      "Current min/best min found y is:16.73, 11.29\n",
      "Current min/best min found y is:16.75, 11.29\n",
      "Current min/best min found y is:16.97, 11.29\n",
      "Current min/best min found y is:16.64, 11.29\n",
      "Current min/best min found y is:16.49, 11.29\n",
      "Current min/best min found y is:16.20, 11.29\n"
     ]
    }
   ],
   "source": [
    "learn_subspace_best_performers(fn, 50, 200, \n",
    "                               num_best = 2, num_neighbors = 0,\n",
    "                               move_subspace = False,\n",
    "                               step_size = 1,\n",
    "                               restarts = 0)"
   ]
  },
  {
   "cell_type": "code",
   "execution_count": 73,
   "metadata": {},
   "outputs": [
    {
     "name": "stdout",
     "output_type": "stream",
     "text": [
      "Current min/best min found y is:11.47, 11.47\n",
      "Current min/best min found y is:11.41, 10.67\n",
      "Current min/best min found y is:11.58, 10.55\n",
      "Current min/best min found y is:11.18, 10.36\n",
      "Current min/best min found y is:11.51, 10.36\n",
      "Current min/best min found y is:11.94, 10.36\n",
      "Current min/best min found y is:12.10, 10.36\n",
      "Current min/best min found y is:11.69, 10.18\n",
      "Current min/best min found y is:11.75, 10.18\n",
      "Current min/best min found y is:11.90, 10.18\n"
     ]
    }
   ],
   "source": [
    "learn_subspace_best_performers(fn, 50, 200, \n",
    "                               num_best = 2, num_neighbors = 0,\n",
    "                               move_subspace = False,\n",
    "                               step_size = 0.5,\n",
    "                               restarts = 0)"
   ]
  },
  {
   "cell_type": "code",
   "execution_count": 74,
   "metadata": {},
   "outputs": [
    {
     "name": "stdout",
     "output_type": "stream",
     "text": [
      "Current min/best min found y is:11.35, 11.35\n",
      "Current min/best min found y is:12.05, 10.45\n",
      "Current min/best min found y is:11.54, 10.45\n",
      "Current min/best min found y is:11.65, 10.45\n",
      "Current min/best min found y is:11.38, 10.45\n",
      "Current min/best min found y is:11.22, 10.40\n",
      "Current min/best min found y is:11.69, 10.01\n",
      "Current min/best min found y is:11.57, 10.01\n",
      "Current min/best min found y is:11.74, 10.01\n",
      "Current min/best min found y is:11.99, 9.96\n"
     ]
    }
   ],
   "source": [
    "learn_subspace_best_performers(fn, 50, 200, \n",
    "                               num_best = 2, num_neighbors = 1,\n",
    "                               move_subspace = True,\n",
    "                               step_size = 0.8,\n",
    "                               max_iter = 10000,\n",
    "                               restarts = 0)"
   ]
  },
  {
   "cell_type": "code",
   "execution_count": 12,
   "metadata": {},
   "outputs": [
    {
     "name": "stdout",
     "output_type": "stream",
     "text": [
      "Current min/best min found y is:9.00, 9.00\n",
      "Current min/best min found y is:4.97, 2.26\n",
      "Current min/best min found y is:8.06, 2.26\n",
      "Current min/best min found y is:4.24, 2.26\n",
      "Current min/best min found y is:8.86, 2.26\n",
      "Current min/best min found y is:3.14, 2.26\n",
      "Current min/best min found y is:7.42, 1.96\n",
      "Current min/best min found y is:7.52, 1.96\n",
      "Current min/best min found y is:8.82, 1.72\n",
      "Current min/best min found y is:8.18, 1.72\n"
     ]
    }
   ],
   "source": [
    "learn_subspace_best_performers(fn, 4, 200, \n",
    "                               num_best = 2, num_neighbors = 0,\n",
    "                               move_subspace = True,\n",
    "                               step_size = 0.8,\n",
    "                               max_iter = 10000,\n",
    "                               restarts = 0)"
   ]
  },
  {
   "cell_type": "code",
   "execution_count": 76,
   "metadata": {},
   "outputs": [
    {
     "name": "stdout",
     "output_type": "stream",
     "text": [
      "Current min/best min found y is:5.19, 5.19\n",
      "Current min/best min found y is:3.29, 2.33\n",
      "Current min/best min found y is:2.81, 2.33\n",
      "Current min/best min found y is:3.66, 2.24\n",
      "Current min/best min found y is:2.87, 2.24\n",
      "Current min/best min found y is:3.12, 2.24\n",
      "Current min/best min found y is:3.34, 2.24\n",
      "Current min/best min found y is:3.62, 2.24\n",
      "Current min/best min found y is:3.26, 2.24\n",
      "Current min/best min found y is:3.38, 2.24\n"
     ]
    }
   ],
   "source": [
    "learn_subspace_best_performers(fn, 4, 200, \n",
    "                               num_best = 2, num_neighbors = 0,\n",
    "                               move_subspace = False,\n",
    "                               step_size = 0.8,\n",
    "                               max_iter = 10000,\n",
    "                               restarts = 0)"
   ]
  },
  {
   "cell_type": "code",
   "execution_count": 77,
   "metadata": {},
   "outputs": [
    {
     "name": "stdout",
     "output_type": "stream",
     "text": [
      "Current min/best min found y is:5.35, 5.35\n",
      "Current min/best min found y is:1.54, 1.54\n",
      "Current min/best min found y is:4.92, 1.54\n",
      "Current min/best min found y is:3.02, 1.54\n",
      "Current min/best min found y is:5.04, 1.54\n",
      "Current min/best min found y is:3.38, 1.54\n",
      "Current min/best min found y is:4.96, 1.54\n",
      "Current min/best min found y is:2.83, 1.54\n",
      "Current min/best min found y is:4.70, 1.54\n",
      "Current min/best min found y is:3.10, 1.54\n"
     ]
    }
   ],
   "source": [
    "learn_subspace_best_performers(fn, 4, 200, \n",
    "                               num_best = 2, num_neighbors = 0,\n",
    "                               move_subspace = True,\n",
    "                               step_size = 0.8,\n",
    "                               max_iter = 10,\n",
    "                               restarts = 0)"
   ]
  },
  {
   "cell_type": "code",
   "execution_count": 19,
   "metadata": {},
   "outputs": [
    {
     "name": "stdout",
     "output_type": "stream",
     "text": [
      "Current min/best min found y is:21.57, 21.57\n",
      "Current min/best min found y is:21.57, 3.79\n",
      "Current min/best min found y is:21.57, 3.32\n",
      "Current min/best min found y is:21.57, 3.28\n",
      "Current min/best min found y is:21.57, 3.28\n",
      "Current min/best min found y is:21.57, 3.28\n",
      "Current min/best min found y is:21.57, 3.28\n",
      "Current min/best min found y is:21.57, 3.28\n",
      "Current min/best min found y is:21.57, 2.80\n",
      "Current min/best min found y is:21.57, 2.80\n"
     ]
    }
   ],
   "source": [
    "learn_subspace_best_performers(fn, 4, 200, \n",
    "                               num_best = 2, num_neighbors = 0,\n",
    "                               move_subspace = True,\n",
    "                               step_size = 0.8,\n",
    "                               max_iter = 5000,\n",
    "                               restarts = 0,\n",
    "                               initial_offset = 50)"
   ]
  },
  {
   "cell_type": "code",
   "execution_count": null,
   "metadata": {},
   "outputs": [
    {
     "name": "stdout",
     "output_type": "stream",
     "text": [
      "Current min/best min found y is:21.57, 21.57\n",
      "Current min/best min found y is:3.76, 2.61\n"
     ]
    }
   ],
   "source": [
    "learn_subspace_best_performers(fn, 4, 200, \n",
    "                               num_best = 2, num_neighbors = 0,\n",
    "                               move_subspace = False,\n",
    "                               step_size = 0.8,\n",
    "                               max_iter = 5000,\n",
    "                               restarts = 0,\n",
    "                               initial_offset = 50)"
   ]
  },
  {
   "cell_type": "code",
   "execution_count": null,
   "metadata": {},
   "outputs": [],
   "source": []
  }
 ],
 "metadata": {
  "kernelspec": {
   "display_name": "Python 3",
   "language": "python",
   "name": "python3"
  },
  "language_info": {
   "codemirror_mode": {
    "name": "ipython",
    "version": 3
   },
   "file_extension": ".py",
   "mimetype": "text/x-python",
   "name": "python",
   "nbconvert_exporter": "python",
   "pygments_lexer": "ipython3",
   "version": "3.8.8"
  },
  "toc": {
   "base_numbering": 1,
   "nav_menu": {},
   "number_sections": true,
   "sideBar": true,
   "skip_h1_title": false,
   "title_cell": "Table of Contents",
   "title_sidebar": "Contents",
   "toc_cell": false,
   "toc_position": {},
   "toc_section_display": true,
   "toc_window_display": true
  }
 },
 "nbformat": 4,
 "nbformat_minor": 2
}
